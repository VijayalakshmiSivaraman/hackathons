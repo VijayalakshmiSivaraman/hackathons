{
 "cells": [
  {
   "cell_type": "code",
   "execution_count": 1,
   "metadata": {
    "_cell_guid": "b1076dfc-b9ad-4769-8c92-a6c4dae69d19",
    "_uuid": "8f2839f25d086af736a60e9eeb907d3b93b6e0e5",
    "execution": {
     "iopub.execute_input": "2021-07-25T07:14:11.410586Z",
     "iopub.status.busy": "2021-07-25T07:14:11.408766Z",
     "iopub.status.idle": "2021-07-25T07:14:11.425656Z",
     "shell.execute_reply": "2021-07-25T07:14:11.424842Z",
     "shell.execute_reply.started": "2021-07-25T05:12:22.634384Z"
    },
    "papermill": {
     "duration": 0.101663,
     "end_time": "2021-07-25T07:14:11.425841",
     "exception": false,
     "start_time": "2021-07-25T07:14:11.324178",
     "status": "completed"
    },
    "tags": []
   },
   "outputs": [],
   "source": [
    "# This Python 3 environment comes with many helpful analytics libraries installed\n",
    "# It is defined by the kaggle/python Docker image: https://github.com/kaggle/docker-python\n",
    "# For example, here's several helpful packages to load\n",
    "\n",
    "import numpy as np # linear algebra\n",
    "import pandas as pd # data processing, CSV file I/O (e.g. pd.read_csv)\n",
    "\n",
    "# Input data files are available in the read-only \"../input/\" directory\n",
    "# For example, running this (by clicking run or pressing Shift+Enter) will list all files under the input directory\n",
    "\n",
    "import os\n",
    "for dirname, _, filenames in os.walk('/kaggle/input'):\n",
    "    for filename in filenames:\n",
    "        print(os.path.join(dirname, filename))\n",
    "\n",
    "# You can write up to 20GB to the current directory (/kaggle/working/) that gets preserved as output when you create a version using \"Save & Run All\" \n",
    "# You can also write temporary files to /kaggle/temp/, but they won't be saved outside of the current session"
   ]
  },
  {
   "cell_type": "code",
   "execution_count": 2,
   "metadata": {
    "execution": {
     "iopub.execute_input": "2021-07-25T07:14:11.587814Z",
     "iopub.status.busy": "2021-07-25T07:14:11.587010Z",
     "iopub.status.idle": "2021-07-25T07:14:12.990612Z",
     "shell.execute_reply": "2021-07-25T07:14:12.989970Z",
     "shell.execute_reply.started": "2021-07-25T05:12:22.645602Z"
    },
    "papermill": {
     "duration": 1.487379,
     "end_time": "2021-07-25T07:14:12.990821",
     "exception": false,
     "start_time": "2021-07-25T07:14:11.503442",
     "status": "completed"
    },
    "tags": []
   },
   "outputs": [],
   "source": [
    "#Import libraries \n",
    "import numpy as np # linear algebra\n",
    "import pandas as pd # data processing, CSV file I/O (e.g. pd.read_csv)\n",
    "import matplotlib.pyplot as plt\n",
    "import seaborn as sns\n",
    "from sklearn.linear_model import LinearRegression, Ridge, Lasso, ElasticNet\n",
    "\n",
    "from sklearn.metrics import mean_squared_error\n",
    "\n",
    "%matplotlib inline "
   ]
  },
  {
   "cell_type": "code",
   "execution_count": 3,
   "metadata": {
    "execution": {
     "iopub.execute_input": "2021-07-25T07:14:13.151445Z",
     "iopub.status.busy": "2021-07-25T07:14:13.150703Z",
     "iopub.status.idle": "2021-07-25T07:14:13.240511Z",
     "shell.execute_reply": "2021-07-25T07:14:13.239467Z",
     "shell.execute_reply.started": "2021-07-25T06:59:30.100417Z"
    },
    "papermill": {
     "duration": 0.17277,
     "end_time": "2021-07-25T07:14:13.240662",
     "exception": false,
     "start_time": "2021-07-25T07:14:13.067892",
     "status": "completed"
    },
    "tags": []
   },
   "outputs": [],
   "source": [
    "train_df = pd.read_csv(r\"C:\\Users\\lenovo\\Documents\\Uma\\data\\house-prices-advanced-regression-techniques\\train.csv\")\n",
    "test_df = pd.read_csv(r\"C:\\Users\\lenovo\\Documents\\Uma\\data\\house-prices-advanced-regression-techniques\\test.csv\")\n",
    "sample_submission = pd.read_csv(r\"C:\\Users\\lenovo\\Documents\\Uma\\data\\house-prices-advanced-regression-techniques\\sample_submission.csv\")"
   ]
  },
  {
   "cell_type": "code",
   "execution_count": 4,
   "metadata": {
    "execution": {
     "iopub.execute_input": "2021-07-25T07:14:13.402594Z",
     "iopub.status.busy": "2021-07-25T07:14:13.401927Z",
     "iopub.status.idle": "2021-07-25T07:14:13.404851Z",
     "shell.execute_reply": "2021-07-25T07:14:13.405373Z",
     "shell.execute_reply.started": "2021-07-25T05:12:23.785731Z"
    },
    "papermill": {
     "duration": 0.087487,
     "end_time": "2021-07-25T07:14:13.405558",
     "exception": false,
     "start_time": "2021-07-25T07:14:13.318071",
     "status": "completed"
    },
    "tags": []
   },
   "outputs": [
    {
     "data": {
      "text/plain": [
       "((1460, 81), (1459, 80))"
      ]
     },
     "execution_count": 4,
     "metadata": {},
     "output_type": "execute_result"
    }
   ],
   "source": [
    "train_df.shape, test_df.shape"
   ]
  },
  {
   "cell_type": "code",
   "execution_count": 5,
   "metadata": {
    "execution": {
     "iopub.execute_input": "2021-07-25T07:14:13.563736Z",
     "iopub.status.busy": "2021-07-25T07:14:13.563047Z",
     "iopub.status.idle": "2021-07-25T07:14:13.578461Z",
     "shell.execute_reply": "2021-07-25T07:14:13.579000Z",
     "shell.execute_reply.started": "2021-07-25T05:12:23.795410Z"
    },
    "papermill": {
     "duration": 0.09638,
     "end_time": "2021-07-25T07:14:13.579198",
     "exception": false,
     "start_time": "2021-07-25T07:14:13.482818",
     "status": "completed"
    },
    "tags": []
   },
   "outputs": [
    {
     "data": {
      "text/plain": [
       "Index(['SalePrice'], dtype='object')"
      ]
     },
     "execution_count": 5,
     "metadata": {},
     "output_type": "execute_result"
    }
   ],
   "source": [
    "train_df.columns.difference(test_df.columns)"
   ]
  },
  {
   "cell_type": "code",
   "execution_count": 6,
   "metadata": {
    "execution": {
     "iopub.execute_input": "2021-07-25T07:14:13.740925Z",
     "iopub.status.busy": "2021-07-25T07:14:13.740227Z",
     "iopub.status.idle": "2021-07-25T07:14:13.770077Z",
     "shell.execute_reply": "2021-07-25T07:14:13.770683Z",
     "shell.execute_reply.started": "2021-07-25T05:12:23.818140Z"
    },
    "papermill": {
     "duration": 0.114027,
     "end_time": "2021-07-25T07:14:13.770860",
     "exception": false,
     "start_time": "2021-07-25T07:14:13.656833",
     "status": "completed"
    },
    "tags": []
   },
   "outputs": [
    {
     "name": "stdout",
     "output_type": "stream",
     "text": [
      "<class 'pandas.core.frame.DataFrame'>\n",
      "RangeIndex: 1460 entries, 0 to 1459\n",
      "Data columns (total 81 columns):\n",
      " #   Column         Non-Null Count  Dtype  \n",
      "---  ------         --------------  -----  \n",
      " 0   Id             1460 non-null   int64  \n",
      " 1   MSSubClass     1460 non-null   int64  \n",
      " 2   MSZoning       1460 non-null   object \n",
      " 3   LotFrontage    1201 non-null   float64\n",
      " 4   LotArea        1460 non-null   int64  \n",
      " 5   Street         1460 non-null   object \n",
      " 6   Alley          91 non-null     object \n",
      " 7   LotShape       1460 non-null   object \n",
      " 8   LandContour    1460 non-null   object \n",
      " 9   Utilities      1460 non-null   object \n",
      " 10  LotConfig      1460 non-null   object \n",
      " 11  LandSlope      1460 non-null   object \n",
      " 12  Neighborhood   1460 non-null   object \n",
      " 13  Condition1     1460 non-null   object \n",
      " 14  Condition2     1460 non-null   object \n",
      " 15  BldgType       1460 non-null   object \n",
      " 16  HouseStyle     1460 non-null   object \n",
      " 17  OverallQual    1460 non-null   int64  \n",
      " 18  OverallCond    1460 non-null   int64  \n",
      " 19  YearBuilt      1460 non-null   int64  \n",
      " 20  YearRemodAdd   1460 non-null   int64  \n",
      " 21  RoofStyle      1460 non-null   object \n",
      " 22  RoofMatl       1460 non-null   object \n",
      " 23  Exterior1st    1460 non-null   object \n",
      " 24  Exterior2nd    1460 non-null   object \n",
      " 25  MasVnrType     1452 non-null   object \n",
      " 26  MasVnrArea     1452 non-null   float64\n",
      " 27  ExterQual      1460 non-null   object \n",
      " 28  ExterCond      1460 non-null   object \n",
      " 29  Foundation     1460 non-null   object \n",
      " 30  BsmtQual       1423 non-null   object \n",
      " 31  BsmtCond       1423 non-null   object \n",
      " 32  BsmtExposure   1422 non-null   object \n",
      " 33  BsmtFinType1   1423 non-null   object \n",
      " 34  BsmtFinSF1     1460 non-null   int64  \n",
      " 35  BsmtFinType2   1422 non-null   object \n",
      " 36  BsmtFinSF2     1460 non-null   int64  \n",
      " 37  BsmtUnfSF      1460 non-null   int64  \n",
      " 38  TotalBsmtSF    1460 non-null   int64  \n",
      " 39  Heating        1460 non-null   object \n",
      " 40  HeatingQC      1460 non-null   object \n",
      " 41  CentralAir     1460 non-null   object \n",
      " 42  Electrical     1459 non-null   object \n",
      " 43  1stFlrSF       1460 non-null   int64  \n",
      " 44  2ndFlrSF       1460 non-null   int64  \n",
      " 45  LowQualFinSF   1460 non-null   int64  \n",
      " 46  GrLivArea      1460 non-null   int64  \n",
      " 47  BsmtFullBath   1460 non-null   int64  \n",
      " 48  BsmtHalfBath   1460 non-null   int64  \n",
      " 49  FullBath       1460 non-null   int64  \n",
      " 50  HalfBath       1460 non-null   int64  \n",
      " 51  BedroomAbvGr   1460 non-null   int64  \n",
      " 52  KitchenAbvGr   1460 non-null   int64  \n",
      " 53  KitchenQual    1460 non-null   object \n",
      " 54  TotRmsAbvGrd   1460 non-null   int64  \n",
      " 55  Functional     1460 non-null   object \n",
      " 56  Fireplaces     1460 non-null   int64  \n",
      " 57  FireplaceQu    770 non-null    object \n",
      " 58  GarageType     1379 non-null   object \n",
      " 59  GarageYrBlt    1379 non-null   float64\n",
      " 60  GarageFinish   1379 non-null   object \n",
      " 61  GarageCars     1460 non-null   int64  \n",
      " 62  GarageArea     1460 non-null   int64  \n",
      " 63  GarageQual     1379 non-null   object \n",
      " 64  GarageCond     1379 non-null   object \n",
      " 65  PavedDrive     1460 non-null   object \n",
      " 66  WoodDeckSF     1460 non-null   int64  \n",
      " 67  OpenPorchSF    1460 non-null   int64  \n",
      " 68  EnclosedPorch  1460 non-null   int64  \n",
      " 69  3SsnPorch      1460 non-null   int64  \n",
      " 70  ScreenPorch    1460 non-null   int64  \n",
      " 71  PoolArea       1460 non-null   int64  \n",
      " 72  PoolQC         7 non-null      object \n",
      " 73  Fence          281 non-null    object \n",
      " 74  MiscFeature    54 non-null     object \n",
      " 75  MiscVal        1460 non-null   int64  \n",
      " 76  MoSold         1460 non-null   int64  \n",
      " 77  YrSold         1460 non-null   int64  \n",
      " 78  SaleType       1460 non-null   object \n",
      " 79  SaleCondition  1460 non-null   object \n",
      " 80  SalePrice      1460 non-null   int64  \n",
      "dtypes: float64(3), int64(35), object(43)\n",
      "memory usage: 924.0+ KB\n"
     ]
    }
   ],
   "source": [
    "train_df.info()"
   ]
  },
  {
   "cell_type": "code",
   "execution_count": 7,
   "metadata": {
    "execution": {
     "iopub.execute_input": "2021-07-25T07:14:13.939009Z",
     "iopub.status.busy": "2021-07-25T07:14:13.937891Z",
     "iopub.status.idle": "2021-07-25T07:14:14.056977Z",
     "shell.execute_reply": "2021-07-25T07:14:14.055971Z",
     "shell.execute_reply.started": "2021-07-25T05:12:23.853474Z"
    },
    "papermill": {
     "duration": 0.206571,
     "end_time": "2021-07-25T07:14:14.057195",
     "exception": false,
     "start_time": "2021-07-25T07:14:13.850624",
     "status": "completed"
    },
    "tags": []
   },
   "outputs": [
    {
     "data": {
      "text/html": [
       "<div>\n",
       "<style scoped>\n",
       "    .dataframe tbody tr th:only-of-type {\n",
       "        vertical-align: middle;\n",
       "    }\n",
       "\n",
       "    .dataframe tbody tr th {\n",
       "        vertical-align: top;\n",
       "    }\n",
       "\n",
       "    .dataframe thead th {\n",
       "        text-align: right;\n",
       "    }\n",
       "</style>\n",
       "<table border=\"1\" class=\"dataframe\">\n",
       "  <thead>\n",
       "    <tr style=\"text-align: right;\">\n",
       "      <th></th>\n",
       "      <th>count</th>\n",
       "      <th>mean</th>\n",
       "      <th>std</th>\n",
       "      <th>min</th>\n",
       "      <th>25%</th>\n",
       "      <th>50%</th>\n",
       "      <th>75%</th>\n",
       "      <th>max</th>\n",
       "    </tr>\n",
       "  </thead>\n",
       "  <tbody>\n",
       "    <tr>\n",
       "      <th>Id</th>\n",
       "      <td>1460.0</td>\n",
       "      <td>730.500000</td>\n",
       "      <td>421.610009</td>\n",
       "      <td>1.0</td>\n",
       "      <td>365.75</td>\n",
       "      <td>730.5</td>\n",
       "      <td>1095.25</td>\n",
       "      <td>1460.0</td>\n",
       "    </tr>\n",
       "    <tr>\n",
       "      <th>MSSubClass</th>\n",
       "      <td>1460.0</td>\n",
       "      <td>56.897260</td>\n",
       "      <td>42.300571</td>\n",
       "      <td>20.0</td>\n",
       "      <td>20.00</td>\n",
       "      <td>50.0</td>\n",
       "      <td>70.00</td>\n",
       "      <td>190.0</td>\n",
       "    </tr>\n",
       "    <tr>\n",
       "      <th>LotFrontage</th>\n",
       "      <td>1201.0</td>\n",
       "      <td>70.049958</td>\n",
       "      <td>24.284752</td>\n",
       "      <td>21.0</td>\n",
       "      <td>59.00</td>\n",
       "      <td>69.0</td>\n",
       "      <td>80.00</td>\n",
       "      <td>313.0</td>\n",
       "    </tr>\n",
       "    <tr>\n",
       "      <th>LotArea</th>\n",
       "      <td>1460.0</td>\n",
       "      <td>10516.828082</td>\n",
       "      <td>9981.264932</td>\n",
       "      <td>1300.0</td>\n",
       "      <td>7553.50</td>\n",
       "      <td>9478.5</td>\n",
       "      <td>11601.50</td>\n",
       "      <td>215245.0</td>\n",
       "    </tr>\n",
       "    <tr>\n",
       "      <th>OverallQual</th>\n",
       "      <td>1460.0</td>\n",
       "      <td>6.099315</td>\n",
       "      <td>1.382997</td>\n",
       "      <td>1.0</td>\n",
       "      <td>5.00</td>\n",
       "      <td>6.0</td>\n",
       "      <td>7.00</td>\n",
       "      <td>10.0</td>\n",
       "    </tr>\n",
       "    <tr>\n",
       "      <th>OverallCond</th>\n",
       "      <td>1460.0</td>\n",
       "      <td>5.575342</td>\n",
       "      <td>1.112799</td>\n",
       "      <td>1.0</td>\n",
       "      <td>5.00</td>\n",
       "      <td>5.0</td>\n",
       "      <td>6.00</td>\n",
       "      <td>9.0</td>\n",
       "    </tr>\n",
       "    <tr>\n",
       "      <th>YearBuilt</th>\n",
       "      <td>1460.0</td>\n",
       "      <td>1971.267808</td>\n",
       "      <td>30.202904</td>\n",
       "      <td>1872.0</td>\n",
       "      <td>1954.00</td>\n",
       "      <td>1973.0</td>\n",
       "      <td>2000.00</td>\n",
       "      <td>2010.0</td>\n",
       "    </tr>\n",
       "    <tr>\n",
       "      <th>YearRemodAdd</th>\n",
       "      <td>1460.0</td>\n",
       "      <td>1984.865753</td>\n",
       "      <td>20.645407</td>\n",
       "      <td>1950.0</td>\n",
       "      <td>1967.00</td>\n",
       "      <td>1994.0</td>\n",
       "      <td>2004.00</td>\n",
       "      <td>2010.0</td>\n",
       "    </tr>\n",
       "    <tr>\n",
       "      <th>MasVnrArea</th>\n",
       "      <td>1452.0</td>\n",
       "      <td>103.685262</td>\n",
       "      <td>181.066207</td>\n",
       "      <td>0.0</td>\n",
       "      <td>0.00</td>\n",
       "      <td>0.0</td>\n",
       "      <td>166.00</td>\n",
       "      <td>1600.0</td>\n",
       "    </tr>\n",
       "    <tr>\n",
       "      <th>BsmtFinSF1</th>\n",
       "      <td>1460.0</td>\n",
       "      <td>443.639726</td>\n",
       "      <td>456.098091</td>\n",
       "      <td>0.0</td>\n",
       "      <td>0.00</td>\n",
       "      <td>383.5</td>\n",
       "      <td>712.25</td>\n",
       "      <td>5644.0</td>\n",
       "    </tr>\n",
       "    <tr>\n",
       "      <th>BsmtFinSF2</th>\n",
       "      <td>1460.0</td>\n",
       "      <td>46.549315</td>\n",
       "      <td>161.319273</td>\n",
       "      <td>0.0</td>\n",
       "      <td>0.00</td>\n",
       "      <td>0.0</td>\n",
       "      <td>0.00</td>\n",
       "      <td>1474.0</td>\n",
       "    </tr>\n",
       "    <tr>\n",
       "      <th>BsmtUnfSF</th>\n",
       "      <td>1460.0</td>\n",
       "      <td>567.240411</td>\n",
       "      <td>441.866955</td>\n",
       "      <td>0.0</td>\n",
       "      <td>223.00</td>\n",
       "      <td>477.5</td>\n",
       "      <td>808.00</td>\n",
       "      <td>2336.0</td>\n",
       "    </tr>\n",
       "    <tr>\n",
       "      <th>TotalBsmtSF</th>\n",
       "      <td>1460.0</td>\n",
       "      <td>1057.429452</td>\n",
       "      <td>438.705324</td>\n",
       "      <td>0.0</td>\n",
       "      <td>795.75</td>\n",
       "      <td>991.5</td>\n",
       "      <td>1298.25</td>\n",
       "      <td>6110.0</td>\n",
       "    </tr>\n",
       "    <tr>\n",
       "      <th>1stFlrSF</th>\n",
       "      <td>1460.0</td>\n",
       "      <td>1162.626712</td>\n",
       "      <td>386.587738</td>\n",
       "      <td>334.0</td>\n",
       "      <td>882.00</td>\n",
       "      <td>1087.0</td>\n",
       "      <td>1391.25</td>\n",
       "      <td>4692.0</td>\n",
       "    </tr>\n",
       "    <tr>\n",
       "      <th>2ndFlrSF</th>\n",
       "      <td>1460.0</td>\n",
       "      <td>346.992466</td>\n",
       "      <td>436.528436</td>\n",
       "      <td>0.0</td>\n",
       "      <td>0.00</td>\n",
       "      <td>0.0</td>\n",
       "      <td>728.00</td>\n",
       "      <td>2065.0</td>\n",
       "    </tr>\n",
       "    <tr>\n",
       "      <th>LowQualFinSF</th>\n",
       "      <td>1460.0</td>\n",
       "      <td>5.844521</td>\n",
       "      <td>48.623081</td>\n",
       "      <td>0.0</td>\n",
       "      <td>0.00</td>\n",
       "      <td>0.0</td>\n",
       "      <td>0.00</td>\n",
       "      <td>572.0</td>\n",
       "    </tr>\n",
       "    <tr>\n",
       "      <th>GrLivArea</th>\n",
       "      <td>1460.0</td>\n",
       "      <td>1515.463699</td>\n",
       "      <td>525.480383</td>\n",
       "      <td>334.0</td>\n",
       "      <td>1129.50</td>\n",
       "      <td>1464.0</td>\n",
       "      <td>1776.75</td>\n",
       "      <td>5642.0</td>\n",
       "    </tr>\n",
       "    <tr>\n",
       "      <th>BsmtFullBath</th>\n",
       "      <td>1460.0</td>\n",
       "      <td>0.425342</td>\n",
       "      <td>0.518911</td>\n",
       "      <td>0.0</td>\n",
       "      <td>0.00</td>\n",
       "      <td>0.0</td>\n",
       "      <td>1.00</td>\n",
       "      <td>3.0</td>\n",
       "    </tr>\n",
       "    <tr>\n",
       "      <th>BsmtHalfBath</th>\n",
       "      <td>1460.0</td>\n",
       "      <td>0.057534</td>\n",
       "      <td>0.238753</td>\n",
       "      <td>0.0</td>\n",
       "      <td>0.00</td>\n",
       "      <td>0.0</td>\n",
       "      <td>0.00</td>\n",
       "      <td>2.0</td>\n",
       "    </tr>\n",
       "    <tr>\n",
       "      <th>FullBath</th>\n",
       "      <td>1460.0</td>\n",
       "      <td>1.565068</td>\n",
       "      <td>0.550916</td>\n",
       "      <td>0.0</td>\n",
       "      <td>1.00</td>\n",
       "      <td>2.0</td>\n",
       "      <td>2.00</td>\n",
       "      <td>3.0</td>\n",
       "    </tr>\n",
       "    <tr>\n",
       "      <th>HalfBath</th>\n",
       "      <td>1460.0</td>\n",
       "      <td>0.382877</td>\n",
       "      <td>0.502885</td>\n",
       "      <td>0.0</td>\n",
       "      <td>0.00</td>\n",
       "      <td>0.0</td>\n",
       "      <td>1.00</td>\n",
       "      <td>2.0</td>\n",
       "    </tr>\n",
       "    <tr>\n",
       "      <th>BedroomAbvGr</th>\n",
       "      <td>1460.0</td>\n",
       "      <td>2.866438</td>\n",
       "      <td>0.815778</td>\n",
       "      <td>0.0</td>\n",
       "      <td>2.00</td>\n",
       "      <td>3.0</td>\n",
       "      <td>3.00</td>\n",
       "      <td>8.0</td>\n",
       "    </tr>\n",
       "    <tr>\n",
       "      <th>KitchenAbvGr</th>\n",
       "      <td>1460.0</td>\n",
       "      <td>1.046575</td>\n",
       "      <td>0.220338</td>\n",
       "      <td>0.0</td>\n",
       "      <td>1.00</td>\n",
       "      <td>1.0</td>\n",
       "      <td>1.00</td>\n",
       "      <td>3.0</td>\n",
       "    </tr>\n",
       "    <tr>\n",
       "      <th>TotRmsAbvGrd</th>\n",
       "      <td>1460.0</td>\n",
       "      <td>6.517808</td>\n",
       "      <td>1.625393</td>\n",
       "      <td>2.0</td>\n",
       "      <td>5.00</td>\n",
       "      <td>6.0</td>\n",
       "      <td>7.00</td>\n",
       "      <td>14.0</td>\n",
       "    </tr>\n",
       "    <tr>\n",
       "      <th>Fireplaces</th>\n",
       "      <td>1460.0</td>\n",
       "      <td>0.613014</td>\n",
       "      <td>0.644666</td>\n",
       "      <td>0.0</td>\n",
       "      <td>0.00</td>\n",
       "      <td>1.0</td>\n",
       "      <td>1.00</td>\n",
       "      <td>3.0</td>\n",
       "    </tr>\n",
       "    <tr>\n",
       "      <th>GarageYrBlt</th>\n",
       "      <td>1379.0</td>\n",
       "      <td>1978.506164</td>\n",
       "      <td>24.689725</td>\n",
       "      <td>1900.0</td>\n",
       "      <td>1961.00</td>\n",
       "      <td>1980.0</td>\n",
       "      <td>2002.00</td>\n",
       "      <td>2010.0</td>\n",
       "    </tr>\n",
       "    <tr>\n",
       "      <th>GarageCars</th>\n",
       "      <td>1460.0</td>\n",
       "      <td>1.767123</td>\n",
       "      <td>0.747315</td>\n",
       "      <td>0.0</td>\n",
       "      <td>1.00</td>\n",
       "      <td>2.0</td>\n",
       "      <td>2.00</td>\n",
       "      <td>4.0</td>\n",
       "    </tr>\n",
       "    <tr>\n",
       "      <th>GarageArea</th>\n",
       "      <td>1460.0</td>\n",
       "      <td>472.980137</td>\n",
       "      <td>213.804841</td>\n",
       "      <td>0.0</td>\n",
       "      <td>334.50</td>\n",
       "      <td>480.0</td>\n",
       "      <td>576.00</td>\n",
       "      <td>1418.0</td>\n",
       "    </tr>\n",
       "    <tr>\n",
       "      <th>WoodDeckSF</th>\n",
       "      <td>1460.0</td>\n",
       "      <td>94.244521</td>\n",
       "      <td>125.338794</td>\n",
       "      <td>0.0</td>\n",
       "      <td>0.00</td>\n",
       "      <td>0.0</td>\n",
       "      <td>168.00</td>\n",
       "      <td>857.0</td>\n",
       "    </tr>\n",
       "    <tr>\n",
       "      <th>OpenPorchSF</th>\n",
       "      <td>1460.0</td>\n",
       "      <td>46.660274</td>\n",
       "      <td>66.256028</td>\n",
       "      <td>0.0</td>\n",
       "      <td>0.00</td>\n",
       "      <td>25.0</td>\n",
       "      <td>68.00</td>\n",
       "      <td>547.0</td>\n",
       "    </tr>\n",
       "    <tr>\n",
       "      <th>EnclosedPorch</th>\n",
       "      <td>1460.0</td>\n",
       "      <td>21.954110</td>\n",
       "      <td>61.119149</td>\n",
       "      <td>0.0</td>\n",
       "      <td>0.00</td>\n",
       "      <td>0.0</td>\n",
       "      <td>0.00</td>\n",
       "      <td>552.0</td>\n",
       "    </tr>\n",
       "    <tr>\n",
       "      <th>3SsnPorch</th>\n",
       "      <td>1460.0</td>\n",
       "      <td>3.409589</td>\n",
       "      <td>29.317331</td>\n",
       "      <td>0.0</td>\n",
       "      <td>0.00</td>\n",
       "      <td>0.0</td>\n",
       "      <td>0.00</td>\n",
       "      <td>508.0</td>\n",
       "    </tr>\n",
       "    <tr>\n",
       "      <th>ScreenPorch</th>\n",
       "      <td>1460.0</td>\n",
       "      <td>15.060959</td>\n",
       "      <td>55.757415</td>\n",
       "      <td>0.0</td>\n",
       "      <td>0.00</td>\n",
       "      <td>0.0</td>\n",
       "      <td>0.00</td>\n",
       "      <td>480.0</td>\n",
       "    </tr>\n",
       "    <tr>\n",
       "      <th>PoolArea</th>\n",
       "      <td>1460.0</td>\n",
       "      <td>2.758904</td>\n",
       "      <td>40.177307</td>\n",
       "      <td>0.0</td>\n",
       "      <td>0.00</td>\n",
       "      <td>0.0</td>\n",
       "      <td>0.00</td>\n",
       "      <td>738.0</td>\n",
       "    </tr>\n",
       "    <tr>\n",
       "      <th>MiscVal</th>\n",
       "      <td>1460.0</td>\n",
       "      <td>43.489041</td>\n",
       "      <td>496.123024</td>\n",
       "      <td>0.0</td>\n",
       "      <td>0.00</td>\n",
       "      <td>0.0</td>\n",
       "      <td>0.00</td>\n",
       "      <td>15500.0</td>\n",
       "    </tr>\n",
       "    <tr>\n",
       "      <th>MoSold</th>\n",
       "      <td>1460.0</td>\n",
       "      <td>6.321918</td>\n",
       "      <td>2.703626</td>\n",
       "      <td>1.0</td>\n",
       "      <td>5.00</td>\n",
       "      <td>6.0</td>\n",
       "      <td>8.00</td>\n",
       "      <td>12.0</td>\n",
       "    </tr>\n",
       "    <tr>\n",
       "      <th>YrSold</th>\n",
       "      <td>1460.0</td>\n",
       "      <td>2007.815753</td>\n",
       "      <td>1.328095</td>\n",
       "      <td>2006.0</td>\n",
       "      <td>2007.00</td>\n",
       "      <td>2008.0</td>\n",
       "      <td>2009.00</td>\n",
       "      <td>2010.0</td>\n",
       "    </tr>\n",
       "    <tr>\n",
       "      <th>SalePrice</th>\n",
       "      <td>1460.0</td>\n",
       "      <td>180921.195890</td>\n",
       "      <td>79442.502883</td>\n",
       "      <td>34900.0</td>\n",
       "      <td>129975.00</td>\n",
       "      <td>163000.0</td>\n",
       "      <td>214000.00</td>\n",
       "      <td>755000.0</td>\n",
       "    </tr>\n",
       "  </tbody>\n",
       "</table>\n",
       "</div>"
      ],
      "text/plain": [
       "                count           mean           std      min        25%  \\\n",
       "Id             1460.0     730.500000    421.610009      1.0     365.75   \n",
       "MSSubClass     1460.0      56.897260     42.300571     20.0      20.00   \n",
       "LotFrontage    1201.0      70.049958     24.284752     21.0      59.00   \n",
       "LotArea        1460.0   10516.828082   9981.264932   1300.0    7553.50   \n",
       "OverallQual    1460.0       6.099315      1.382997      1.0       5.00   \n",
       "OverallCond    1460.0       5.575342      1.112799      1.0       5.00   \n",
       "YearBuilt      1460.0    1971.267808     30.202904   1872.0    1954.00   \n",
       "YearRemodAdd   1460.0    1984.865753     20.645407   1950.0    1967.00   \n",
       "MasVnrArea     1452.0     103.685262    181.066207      0.0       0.00   \n",
       "BsmtFinSF1     1460.0     443.639726    456.098091      0.0       0.00   \n",
       "BsmtFinSF2     1460.0      46.549315    161.319273      0.0       0.00   \n",
       "BsmtUnfSF      1460.0     567.240411    441.866955      0.0     223.00   \n",
       "TotalBsmtSF    1460.0    1057.429452    438.705324      0.0     795.75   \n",
       "1stFlrSF       1460.0    1162.626712    386.587738    334.0     882.00   \n",
       "2ndFlrSF       1460.0     346.992466    436.528436      0.0       0.00   \n",
       "LowQualFinSF   1460.0       5.844521     48.623081      0.0       0.00   \n",
       "GrLivArea      1460.0    1515.463699    525.480383    334.0    1129.50   \n",
       "BsmtFullBath   1460.0       0.425342      0.518911      0.0       0.00   \n",
       "BsmtHalfBath   1460.0       0.057534      0.238753      0.0       0.00   \n",
       "FullBath       1460.0       1.565068      0.550916      0.0       1.00   \n",
       "HalfBath       1460.0       0.382877      0.502885      0.0       0.00   \n",
       "BedroomAbvGr   1460.0       2.866438      0.815778      0.0       2.00   \n",
       "KitchenAbvGr   1460.0       1.046575      0.220338      0.0       1.00   \n",
       "TotRmsAbvGrd   1460.0       6.517808      1.625393      2.0       5.00   \n",
       "Fireplaces     1460.0       0.613014      0.644666      0.0       0.00   \n",
       "GarageYrBlt    1379.0    1978.506164     24.689725   1900.0    1961.00   \n",
       "GarageCars     1460.0       1.767123      0.747315      0.0       1.00   \n",
       "GarageArea     1460.0     472.980137    213.804841      0.0     334.50   \n",
       "WoodDeckSF     1460.0      94.244521    125.338794      0.0       0.00   \n",
       "OpenPorchSF    1460.0      46.660274     66.256028      0.0       0.00   \n",
       "EnclosedPorch  1460.0      21.954110     61.119149      0.0       0.00   \n",
       "3SsnPorch      1460.0       3.409589     29.317331      0.0       0.00   \n",
       "ScreenPorch    1460.0      15.060959     55.757415      0.0       0.00   \n",
       "PoolArea       1460.0       2.758904     40.177307      0.0       0.00   \n",
       "MiscVal        1460.0      43.489041    496.123024      0.0       0.00   \n",
       "MoSold         1460.0       6.321918      2.703626      1.0       5.00   \n",
       "YrSold         1460.0    2007.815753      1.328095   2006.0    2007.00   \n",
       "SalePrice      1460.0  180921.195890  79442.502883  34900.0  129975.00   \n",
       "\n",
       "                    50%        75%       max  \n",
       "Id                730.5    1095.25    1460.0  \n",
       "MSSubClass         50.0      70.00     190.0  \n",
       "LotFrontage        69.0      80.00     313.0  \n",
       "LotArea          9478.5   11601.50  215245.0  \n",
       "OverallQual         6.0       7.00      10.0  \n",
       "OverallCond         5.0       6.00       9.0  \n",
       "YearBuilt        1973.0    2000.00    2010.0  \n",
       "YearRemodAdd     1994.0    2004.00    2010.0  \n",
       "MasVnrArea          0.0     166.00    1600.0  \n",
       "BsmtFinSF1        383.5     712.25    5644.0  \n",
       "BsmtFinSF2          0.0       0.00    1474.0  \n",
       "BsmtUnfSF         477.5     808.00    2336.0  \n",
       "TotalBsmtSF       991.5    1298.25    6110.0  \n",
       "1stFlrSF         1087.0    1391.25    4692.0  \n",
       "2ndFlrSF            0.0     728.00    2065.0  \n",
       "LowQualFinSF        0.0       0.00     572.0  \n",
       "GrLivArea        1464.0    1776.75    5642.0  \n",
       "BsmtFullBath        0.0       1.00       3.0  \n",
       "BsmtHalfBath        0.0       0.00       2.0  \n",
       "FullBath            2.0       2.00       3.0  \n",
       "HalfBath            0.0       1.00       2.0  \n",
       "BedroomAbvGr        3.0       3.00       8.0  \n",
       "KitchenAbvGr        1.0       1.00       3.0  \n",
       "TotRmsAbvGrd        6.0       7.00      14.0  \n",
       "Fireplaces          1.0       1.00       3.0  \n",
       "GarageYrBlt      1980.0    2002.00    2010.0  \n",
       "GarageCars          2.0       2.00       4.0  \n",
       "GarageArea        480.0     576.00    1418.0  \n",
       "WoodDeckSF          0.0     168.00     857.0  \n",
       "OpenPorchSF        25.0      68.00     547.0  \n",
       "EnclosedPorch       0.0       0.00     552.0  \n",
       "3SsnPorch           0.0       0.00     508.0  \n",
       "ScreenPorch         0.0       0.00     480.0  \n",
       "PoolArea            0.0       0.00     738.0  \n",
       "MiscVal             0.0       0.00   15500.0  \n",
       "MoSold              6.0       8.00      12.0  \n",
       "YrSold           2008.0    2009.00    2010.0  \n",
       "SalePrice      163000.0  214000.00  755000.0  "
      ]
     },
     "execution_count": 7,
     "metadata": {},
     "output_type": "execute_result"
    }
   ],
   "source": [
    "train_df.describe().T"
   ]
  },
  {
   "cell_type": "code",
   "execution_count": 8,
   "metadata": {
    "execution": {
     "iopub.execute_input": "2021-07-25T07:14:14.225098Z",
     "iopub.status.busy": "2021-07-25T07:14:14.224437Z",
     "iopub.status.idle": "2021-07-25T07:14:14.238867Z",
     "shell.execute_reply": "2021-07-25T07:14:14.239336Z",
     "shell.execute_reply.started": "2021-07-25T05:12:23.980696Z"
    },
    "papermill": {
     "duration": 0.10094,
     "end_time": "2021-07-25T07:14:14.239529",
     "exception": false,
     "start_time": "2021-07-25T07:14:14.138589",
     "status": "completed"
    },
    "tags": []
   },
   "outputs": [
    {
     "data": {
      "text/plain": [
       "Id              -0.021917\n",
       "MSSubClass      -0.084284\n",
       "LotFrontage      0.351799\n",
       "LotArea          0.263843\n",
       "OverallQual      0.790982\n",
       "OverallCond     -0.077856\n",
       "YearBuilt        0.522897\n",
       "YearRemodAdd     0.507101\n",
       "MasVnrArea       0.477493\n",
       "BsmtFinSF1       0.386420\n",
       "BsmtFinSF2      -0.011378\n",
       "BsmtUnfSF        0.214479\n",
       "TotalBsmtSF      0.613581\n",
       "1stFlrSF         0.605852\n",
       "2ndFlrSF         0.319334\n",
       "LowQualFinSF    -0.025606\n",
       "GrLivArea        0.708624\n",
       "BsmtFullBath     0.227122\n",
       "BsmtHalfBath    -0.016844\n",
       "FullBath         0.560664\n",
       "HalfBath         0.284108\n",
       "BedroomAbvGr     0.168213\n",
       "KitchenAbvGr    -0.135907\n",
       "TotRmsAbvGrd     0.533723\n",
       "Fireplaces       0.466929\n",
       "GarageYrBlt      0.486362\n",
       "GarageCars       0.640409\n",
       "GarageArea       0.623431\n",
       "WoodDeckSF       0.324413\n",
       "OpenPorchSF      0.315856\n",
       "EnclosedPorch   -0.128578\n",
       "3SsnPorch        0.044584\n",
       "ScreenPorch      0.111447\n",
       "PoolArea         0.092404\n",
       "MiscVal         -0.021190\n",
       "MoSold           0.046432\n",
       "YrSold          -0.028923\n",
       "SalePrice        1.000000\n",
       "Name: SalePrice, dtype: float64"
      ]
     },
     "execution_count": 8,
     "metadata": {},
     "output_type": "execute_result"
    }
   ],
   "source": [
    "corr = train_df.select_dtypes(include = np.number).corr()['SalePrice']\n",
    "corr"
   ]
  },
  {
   "cell_type": "code",
   "execution_count": 9,
   "metadata": {
    "execution": {
     "iopub.execute_input": "2021-07-25T07:14:14.402738Z",
     "iopub.status.busy": "2021-07-25T07:14:14.402072Z",
     "iopub.status.idle": "2021-07-25T07:14:14.425630Z",
     "shell.execute_reply": "2021-07-25T07:14:14.425088Z",
     "shell.execute_reply.started": "2021-07-25T05:12:24.004800Z"
    },
    "papermill": {
     "duration": 0.105778,
     "end_time": "2021-07-25T07:14:14.425789",
     "exception": false,
     "start_time": "2021-07-25T07:14:14.320011",
     "status": "completed"
    },
    "tags": []
   },
   "outputs": [
    {
     "data": {
      "text/plain": [
       "['OverallQual',\n",
       " 'TotalBsmtSF',\n",
       " '1stFlrSF',\n",
       " 'GrLivArea',\n",
       " 'FullBath',\n",
       " 'GarageCars',\n",
       " 'GarageArea',\n",
       " 'SalePrice']"
      ]
     },
     "execution_count": 9,
     "metadata": {},
     "output_type": "execute_result"
    }
   ],
   "source": [
    "list(corr[corr>0.55].index.values)"
   ]
  },
  {
   "cell_type": "code",
   "execution_count": 10,
   "metadata": {
    "execution": {
     "iopub.execute_input": "2021-07-25T07:14:14.592419Z",
     "iopub.status.busy": "2021-07-25T07:14:14.591805Z",
     "iopub.status.idle": "2021-07-25T07:14:14.593813Z",
     "shell.execute_reply": "2021-07-25T07:14:14.594289Z",
     "shell.execute_reply.started": "2021-07-25T05:12:24.028973Z"
    },
    "papermill": {
     "duration": 0.08831,
     "end_time": "2021-07-25T07:14:14.594451",
     "exception": false,
     "start_time": "2021-07-25T07:14:14.506141",
     "status": "completed"
    },
    "tags": []
   },
   "outputs": [],
   "source": [
    "columns_select = list(corr[corr>0.55].index.values)"
   ]
  },
  {
   "cell_type": "code",
   "execution_count": 11,
   "metadata": {
    "execution": {
     "iopub.execute_input": "2021-07-25T07:14:14.757774Z",
     "iopub.status.busy": "2021-07-25T07:14:14.757148Z",
     "iopub.status.idle": "2021-07-25T07:14:14.763706Z",
     "shell.execute_reply": "2021-07-25T07:14:14.763094Z",
     "shell.execute_reply.started": "2021-07-25T05:12:24.035941Z"
    },
    "papermill": {
     "duration": 0.089457,
     "end_time": "2021-07-25T07:14:14.763848",
     "exception": false,
     "start_time": "2021-07-25T07:14:14.674391",
     "status": "completed"
    },
    "tags": []
   },
   "outputs": [
    {
     "data": {
      "text/plain": [
       "Index(['Id', 'MSSubClass', 'MSZoning', 'LotFrontage', 'LotArea', 'Street',\n",
       "       'Alley', 'LotShape', 'LandContour', 'Utilities', 'LotConfig',\n",
       "       'LandSlope', 'Neighborhood', 'Condition1', 'Condition2', 'BldgType',\n",
       "       'HouseStyle', 'OverallQual', 'OverallCond', 'YearBuilt', 'YearRemodAdd',\n",
       "       'RoofStyle', 'RoofMatl', 'Exterior1st', 'Exterior2nd', 'MasVnrType',\n",
       "       'MasVnrArea', 'ExterQual', 'ExterCond', 'Foundation', 'BsmtQual',\n",
       "       'BsmtCond', 'BsmtExposure', 'BsmtFinType1', 'BsmtFinSF1',\n",
       "       'BsmtFinType2', 'BsmtFinSF2', 'BsmtUnfSF', 'TotalBsmtSF', 'Heating',\n",
       "       'HeatingQC', 'CentralAir', 'Electrical', '1stFlrSF', '2ndFlrSF',\n",
       "       'LowQualFinSF', 'GrLivArea', 'BsmtFullBath', 'BsmtHalfBath', 'FullBath',\n",
       "       'HalfBath', 'BedroomAbvGr', 'KitchenAbvGr', 'KitchenQual',\n",
       "       'TotRmsAbvGrd', 'Functional', 'Fireplaces', 'FireplaceQu', 'GarageType',\n",
       "       'GarageYrBlt', 'GarageFinish', 'GarageCars', 'GarageArea', 'GarageQual',\n",
       "       'GarageCond', 'PavedDrive', 'WoodDeckSF', 'OpenPorchSF',\n",
       "       'EnclosedPorch', '3SsnPorch', 'ScreenPorch', 'PoolArea', 'PoolQC',\n",
       "       'Fence', 'MiscFeature', 'MiscVal', 'MoSold', 'YrSold', 'SaleType',\n",
       "       'SaleCondition', 'SalePrice'],\n",
       "      dtype='object')"
      ]
     },
     "execution_count": 11,
     "metadata": {},
     "output_type": "execute_result"
    }
   ],
   "source": [
    "train_df.columns"
   ]
  },
  {
   "cell_type": "code",
   "execution_count": 12,
   "metadata": {
    "execution": {
     "iopub.execute_input": "2021-07-25T07:14:14.932285Z",
     "iopub.status.busy": "2021-07-25T07:14:14.931631Z",
     "iopub.status.idle": "2021-07-25T07:14:14.934646Z",
     "shell.execute_reply": "2021-07-25T07:14:14.934106Z",
     "shell.execute_reply.started": "2021-07-25T05:12:24.054858Z"
    },
    "papermill": {
     "duration": 0.090459,
     "end_time": "2021-07-25T07:14:14.934790",
     "exception": false,
     "start_time": "2021-07-25T07:14:14.844331",
     "status": "completed"
    },
    "tags": []
   },
   "outputs": [],
   "source": [
    "train_df_select = train_df[['Id']+columns_select]\n",
    "test_df_select = test_df[['Id','OverallQual','TotalBsmtSF','1stFlrSF','GrLivArea','FullBath','GarageCars','GarageArea']]\n"
   ]
  },
  {
   "cell_type": "code",
   "execution_count": 13,
   "metadata": {
    "execution": {
     "iopub.execute_input": "2021-07-25T07:14:15.108134Z",
     "iopub.status.busy": "2021-07-25T07:14:15.107449Z",
     "iopub.status.idle": "2021-07-25T07:14:15.110116Z",
     "shell.execute_reply": "2021-07-25T07:14:15.110716Z",
     "shell.execute_reply.started": "2021-07-25T05:12:24.071885Z"
    },
    "papermill": {
     "duration": 0.095223,
     "end_time": "2021-07-25T07:14:15.110878",
     "exception": false,
     "start_time": "2021-07-25T07:14:15.015655",
     "status": "completed"
    },
    "tags": []
   },
   "outputs": [
    {
     "data": {
      "text/html": [
       "<div>\n",
       "<style scoped>\n",
       "    .dataframe tbody tr th:only-of-type {\n",
       "        vertical-align: middle;\n",
       "    }\n",
       "\n",
       "    .dataframe tbody tr th {\n",
       "        vertical-align: top;\n",
       "    }\n",
       "\n",
       "    .dataframe thead th {\n",
       "        text-align: right;\n",
       "    }\n",
       "</style>\n",
       "<table border=\"1\" class=\"dataframe\">\n",
       "  <thead>\n",
       "    <tr style=\"text-align: right;\">\n",
       "      <th></th>\n",
       "      <th>Id</th>\n",
       "      <th>OverallQual</th>\n",
       "      <th>TotalBsmtSF</th>\n",
       "      <th>1stFlrSF</th>\n",
       "      <th>GrLivArea</th>\n",
       "      <th>FullBath</th>\n",
       "      <th>GarageCars</th>\n",
       "      <th>GarageArea</th>\n",
       "      <th>SalePrice</th>\n",
       "    </tr>\n",
       "  </thead>\n",
       "  <tbody>\n",
       "    <tr>\n",
       "      <th>0</th>\n",
       "      <td>1</td>\n",
       "      <td>7</td>\n",
       "      <td>856</td>\n",
       "      <td>856</td>\n",
       "      <td>1710</td>\n",
       "      <td>2</td>\n",
       "      <td>2</td>\n",
       "      <td>548</td>\n",
       "      <td>208500</td>\n",
       "    </tr>\n",
       "    <tr>\n",
       "      <th>1</th>\n",
       "      <td>2</td>\n",
       "      <td>6</td>\n",
       "      <td>1262</td>\n",
       "      <td>1262</td>\n",
       "      <td>1262</td>\n",
       "      <td>2</td>\n",
       "      <td>2</td>\n",
       "      <td>460</td>\n",
       "      <td>181500</td>\n",
       "    </tr>\n",
       "    <tr>\n",
       "      <th>2</th>\n",
       "      <td>3</td>\n",
       "      <td>7</td>\n",
       "      <td>920</td>\n",
       "      <td>920</td>\n",
       "      <td>1786</td>\n",
       "      <td>2</td>\n",
       "      <td>2</td>\n",
       "      <td>608</td>\n",
       "      <td>223500</td>\n",
       "    </tr>\n",
       "    <tr>\n",
       "      <th>3</th>\n",
       "      <td>4</td>\n",
       "      <td>7</td>\n",
       "      <td>756</td>\n",
       "      <td>961</td>\n",
       "      <td>1717</td>\n",
       "      <td>1</td>\n",
       "      <td>3</td>\n",
       "      <td>642</td>\n",
       "      <td>140000</td>\n",
       "    </tr>\n",
       "    <tr>\n",
       "      <th>4</th>\n",
       "      <td>5</td>\n",
       "      <td>8</td>\n",
       "      <td>1145</td>\n",
       "      <td>1145</td>\n",
       "      <td>2198</td>\n",
       "      <td>2</td>\n",
       "      <td>3</td>\n",
       "      <td>836</td>\n",
       "      <td>250000</td>\n",
       "    </tr>\n",
       "  </tbody>\n",
       "</table>\n",
       "</div>"
      ],
      "text/plain": [
       "   Id  OverallQual  TotalBsmtSF  1stFlrSF  GrLivArea  FullBath  GarageCars  \\\n",
       "0   1            7          856       856       1710         2           2   \n",
       "1   2            6         1262      1262       1262         2           2   \n",
       "2   3            7          920       920       1786         2           2   \n",
       "3   4            7          756       961       1717         1           3   \n",
       "4   5            8         1145      1145       2198         2           3   \n",
       "\n",
       "   GarageArea  SalePrice  \n",
       "0         548     208500  \n",
       "1         460     181500  \n",
       "2         608     223500  \n",
       "3         642     140000  \n",
       "4         836     250000  "
      ]
     },
     "execution_count": 13,
     "metadata": {},
     "output_type": "execute_result"
    }
   ],
   "source": [
    "train_df_select.head()"
   ]
  },
  {
   "cell_type": "code",
   "execution_count": 14,
   "metadata": {
    "execution": {
     "iopub.execute_input": "2021-07-25T07:14:15.278512Z",
     "iopub.status.busy": "2021-07-25T07:14:15.277838Z",
     "iopub.status.idle": "2021-07-25T07:14:15.292751Z",
     "shell.execute_reply": "2021-07-25T07:14:15.292207Z",
     "shell.execute_reply.started": "2021-07-25T05:12:24.090959Z"
    },
    "papermill": {
     "duration": 0.099569,
     "end_time": "2021-07-25T07:14:15.292891",
     "exception": false,
     "start_time": "2021-07-25T07:14:15.193322",
     "status": "completed"
    },
    "tags": []
   },
   "outputs": [
    {
     "data": {
      "text/html": [
       "<div>\n",
       "<style scoped>\n",
       "    .dataframe tbody tr th:only-of-type {\n",
       "        vertical-align: middle;\n",
       "    }\n",
       "\n",
       "    .dataframe tbody tr th {\n",
       "        vertical-align: top;\n",
       "    }\n",
       "\n",
       "    .dataframe thead th {\n",
       "        text-align: right;\n",
       "    }\n",
       "</style>\n",
       "<table border=\"1\" class=\"dataframe\">\n",
       "  <thead>\n",
       "    <tr style=\"text-align: right;\">\n",
       "      <th></th>\n",
       "      <th>Id</th>\n",
       "      <th>OverallQual</th>\n",
       "      <th>TotalBsmtSF</th>\n",
       "      <th>1stFlrSF</th>\n",
       "      <th>GrLivArea</th>\n",
       "      <th>FullBath</th>\n",
       "      <th>GarageCars</th>\n",
       "      <th>GarageArea</th>\n",
       "    </tr>\n",
       "  </thead>\n",
       "  <tbody>\n",
       "    <tr>\n",
       "      <th>0</th>\n",
       "      <td>1461</td>\n",
       "      <td>5</td>\n",
       "      <td>882.0</td>\n",
       "      <td>896</td>\n",
       "      <td>896</td>\n",
       "      <td>1</td>\n",
       "      <td>1.0</td>\n",
       "      <td>730.0</td>\n",
       "    </tr>\n",
       "    <tr>\n",
       "      <th>1</th>\n",
       "      <td>1462</td>\n",
       "      <td>6</td>\n",
       "      <td>1329.0</td>\n",
       "      <td>1329</td>\n",
       "      <td>1329</td>\n",
       "      <td>1</td>\n",
       "      <td>1.0</td>\n",
       "      <td>312.0</td>\n",
       "    </tr>\n",
       "    <tr>\n",
       "      <th>2</th>\n",
       "      <td>1463</td>\n",
       "      <td>5</td>\n",
       "      <td>928.0</td>\n",
       "      <td>928</td>\n",
       "      <td>1629</td>\n",
       "      <td>2</td>\n",
       "      <td>2.0</td>\n",
       "      <td>482.0</td>\n",
       "    </tr>\n",
       "    <tr>\n",
       "      <th>3</th>\n",
       "      <td>1464</td>\n",
       "      <td>6</td>\n",
       "      <td>926.0</td>\n",
       "      <td>926</td>\n",
       "      <td>1604</td>\n",
       "      <td>2</td>\n",
       "      <td>2.0</td>\n",
       "      <td>470.0</td>\n",
       "    </tr>\n",
       "    <tr>\n",
       "      <th>4</th>\n",
       "      <td>1465</td>\n",
       "      <td>8</td>\n",
       "      <td>1280.0</td>\n",
       "      <td>1280</td>\n",
       "      <td>1280</td>\n",
       "      <td>2</td>\n",
       "      <td>2.0</td>\n",
       "      <td>506.0</td>\n",
       "    </tr>\n",
       "  </tbody>\n",
       "</table>\n",
       "</div>"
      ],
      "text/plain": [
       "     Id  OverallQual  TotalBsmtSF  1stFlrSF  GrLivArea  FullBath  GarageCars  \\\n",
       "0  1461            5        882.0       896        896         1         1.0   \n",
       "1  1462            6       1329.0      1329       1329         1         1.0   \n",
       "2  1463            5        928.0       928       1629         2         2.0   \n",
       "3  1464            6        926.0       926       1604         2         2.0   \n",
       "4  1465            8       1280.0      1280       1280         2         2.0   \n",
       "\n",
       "   GarageArea  \n",
       "0       730.0  \n",
       "1       312.0  \n",
       "2       482.0  \n",
       "3       470.0  \n",
       "4       506.0  "
      ]
     },
     "execution_count": 14,
     "metadata": {},
     "output_type": "execute_result"
    }
   ],
   "source": [
    "test_df_select.head()"
   ]
  },
  {
   "cell_type": "code",
   "execution_count": 15,
   "metadata": {
    "execution": {
     "iopub.execute_input": "2021-07-25T07:14:15.465388Z",
     "iopub.status.busy": "2021-07-25T07:14:15.464417Z",
     "iopub.status.idle": "2021-07-25T07:14:15.469066Z",
     "shell.execute_reply": "2021-07-25T07:14:15.468549Z",
     "shell.execute_reply.started": "2021-07-25T05:12:24.113187Z"
    },
    "papermill": {
     "duration": 0.093836,
     "end_time": "2021-07-25T07:14:15.469219",
     "exception": false,
     "start_time": "2021-07-25T07:14:15.375383",
     "status": "completed"
    },
    "tags": []
   },
   "outputs": [
    {
     "data": {
      "text/plain": [
       "Id             0\n",
       "OverallQual    0\n",
       "TotalBsmtSF    0\n",
       "1stFlrSF       0\n",
       "GrLivArea      0\n",
       "FullBath       0\n",
       "GarageCars     0\n",
       "GarageArea     0\n",
       "SalePrice      0\n",
       "dtype: int64"
      ]
     },
     "execution_count": 15,
     "metadata": {},
     "output_type": "execute_result"
    }
   ],
   "source": [
    "train_df_select.isna().sum()"
   ]
  },
  {
   "cell_type": "code",
   "execution_count": 16,
   "metadata": {
    "execution": {
     "iopub.execute_input": "2021-07-25T07:14:15.642260Z",
     "iopub.status.busy": "2021-07-25T07:14:15.641564Z",
     "iopub.status.idle": "2021-07-25T07:14:15.644805Z",
     "shell.execute_reply": "2021-07-25T07:14:15.645383Z",
     "shell.execute_reply.started": "2021-07-25T05:12:24.129710Z"
    },
    "papermill": {
     "duration": 0.094474,
     "end_time": "2021-07-25T07:14:15.645563",
     "exception": false,
     "start_time": "2021-07-25T07:14:15.551089",
     "status": "completed"
    },
    "tags": []
   },
   "outputs": [
    {
     "data": {
      "text/plain": [
       "Id             0\n",
       "OverallQual    0\n",
       "TotalBsmtSF    1\n",
       "1stFlrSF       0\n",
       "GrLivArea      0\n",
       "FullBath       0\n",
       "GarageCars     1\n",
       "GarageArea     1\n",
       "dtype: int64"
      ]
     },
     "execution_count": 16,
     "metadata": {},
     "output_type": "execute_result"
    }
   ],
   "source": [
    "test_df_select.isna().sum()"
   ]
  },
  {
   "cell_type": "code",
   "execution_count": 17,
   "metadata": {
    "execution": {
     "iopub.execute_input": "2021-07-25T07:14:15.813319Z",
     "iopub.status.busy": "2021-07-25T07:14:15.812699Z",
     "iopub.status.idle": "2021-07-25T07:14:15.816716Z",
     "shell.execute_reply": "2021-07-25T07:14:15.817221Z",
     "shell.execute_reply.started": "2021-07-25T05:12:24.145789Z"
    },
    "papermill": {
     "duration": 0.089639,
     "end_time": "2021-07-25T07:14:15.817396",
     "exception": false,
     "start_time": "2021-07-25T07:14:15.727757",
     "status": "completed"
    },
    "tags": []
   },
   "outputs": [],
   "source": [
    "test_df_select = test_df_select.fillna(0)"
   ]
  },
  {
   "cell_type": "code",
   "execution_count": 18,
   "metadata": {
    "execution": {
     "iopub.execute_input": "2021-07-25T07:14:15.984558Z",
     "iopub.status.busy": "2021-07-25T07:14:15.983897Z",
     "iopub.status.idle": "2021-07-25T07:14:15.990853Z",
     "shell.execute_reply": "2021-07-25T07:14:15.990208Z",
     "shell.execute_reply.started": "2021-07-25T06:58:07.778227Z"
    },
    "papermill": {
     "duration": 0.091522,
     "end_time": "2021-07-25T07:14:15.990991",
     "exception": false,
     "start_time": "2021-07-25T07:14:15.899469",
     "status": "completed"
    },
    "tags": []
   },
   "outputs": [],
   "source": [
    "def model_fit(model, train_X, train_y, test_X, id_col,filename):\n",
    "    model.fit(train_X, train_y)\n",
    "    train_pred = model.predict(train_X)\n",
    "    print(mean_squared_error(train_y, train_pred, squared=False))\n",
    "    test_pred = model.predict(test_X)\n",
    "    sample_submission['Id'] = id_col\n",
    "    sample_submission['SalePrice'] = np.expm1(test_pred)\n",
    "    sample_submission.to_csv(filename, index = False)\n",
    "    return mean_squared_error(train_y, train_pred, squared=False), sample_submission\n",
    "    \n",
    "    "
   ]
  },
  {
   "cell_type": "code",
   "execution_count": 19,
   "metadata": {
    "execution": {
     "iopub.execute_input": "2021-07-25T07:14:16.160783Z",
     "iopub.status.busy": "2021-07-25T07:14:16.160082Z",
     "iopub.status.idle": "2021-07-25T07:14:16.167585Z",
     "shell.execute_reply": "2021-07-25T07:14:16.166973Z",
     "shell.execute_reply.started": "2021-07-25T05:12:24.170713Z"
    },
    "papermill": {
     "duration": 0.093282,
     "end_time": "2021-07-25T07:14:16.167722",
     "exception": false,
     "start_time": "2021-07-25T07:14:16.074440",
     "status": "completed"
    },
    "tags": []
   },
   "outputs": [],
   "source": [
    "train_X = train_df_select.drop(columns=[\"Id\", \"SalePrice\"])\n",
    "train_y = train_df_select['SalePrice']\n",
    "test_X = test_df_select.drop(columns=[\"Id\"])"
   ]
  },
  {
   "cell_type": "code",
   "execution_count": 20,
   "metadata": {
    "execution": {
     "iopub.execute_input": "2021-07-25T07:14:16.338200Z",
     "iopub.status.busy": "2021-07-25T07:14:16.337544Z",
     "iopub.status.idle": "2021-07-25T07:14:16.340456Z",
     "shell.execute_reply": "2021-07-25T07:14:16.339929Z",
     "shell.execute_reply.started": "2021-07-25T05:12:24.184348Z"
    },
    "papermill": {
     "duration": 0.090721,
     "end_time": "2021-07-25T07:14:16.340614",
     "exception": false,
     "start_time": "2021-07-25T07:14:16.249893",
     "status": "completed"
    },
    "tags": []
   },
   "outputs": [],
   "source": [
    "# Linear Regression"
   ]
  },
  {
   "cell_type": "code",
   "execution_count": 21,
   "metadata": {
    "execution": {
     "iopub.execute_input": "2021-07-25T07:14:16.515011Z",
     "iopub.status.busy": "2021-07-25T07:14:16.514324Z",
     "iopub.status.idle": "2021-07-25T07:14:16.776098Z",
     "shell.execute_reply": "2021-07-25T07:14:16.775170Z",
     "shell.execute_reply.started": "2021-07-25T05:12:24.194865Z"
    },
    "papermill": {
     "duration": 0.352772,
     "end_time": "2021-07-25T07:14:16.776320",
     "exception": false,
     "start_time": "2021-07-25T07:14:16.423548",
     "status": "completed"
    },
    "tags": []
   },
   "outputs": [
    {
     "name": "stdout",
     "output_type": "stream",
     "text": [
      "38745.19190580487\n"
     ]
    },
    {
     "name": "stderr",
     "output_type": "stream",
     "text": [
      "<ipython-input-18-31655f1c1e17>:7: RuntimeWarning: overflow encountered in expm1\n",
      "  sample_submission['SalePrice'] = np.expm1(test_pred)\n"
     ]
    }
   ],
   "source": [
    "linear_model = LinearRegression()\n",
    "linear_res = model_fit(linear_model, train_X, train_y, test_X, test_df_select['Id'], \"linear_res.csv\" )"
   ]
  },
  {
   "cell_type": "code",
   "execution_count": 22,
   "metadata": {
    "execution": {
     "iopub.execute_input": "2021-07-25T07:14:16.992355Z",
     "iopub.status.busy": "2021-07-25T07:14:16.991658Z",
     "iopub.status.idle": "2021-07-25T07:14:16.994636Z",
     "shell.execute_reply": "2021-07-25T07:14:16.994101Z",
     "shell.execute_reply.started": "2021-07-25T05:14:35.910521Z"
    },
    "papermill": {
     "duration": 0.091649,
     "end_time": "2021-07-25T07:14:16.994782",
     "exception": false,
     "start_time": "2021-07-25T07:14:16.903133",
     "status": "completed"
    },
    "tags": []
   },
   "outputs": [],
   "source": [
    "# Bench Mark Score = 0.66714"
   ]
  },
  {
   "cell_type": "code",
   "execution_count": 23,
   "metadata": {
    "execution": {
     "iopub.execute_input": "2021-07-25T07:14:17.165620Z",
     "iopub.status.busy": "2021-07-25T07:14:17.164954Z",
     "iopub.status.idle": "2021-07-25T07:14:17.171265Z",
     "shell.execute_reply": "2021-07-25T07:14:17.171787Z",
     "shell.execute_reply.started": "2021-07-25T05:36:17.209077Z"
    },
    "papermill": {
     "duration": 0.093988,
     "end_time": "2021-07-25T07:14:17.171973",
     "exception": false,
     "start_time": "2021-07-25T07:14:17.077985",
     "status": "completed"
    },
    "tags": []
   },
   "outputs": [],
   "source": [
    "train_X = train_df_select.drop(columns=[\"Id\", \"SalePrice\"])\n",
    "train_y = np.log1p(train_df_select['SalePrice'])\n",
    "test_X = test_df_select.drop(columns=[\"Id\"])"
   ]
  },
  {
   "cell_type": "code",
   "execution_count": 24,
   "metadata": {
    "execution": {
     "iopub.execute_input": "2021-07-25T07:14:17.345354Z",
     "iopub.status.busy": "2021-07-25T07:14:17.344689Z",
     "iopub.status.idle": "2021-07-25T07:14:17.381875Z",
     "shell.execute_reply": "2021-07-25T07:14:17.382869Z",
     "shell.execute_reply.started": "2021-07-25T05:36:28.617999Z"
    },
    "papermill": {
     "duration": 0.127771,
     "end_time": "2021-07-25T07:14:17.383143",
     "exception": false,
     "start_time": "2021-07-25T07:14:17.255372",
     "status": "completed"
    },
    "tags": []
   },
   "outputs": [
    {
     "name": "stdout",
     "output_type": "stream",
     "text": [
      "0.18016937008467887\n"
     ]
    }
   ],
   "source": [
    "linear_model = LinearRegression()\n",
    "linear_res = model_fit(linear_model, train_X, train_y, test_X, test_df_select['Id'], \"linear_res_with_log.csv\" )"
   ]
  },
  {
   "cell_type": "code",
   "execution_count": 25,
   "metadata": {
    "execution": {
     "iopub.execute_input": "2021-07-25T07:14:17.596773Z",
     "iopub.status.busy": "2021-07-25T07:14:17.596009Z",
     "iopub.status.idle": "2021-07-25T07:14:17.598729Z",
     "shell.execute_reply": "2021-07-25T07:14:17.598104Z"
    },
    "papermill": {
     "duration": 0.090675,
     "end_time": "2021-07-25T07:14:17.598861",
     "exception": false,
     "start_time": "2021-07-25T07:14:17.508186",
     "status": "completed"
    },
    "tags": []
   },
   "outputs": [],
   "source": [
    "# BenchMark Score = 0.17990"
   ]
  },
  {
   "cell_type": "code",
   "execution_count": 26,
   "metadata": {
    "execution": {
     "iopub.execute_input": "2021-07-25T07:14:17.769688Z",
     "iopub.status.busy": "2021-07-25T07:14:17.768645Z",
     "iopub.status.idle": "2021-07-25T07:14:17.771898Z",
     "shell.execute_reply": "2021-07-25T07:14:17.771372Z",
     "shell.execute_reply.started": "2021-07-25T05:15:00.785870Z"
    },
    "papermill": {
     "duration": 0.089654,
     "end_time": "2021-07-25T07:14:17.772039",
     "exception": false,
     "start_time": "2021-07-25T07:14:17.682385",
     "status": "completed"
    },
    "tags": []
   },
   "outputs": [],
   "source": [
    "#Exploratory Analysis (EDA)"
   ]
  },
  {
   "cell_type": "code",
   "execution_count": 27,
   "metadata": {
    "execution": {
     "iopub.execute_input": "2021-07-25T07:14:17.962154Z",
     "iopub.status.busy": "2021-07-25T07:14:17.961497Z",
     "iopub.status.idle": "2021-07-25T07:14:18.185370Z",
     "shell.execute_reply": "2021-07-25T07:14:18.184795Z",
     "shell.execute_reply.started": "2021-07-25T05:16:38.561420Z"
    },
    "papermill": {
     "duration": 0.327247,
     "end_time": "2021-07-25T07:14:18.185532",
     "exception": false,
     "start_time": "2021-07-25T07:14:17.858285",
     "status": "completed"
    },
    "tags": []
   },
   "outputs": [
    {
     "data": {
      "text/plain": [
       "Text(0, 0.5, 'SalePrice')"
      ]
     },
     "execution_count": 27,
     "metadata": {},
     "output_type": "execute_result"
    },
    {
     "data": {
      "image/png": "[encoded data removed]",
      "text/plain": [
       "<Figure size 432x288 with 1 Axes>"
      ]
     },
     "metadata": {
      "needs_background": "light"
     },
     "output_type": "display_data"
    }
   ],
   "source": [
    "plt.scatter(train_df['TotalBsmtSF'], train_df['SalePrice'])\n",
    "plt.xlabel(\"TotalBsmtSF\")\n",
    "plt.ylabel(\"SalePrice\")\n"
   ]
  },
  {
   "cell_type": "code",
   "execution_count": 28,
   "metadata": {
    "execution": {
     "iopub.execute_input": "2021-07-25T07:14:18.366084Z",
     "iopub.status.busy": "2021-07-25T07:14:18.365399Z",
     "iopub.status.idle": "2021-07-25T07:14:18.370176Z",
     "shell.execute_reply": "2021-07-25T07:14:18.369640Z",
     "shell.execute_reply.started": "2021-07-25T05:18:49.742827Z"
    },
    "papermill": {
     "duration": 0.09831,
     "end_time": "2021-07-25T07:14:18.370319",
     "exception": false,
     "start_time": "2021-07-25T07:14:18.272009",
     "status": "completed"
    },
    "tags": []
   },
   "outputs": [
    {
     "data": {
      "text/plain": [
       "Int64Index([1298], dtype='int64')"
      ]
     },
     "execution_count": 28,
     "metadata": {},
     "output_type": "execute_result"
    }
   ],
   "source": [
    "train_df[train_df['TotalBsmtSF']>4000].index"
   ]
  },
  {
   "cell_type": "code",
   "execution_count": 29,
   "metadata": {
    "execution": {
     "iopub.execute_input": "2021-07-25T07:14:18.547979Z",
     "iopub.status.busy": "2021-07-25T07:14:18.547264Z",
     "iopub.status.idle": "2021-07-25T07:14:18.550612Z",
     "shell.execute_reply": "2021-07-25T07:14:18.550042Z",
     "shell.execute_reply.started": "2021-07-25T05:20:06.304131Z"
    },
    "papermill": {
     "duration": 0.095313,
     "end_time": "2021-07-25T07:14:18.550755",
     "exception": false,
     "start_time": "2021-07-25T07:14:18.455442",
     "status": "completed"
    },
    "tags": []
   },
   "outputs": [],
   "source": [
    "train_df = train_df.drop(index = 1298)"
   ]
  },
  {
   "cell_type": "code",
   "execution_count": 30,
   "metadata": {
    "execution": {
     "iopub.execute_input": "2021-07-25T07:14:18.727012Z",
     "iopub.status.busy": "2021-07-25T07:14:18.726370Z",
     "iopub.status.idle": "2021-07-25T07:14:18.734990Z",
     "shell.execute_reply": "2021-07-25T07:14:18.734297Z",
     "shell.execute_reply.started": "2021-07-25T05:21:06.290605Z"
    },
    "papermill": {
     "duration": 0.098137,
     "end_time": "2021-07-25T07:14:18.735154",
     "exception": false,
     "start_time": "2021-07-25T07:14:18.637017",
     "status": "completed"
    },
    "tags": []
   },
   "outputs": [],
   "source": [
    "train_df = train_df.reset_index().drop(columns='index')"
   ]
  },
  {
   "cell_type": "code",
   "execution_count": 31,
   "metadata": {
    "execution": {
     "iopub.execute_input": "2021-07-25T07:14:18.933914Z",
     "iopub.status.busy": "2021-07-25T07:14:18.921742Z",
     "iopub.status.idle": "2021-07-25T07:14:19.108176Z",
     "shell.execute_reply": "2021-07-25T07:14:19.107457Z",
     "shell.execute_reply.started": "2021-07-25T05:21:13.133632Z"
    },
    "papermill": {
     "duration": 0.287997,
     "end_time": "2021-07-25T07:14:19.108334",
     "exception": false,
     "start_time": "2021-07-25T07:14:18.820337",
     "status": "completed"
    },
    "tags": []
   },
   "outputs": [
    {
     "data": {
      "text/plain": [
       "Text(0, 0.5, 'SalePrice')"
      ]
     },
     "execution_count": 31,
     "metadata": {},
     "output_type": "execute_result"
    },
    {
     "data": {
      "image/png": "[encoded data removed]",
      "text/plain": [
       "<Figure size 432x288 with 1 Axes>"
      ]
     },
     "metadata": {
      "needs_background": "light"
     },
     "output_type": "display_data"
    }
   ],
   "source": [
    "plt.scatter(train_df['TotalBsmtSF'], train_df['SalePrice'])\n",
    "plt.xlabel(\"TotalBsmtSF\")\n",
    "plt.ylabel(\"SalePrice\")\n"
   ]
  },
  {
   "cell_type": "code",
   "execution_count": 32,
   "metadata": {
    "execution": {
     "iopub.execute_input": "2021-07-25T07:14:19.288037Z",
     "iopub.status.busy": "2021-07-25T07:14:19.287055Z",
     "iopub.status.idle": "2021-07-25T07:14:19.289982Z",
     "shell.execute_reply": "2021-07-25T07:14:19.290436Z",
     "shell.execute_reply.started": "2021-07-25T05:22:15.890889Z"
    },
    "papermill": {
     "duration": 0.095012,
     "end_time": "2021-07-25T07:14:19.290623",
     "exception": false,
     "start_time": "2021-07-25T07:14:19.195611",
     "status": "completed"
    },
    "tags": []
   },
   "outputs": [],
   "source": [
    "def draw_scatter(x,y,xlabel,ylabel):\n",
    "    plt.scatter(x, y)\n",
    "    plt.xlabel(xlabel)\n",
    "    plt.ylabel(ylabel)"
   ]
  },
  {
   "cell_type": "code",
   "execution_count": 33,
   "metadata": {
    "execution": {
     "iopub.execute_input": "2021-07-25T07:14:19.495965Z",
     "iopub.status.busy": "2021-07-25T07:14:19.494899Z",
     "iopub.status.idle": "2021-07-25T07:14:19.665991Z",
     "shell.execute_reply": "2021-07-25T07:14:19.665457Z",
     "shell.execute_reply.started": "2021-07-25T05:22:59.185333Z"
    },
    "papermill": {
     "duration": 0.287411,
     "end_time": "2021-07-25T07:14:19.666135",
     "exception": false,
     "start_time": "2021-07-25T07:14:19.378724",
     "status": "completed"
    },
    "tags": []
   },
   "outputs": [
    {
     "data": {
      "image/png": "[encoded data removed]",
      "text/plain": [
       "<Figure size 432x288 with 1 Axes>"
      ]
     },
     "metadata": {
      "needs_background": "light"
     },
     "output_type": "display_data"
    }
   ],
   "source": [
    "draw_scatter(train_df['TotalBsmtSF'], train_df['SalePrice'],\"TotalBsmtSF\",\"SalePrice\")"
   ]
  },
  {
   "cell_type": "code",
   "execution_count": 34,
   "metadata": {
    "execution": {
     "iopub.execute_input": "2021-07-25T07:14:19.902188Z",
     "iopub.status.busy": "2021-07-25T07:14:19.896757Z",
     "iopub.status.idle": "2021-07-25T07:14:20.076953Z",
     "shell.execute_reply": "2021-07-25T07:14:20.076262Z",
     "shell.execute_reply.started": "2021-07-25T05:23:16.528042Z"
    },
    "papermill": {
     "duration": 0.323854,
     "end_time": "2021-07-25T07:14:20.077096",
     "exception": false,
     "start_time": "2021-07-25T07:14:19.753242",
     "status": "completed"
    },
    "tags": []
   },
   "outputs": [
    {
     "data": {
      "image/png": "[encoded data removed]",
      "text/plain": [
       "<Figure size 432x288 with 1 Axes>"
      ]
     },
     "metadata": {
      "needs_background": "light"
     },
     "output_type": "display_data"
    }
   ],
   "source": [
    "draw_scatter(train_df['OverallQual'], train_df['SalePrice'],\"OverallQual\",\"SalePrice\")"
   ]
  },
  {
   "cell_type": "code",
   "execution_count": 35,
   "metadata": {
    "execution": {
     "iopub.execute_input": "2021-07-25T07:14:20.399433Z",
     "iopub.status.busy": "2021-07-25T07:14:20.395699Z",
     "iopub.status.idle": "2021-07-25T07:14:20.557915Z",
     "shell.execute_reply": "2021-07-25T07:14:20.558471Z",
     "shell.execute_reply.started": "2021-07-25T05:23:45.598014Z"
    },
    "papermill": {
     "duration": 0.392901,
     "end_time": "2021-07-25T07:14:20.558665",
     "exception": false,
     "start_time": "2021-07-25T07:14:20.165764",
     "status": "completed"
    },
    "tags": []
   },
   "outputs": [
    {
     "data": {
      "image/png": "[encoded data removed]",
      "text/plain": [
       "<Figure size 432x288 with 1 Axes>"
      ]
     },
     "metadata": {
      "needs_background": "light"
     },
     "output_type": "display_data"
    }
   ],
   "source": [
    "draw_scatter(train_df['1stFlrSF'], train_df['SalePrice'],\"1stFlrSF\",\"SalePrice\")"
   ]
  },
  {
   "cell_type": "code",
   "execution_count": 36,
   "metadata": {
    "execution": {
     "iopub.execute_input": "2021-07-25T05:25:46.931160Z",
     "iopub.status.busy": "2021-07-25T05:25:46.930637Z",
     "iopub.status.idle": "2021-07-25T05:25:47.105903Z",
     "shell.execute_reply": "2021-07-25T05:25:47.105194Z",
     "shell.execute_reply.started": "2021-07-25T05:25:46.931128Z"
    },
    "papermill": {
     "duration": null,
     "end_time": null,
     "exception": null,
     "start_time": null,
     "status": "pending"
    },
    "tags": []
   },
   "outputs": [
    {
     "data": {
      "image/png": "[encoded data removed]",
      "text/plain": [
       "<Figure size 432x288 with 1 Axes>"
      ]
     },
     "metadata": {
      "needs_background": "light"
     },
     "output_type": "display_data"
    }
   ],
   "source": [
    "draw_scatter(train_df['GrLivArea'], train_df['SalePrice'],\"GrLivArea\",\"SalePrice\")\n",
    "#draw_scatter(train_df['FullBath'], train_df['SalePrice'],\"FullBath\",\"SalePrice\")\n",
    "#draw_scatter(train_df['GarageCars'], train_df['SalePrice'],\"GarageCars\",\"SalePrice\")\n",
    "#draw_scatter(train_df['GarageArea'], train_df['SalePrice'],\"GarageArea\",\"SalePrice\")\n",
    "\n"
   ]
  },
  {
   "cell_type": "code",
   "execution_count": 37,
   "metadata": {
    "execution": {
     "iopub.execute_input": "2021-07-25T05:25:55.697802Z",
     "iopub.status.busy": "2021-07-25T05:25:55.697287Z",
     "iopub.status.idle": "2021-07-25T05:25:55.879553Z",
     "shell.execute_reply": "2021-07-25T05:25:55.878844Z",
     "shell.execute_reply.started": "2021-07-25T05:25:55.697770Z"
    },
    "papermill": {
     "duration": null,
     "end_time": null,
     "exception": null,
     "start_time": null,
     "status": "pending"
    },
    "tags": []
   },
   "outputs": [
    {
     "data": {
      "image/png": "[encoded data removed]",
      "text/plain": [
       "<Figure size 432x288 with 1 Axes>"
      ]
     },
     "metadata": {
      "needs_background": "light"
     },
     "output_type": "display_data"
    }
   ],
   "source": [
    "draw_scatter(train_df['FullBath'], train_df['SalePrice'],\"FullBath\",\"SalePrice\")\n"
   ]
  },
  {
   "cell_type": "code",
   "execution_count": 38,
   "metadata": {
    "execution": {
     "iopub.execute_input": "2021-07-25T05:26:06.889499Z",
     "iopub.status.busy": "2021-07-25T05:26:06.889121Z",
     "iopub.status.idle": "2021-07-25T05:26:07.091593Z",
     "shell.execute_reply": "2021-07-25T05:26:07.090558Z",
     "shell.execute_reply.started": "2021-07-25T05:26:06.889441Z"
    },
    "papermill": {
     "duration": null,
     "end_time": null,
     "exception": null,
     "start_time": null,
     "status": "pending"
    },
    "tags": []
   },
   "outputs": [
    {
     "data": {
      "image/png": "[encoded data removed]",
      "text/plain": [
       "<Figure size 432x288 with 1 Axes>"
      ]
     },
     "metadata": {
      "needs_background": "light"
     },
     "output_type": "display_data"
    }
   ],
   "source": [
    "draw_scatter(train_df['GarageCars'], train_df['SalePrice'],\"GarageCars\",\"SalePrice\")\n"
   ]
  },
  {
   "cell_type": "code",
   "execution_count": 39,
   "metadata": {
    "execution": {
     "iopub.execute_input": "2021-07-25T05:26:27.931280Z",
     "iopub.status.busy": "2021-07-25T05:26:27.930946Z",
     "iopub.status.idle": "2021-07-25T05:26:28.128580Z",
     "shell.execute_reply": "2021-07-25T05:26:28.127762Z",
     "shell.execute_reply.started": "2021-07-25T05:26:27.931251Z"
    },
    "papermill": {
     "duration": null,
     "end_time": null,
     "exception": null,
     "start_time": null,
     "status": "pending"
    },
    "tags": []
   },
   "outputs": [
    {
     "data": {
      "image/png": "[encoded data removed]",
      "text/plain": [
       "<Figure size 432x288 with 1 Axes>"
      ]
     },
     "metadata": {
      "needs_background": "light"
     },
     "output_type": "display_data"
    }
   ],
   "source": [
    "draw_scatter(train_df['GarageArea'], train_df['SalePrice'],\"GarageArea\",\"SalePrice\")\n"
   ]
  },
  {
   "cell_type": "code",
   "execution_count": 40,
   "metadata": {
    "execution": {
     "iopub.execute_input": "2021-07-25T05:27:18.696781Z",
     "iopub.status.busy": "2021-07-25T05:27:18.696399Z",
     "iopub.status.idle": "2021-07-25T05:27:19.103868Z",
     "shell.execute_reply": "2021-07-25T05:27:19.102838Z",
     "shell.execute_reply.started": "2021-07-25T05:27:18.696749Z"
    },
    "papermill": {
     "duration": null,
     "end_time": null,
     "exception": null,
     "start_time": null,
     "status": "pending"
    },
    "tags": []
   },
   "outputs": [
    {
     "data": {
      "text/plain": [
       "<seaborn.axisgrid.FacetGrid at 0x20b61c219d0>"
      ]
     },
     "execution_count": 40,
     "metadata": {},
     "output_type": "execute_result"
    },
    {
     "data": {
      "image/png": "[encoded data removed]",
      "text/plain": [
       "<Figure size 360x360 with 1 Axes>"
      ]
     },
     "metadata": {
      "needs_background": "light"
     },
     "output_type": "display_data"
    }
   ],
   "source": [
    "sns.displot(train_df['SalePrice'])"
   ]
  },
  {
   "cell_type": "code",
   "execution_count": 41,
   "metadata": {
    "execution": {
     "iopub.execute_input": "2021-07-25T05:32:00.844530Z",
     "iopub.status.busy": "2021-07-25T05:32:00.844161Z",
     "iopub.status.idle": "2021-07-25T05:32:00.850787Z",
     "shell.execute_reply": "2021-07-25T05:32:00.849815Z",
     "shell.execute_reply.started": "2021-07-25T05:32:00.844498Z"
    },
    "papermill": {
     "duration": null,
     "end_time": null,
     "exception": null,
     "start_time": null,
     "status": "pending"
    },
    "tags": []
   },
   "outputs": [
    {
     "data": {
      "text/plain": [
       "1.6094379124341003"
      ]
     },
     "execution_count": 41,
     "metadata": {},
     "output_type": "execute_result"
    }
   ],
   "source": [
    "np.log1p(4)"
   ]
  },
  {
   "cell_type": "code",
   "execution_count": 42,
   "metadata": {
    "execution": {
     "iopub.execute_input": "2021-07-25T05:30:48.768103Z",
     "iopub.status.busy": "2021-07-25T05:30:48.767719Z",
     "iopub.status.idle": "2021-07-25T05:30:49.131160Z",
     "shell.execute_reply": "2021-07-25T05:30:49.130207Z",
     "shell.execute_reply.started": "2021-07-25T05:30:48.768068Z"
    },
    "papermill": {
     "duration": null,
     "end_time": null,
     "exception": null,
     "start_time": null,
     "status": "pending"
    },
    "tags": []
   },
   "outputs": [
    {
     "data": {
      "text/plain": [
       "<seaborn.axisgrid.FacetGrid at 0x20b61c5f160>"
      ]
     },
     "execution_count": 42,
     "metadata": {},
     "output_type": "execute_result"
    },
    {
     "data": {
      "image/png": "[encoded data removed]",
      "text/plain": [
       "<Figure size 360x360 with 1 Axes>"
      ]
     },
     "metadata": {
      "needs_background": "light"
     },
     "output_type": "display_data"
    }
   ],
   "source": [
    "sns.displot(np.log1p(train_df['SalePrice']))"
   ]
  },
  {
   "cell_type": "code",
   "execution_count": 43,
   "metadata": {
    "execution": {
     "iopub.execute_input": "2021-07-25T05:32:08.559693Z",
     "iopub.status.busy": "2021-07-25T05:32:08.559325Z",
     "iopub.status.idle": "2021-07-25T05:32:08.565011Z",
     "shell.execute_reply": "2021-07-25T05:32:08.564334Z",
     "shell.execute_reply.started": "2021-07-25T05:32:08.559663Z"
    },
    "papermill": {
     "duration": null,
     "end_time": null,
     "exception": null,
     "start_time": null,
     "status": "pending"
    },
    "tags": []
   },
   "outputs": [
    {
     "data": {
      "text/plain": [
       "3.999999999999999"
      ]
     },
     "execution_count": 43,
     "metadata": {},
     "output_type": "execute_result"
    }
   ],
   "source": [
    "np.expm1(1.6094379124341003)"
   ]
  },
  {
   "cell_type": "code",
   "execution_count": 44,
   "metadata": {
    "execution": {
     "iopub.execute_input": "2021-07-25T07:00:20.271016Z",
     "iopub.status.busy": "2021-07-25T07:00:20.270646Z",
     "iopub.status.idle": "2021-07-25T07:00:20.280535Z",
     "shell.execute_reply": "2021-07-25T07:00:20.279387Z",
     "shell.execute_reply.started": "2021-07-25T07:00:20.270985Z"
    },
    "papermill": {
     "duration": null,
     "end_time": null,
     "exception": null,
     "start_time": null,
     "status": "pending"
    },
    "tags": []
   },
   "outputs": [
    {
     "data": {
      "text/plain": [
       "0       208500.0\n",
       "1       181500.0\n",
       "2       223500.0\n",
       "3       140000.0\n",
       "4       250000.0\n",
       "          ...   \n",
       "1454    175000.0\n",
       "1455    210000.0\n",
       "1456    266500.0\n",
       "1457    142125.0\n",
       "1458    147500.0\n",
       "Name: SalePrice, Length: 1459, dtype: float64"
      ]
     },
     "execution_count": 44,
     "metadata": {},
     "output_type": "execute_result"
    }
   ],
   "source": [
    "np.expm1(np.log1p(train_df['SalePrice']))"
   ]
  },
  {
   "cell_type": "code",
   "execution_count": 45,
   "metadata": {
    "execution": {
     "iopub.execute_input": "2021-07-25T07:00:24.213590Z",
     "iopub.status.busy": "2021-07-25T07:00:24.213220Z",
     "iopub.status.idle": "2021-07-25T07:00:24.219143Z",
     "shell.execute_reply": "2021-07-25T07:00:24.218168Z",
     "shell.execute_reply.started": "2021-07-25T07:00:24.213560Z"
    },
    "papermill": {
     "duration": null,
     "end_time": null,
     "exception": null,
     "start_time": null,
     "status": "pending"
    },
    "tags": []
   },
   "outputs": [],
   "source": [
    "train_df['SalePrice'] = np.log1p(train_df['SalePrice'])"
   ]
  },
  {
   "cell_type": "code",
   "execution_count": 46,
   "metadata": {
    "execution": {
     "iopub.execute_input": "2021-07-25T07:00:25.975741Z",
     "iopub.status.busy": "2021-07-25T07:00:25.975367Z",
     "iopub.status.idle": "2021-07-25T07:00:25.999543Z",
     "shell.execute_reply": "2021-07-25T07:00:25.998629Z",
     "shell.execute_reply.started": "2021-07-25T07:00:25.975709Z"
    },
    "papermill": {
     "duration": null,
     "end_time": null,
     "exception": null,
     "start_time": null,
     "status": "pending"
    },
    "tags": []
   },
   "outputs": [],
   "source": [
    "full_data = pd.concat([train_df, test_df])"
   ]
  },
  {
   "cell_type": "code",
   "execution_count": 47,
   "metadata": {
    "execution": {
     "iopub.execute_input": "2021-07-25T07:00:26.444747Z",
     "iopub.status.busy": "2021-07-25T07:00:26.444347Z",
     "iopub.status.idle": "2021-07-25T07:00:26.460137Z",
     "shell.execute_reply": "2021-07-25T07:00:26.458867Z",
     "shell.execute_reply.started": "2021-07-25T07:00:26.444713Z"
    },
    "papermill": {
     "duration": null,
     "end_time": null,
     "exception": null,
     "start_time": null,
     "status": "pending"
    },
    "tags": []
   },
   "outputs": [],
   "source": [
    "full_data = full_data.reset_index().drop(columns=\"index\")"
   ]
  },
  {
   "cell_type": "code",
   "execution_count": 48,
   "metadata": {
    "execution": {
     "iopub.execute_input": "2021-07-25T07:00:27.024001Z",
     "iopub.status.busy": "2021-07-25T07:00:27.023489Z",
     "iopub.status.idle": "2021-07-25T07:00:27.032287Z",
     "shell.execute_reply": "2021-07-25T07:00:27.031030Z",
     "shell.execute_reply.started": "2021-07-25T07:00:27.023962Z"
    },
    "papermill": {
     "duration": null,
     "end_time": null,
     "exception": null,
     "start_time": null,
     "status": "pending"
    },
    "tags": []
   },
   "outputs": [],
   "source": [
    "cat_col = full_data.select_dtypes(exclude = np.number).columns"
   ]
  },
  {
   "cell_type": "code",
   "execution_count": 49,
   "metadata": {
    "execution": {
     "iopub.execute_input": "2021-07-25T07:00:27.176625Z",
     "iopub.status.busy": "2021-07-25T07:00:27.176079Z",
     "iopub.status.idle": "2021-07-25T07:00:27.198155Z",
     "shell.execute_reply": "2021-07-25T07:00:27.197317Z",
     "shell.execute_reply.started": "2021-07-25T07:00:27.176577Z"
    },
    "papermill": {
     "duration": null,
     "end_time": null,
     "exception": null,
     "start_time": null,
     "status": "pending"
    },
    "tags": []
   },
   "outputs": [
    {
     "data": {
      "text/plain": [
       "MSZoning            4\n",
       "Street              0\n",
       "Alley            2720\n",
       "LotShape            0\n",
       "LandContour         0\n",
       "Utilities           2\n",
       "LotConfig           0\n",
       "LandSlope           0\n",
       "Neighborhood        0\n",
       "Condition1          0\n",
       "Condition2          0\n",
       "BldgType            0\n",
       "HouseStyle          0\n",
       "RoofStyle           0\n",
       "RoofMatl            0\n",
       "Exterior1st         1\n",
       "Exterior2nd         1\n",
       "MasVnrType         24\n",
       "ExterQual           0\n",
       "ExterCond           0\n",
       "Foundation          0\n",
       "BsmtQual           81\n",
       "BsmtCond           82\n",
       "BsmtExposure       82\n",
       "BsmtFinType1       79\n",
       "BsmtFinType2       80\n",
       "Heating             0\n",
       "HeatingQC           0\n",
       "CentralAir          0\n",
       "Electrical          1\n",
       "KitchenQual         1\n",
       "Functional          2\n",
       "FireplaceQu      1420\n",
       "GarageType        157\n",
       "GarageFinish      159\n",
       "GarageQual        159\n",
       "GarageCond        159\n",
       "PavedDrive          0\n",
       "PoolQC           2909\n",
       "Fence            2347\n",
       "MiscFeature      2813\n",
       "SaleType            1\n",
       "SaleCondition       0\n",
       "dtype: int64"
      ]
     },
     "execution_count": 49,
     "metadata": {},
     "output_type": "execute_result"
    }
   ],
   "source": [
    "full_data[cat_col].isna().sum()"
   ]
  },
  {
   "cell_type": "code",
   "execution_count": 50,
   "metadata": {
    "execution": {
     "iopub.execute_input": "2021-07-25T07:00:27.405309Z",
     "iopub.status.busy": "2021-07-25T07:00:27.404788Z",
     "iopub.status.idle": "2021-07-25T07:00:27.455559Z",
     "shell.execute_reply": "2021-07-25T07:00:27.454618Z",
     "shell.execute_reply.started": "2021-07-25T07:00:27.405262Z"
    },
    "papermill": {
     "duration": null,
     "end_time": null,
     "exception": null,
     "start_time": null,
     "status": "pending"
    },
    "tags": []
   },
   "outputs": [
    {
     "name": "stdout",
     "output_type": "stream",
     "text": [
      "We have 6 unique values in MSZoning columns: ['RL' 'RM' 'C (all)' 'FV' 'RH' nan] \n",
      "We have 2 unique values in Street columns: ['Pave' 'Grvl'] \n",
      "We have 3 unique values in Alley columns: [nan 'Grvl' 'Pave'] \n",
      "We have 4 unique values in LotShape columns: ['Reg' 'IR1' 'IR2' 'IR3'] \n",
      "We have 4 unique values in LandContour columns: ['Lvl' 'Bnk' 'Low' 'HLS'] \n",
      "We have 3 unique values in Utilities columns: ['AllPub' 'NoSeWa' nan] \n",
      "We have 5 unique values in LotConfig columns: ['Inside' 'FR2' 'Corner' 'CulDSac' 'FR3'] \n",
      "We have 3 unique values in LandSlope columns: ['Gtl' 'Mod' 'Sev'] \n",
      "We have 25 unique values in Neighborhood columns: ['CollgCr' 'Veenker' 'Crawfor' 'NoRidge' 'Mitchel' 'Somerst' 'NWAmes'\n",
      " 'OldTown' 'BrkSide' 'Sawyer' 'NridgHt' 'NAmes' 'SawyerW' 'IDOTRR'\n",
      " 'MeadowV' 'Edwards' 'Timber' 'Gilbert' 'StoneBr' 'ClearCr' 'NPkVill'\n",
      " 'Blmngtn' 'BrDale' 'SWISU' 'Blueste'] \n",
      "We have 9 unique values in Condition1 columns: ['Norm' 'Feedr' 'PosN' 'Artery' 'RRAe' 'RRNn' 'RRAn' 'PosA' 'RRNe'] \n",
      "We have 8 unique values in Condition2 columns: ['Norm' 'Artery' 'RRNn' 'Feedr' 'PosN' 'PosA' 'RRAn' 'RRAe'] \n",
      "We have 5 unique values in BldgType columns: ['1Fam' '2fmCon' 'Duplex' 'TwnhsE' 'Twnhs'] \n",
      "We have 8 unique values in HouseStyle columns: ['2Story' '1Story' '1.5Fin' '1.5Unf' 'SFoyer' 'SLvl' '2.5Unf' '2.5Fin'] \n",
      "We have 6 unique values in RoofStyle columns: ['Gable' 'Hip' 'Gambrel' 'Mansard' 'Flat' 'Shed'] \n",
      "We have 7 unique values in RoofMatl columns: ['CompShg' 'WdShngl' 'Metal' 'WdShake' 'Membran' 'Tar&Grv' 'Roll'] \n",
      "We have 16 unique values in Exterior1st columns: ['VinylSd' 'MetalSd' 'Wd Sdng' 'HdBoard' 'BrkFace' 'WdShing' 'CemntBd'\n",
      " 'Plywood' 'AsbShng' 'Stucco' 'BrkComm' 'AsphShn' 'Stone' 'ImStucc'\n",
      " 'CBlock' nan] \n",
      "We have 17 unique values in Exterior2nd columns: ['VinylSd' 'MetalSd' 'Wd Shng' 'HdBoard' 'Plywood' 'Wd Sdng' 'CmentBd'\n",
      " 'BrkFace' 'Stucco' 'AsbShng' 'Brk Cmn' 'ImStucc' 'AsphShn' 'Stone'\n",
      " 'Other' 'CBlock' nan] \n",
      "We have 5 unique values in MasVnrType columns: ['BrkFace' 'None' 'Stone' 'BrkCmn' nan] \n",
      "We have 4 unique values in ExterQual columns: ['Gd' 'TA' 'Ex' 'Fa'] \n",
      "We have 5 unique values in ExterCond columns: ['TA' 'Gd' 'Fa' 'Po' 'Ex'] \n",
      "We have 6 unique values in Foundation columns: ['PConc' 'CBlock' 'BrkTil' 'Wood' 'Slab' 'Stone'] \n",
      "We have 5 unique values in BsmtQual columns: ['Gd' 'TA' 'Ex' nan 'Fa'] \n",
      "We have 5 unique values in BsmtCond columns: ['TA' 'Gd' nan 'Fa' 'Po'] \n",
      "We have 5 unique values in BsmtExposure columns: ['No' 'Gd' 'Mn' 'Av' nan] \n",
      "We have 7 unique values in BsmtFinType1 columns: ['GLQ' 'ALQ' 'Unf' 'Rec' 'BLQ' nan 'LwQ'] \n",
      "We have 7 unique values in BsmtFinType2 columns: ['Unf' 'BLQ' nan 'ALQ' 'Rec' 'LwQ' 'GLQ'] \n",
      "We have 6 unique values in Heating columns: ['GasA' 'GasW' 'Grav' 'Wall' 'OthW' 'Floor'] \n",
      "We have 5 unique values in HeatingQC columns: ['Ex' 'Gd' 'TA' 'Fa' 'Po'] \n",
      "We have 2 unique values in CentralAir columns: ['Y' 'N'] \n",
      "We have 6 unique values in Electrical columns: ['SBrkr' 'FuseF' 'FuseA' 'FuseP' 'Mix' nan] \n",
      "We have 5 unique values in KitchenQual columns: ['Gd' 'TA' 'Ex' 'Fa' nan] \n",
      "We have 8 unique values in Functional columns: ['Typ' 'Min1' 'Maj1' 'Min2' 'Mod' 'Maj2' 'Sev' nan] \n",
      "We have 6 unique values in FireplaceQu columns: [nan 'TA' 'Gd' 'Fa' 'Ex' 'Po'] \n",
      "We have 7 unique values in GarageType columns: ['Attchd' 'Detchd' 'BuiltIn' 'CarPort' nan 'Basment' '2Types'] \n",
      "We have 4 unique values in GarageFinish columns: ['RFn' 'Unf' 'Fin' nan] \n",
      "We have 6 unique values in GarageQual columns: ['TA' 'Fa' 'Gd' nan 'Ex' 'Po'] \n",
      "We have 6 unique values in GarageCond columns: ['TA' 'Fa' nan 'Gd' 'Po' 'Ex'] \n",
      "We have 3 unique values in PavedDrive columns: ['Y' 'N' 'P'] \n",
      "We have 4 unique values in PoolQC columns: [nan 'Ex' 'Fa' 'Gd'] \n",
      "We have 5 unique values in Fence columns: [nan 'MnPrv' 'GdWo' 'GdPrv' 'MnWw'] \n",
      "We have 5 unique values in MiscFeature columns: [nan 'Shed' 'Gar2' 'Othr' 'TenC'] \n",
      "We have 10 unique values in SaleType columns: ['WD' 'New' 'COD' 'ConLD' 'ConLI' 'CWD' 'ConLw' 'Con' 'Oth' nan] \n",
      "We have 6 unique values in SaleCondition columns: ['Normal' 'Abnorml' 'Partial' 'AdjLand' 'Alloca' 'Family'] \n"
     ]
    }
   ],
   "source": [
    "for i in cat_col:\n",
    "    print(\"We have {} unique values in {} columns: {} \".format(len(full_data[i].unique()), i, full_data[i].unique()))"
   ]
  },
  {
   "cell_type": "code",
   "execution_count": 51,
   "metadata": {
    "execution": {
     "iopub.execute_input": "2021-07-25T07:00:27.671025Z",
     "iopub.status.busy": "2021-07-25T07:00:27.670626Z",
     "iopub.status.idle": "2021-07-25T07:00:27.692966Z",
     "shell.execute_reply": "2021-07-25T07:00:27.691927Z",
     "shell.execute_reply.started": "2021-07-25T07:00:27.670987Z"
    },
    "papermill": {
     "duration": null,
     "end_time": null,
     "exception": null,
     "start_time": null,
     "status": "pending"
    },
    "tags": []
   },
   "outputs": [],
   "source": [
    "d = (full_data[cat_col].isna().sum()/len(full_data))*100"
   ]
  },
  {
   "cell_type": "code",
   "execution_count": 52,
   "metadata": {
    "execution": {
     "iopub.execute_input": "2021-07-25T07:00:27.913861Z",
     "iopub.status.busy": "2021-07-25T07:00:27.913507Z",
     "iopub.status.idle": "2021-07-25T07:00:27.921748Z",
     "shell.execute_reply": "2021-07-25T07:00:27.920670Z",
     "shell.execute_reply.started": "2021-07-25T07:00:27.913830Z"
    },
    "papermill": {
     "duration": null,
     "end_time": null,
     "exception": null,
     "start_time": null,
     "status": "pending"
    },
    "tags": []
   },
   "outputs": [
    {
     "data": {
      "text/plain": [
       "MSZoning         0.137080\n",
       "Alley           93.214531\n",
       "Utilities        0.068540\n",
       "Exterior1st      0.034270\n",
       "Exterior2nd      0.034270\n",
       "MasVnrType       0.822481\n",
       "BsmtQual         2.775874\n",
       "BsmtCond         2.810144\n",
       "BsmtExposure     2.810144\n",
       "BsmtFinType1     2.707334\n",
       "BsmtFinType2     2.741604\n",
       "Electrical       0.034270\n",
       "KitchenQual      0.034270\n",
       "Functional       0.068540\n",
       "FireplaceQu     48.663468\n",
       "GarageType       5.380398\n",
       "GarageFinish     5.448938\n",
       "GarageQual       5.448938\n",
       "GarageCond       5.448938\n",
       "PoolQC          99.691570\n",
       "Fence           80.431803\n",
       "MiscFeature     96.401645\n",
       "SaleType         0.034270\n",
       "dtype: float64"
      ]
     },
     "execution_count": 52,
     "metadata": {},
     "output_type": "execute_result"
    }
   ],
   "source": [
    "d[d>0]"
   ]
  },
  {
   "cell_type": "code",
   "execution_count": 53,
   "metadata": {
    "execution": {
     "iopub.execute_input": "2021-07-25T07:00:28.206789Z",
     "iopub.status.busy": "2021-07-25T07:00:28.206416Z",
     "iopub.status.idle": "2021-07-25T07:00:28.241264Z",
     "shell.execute_reply": "2021-07-25T07:00:28.240512Z",
     "shell.execute_reply.started": "2021-07-25T07:00:28.206757Z"
    },
    "papermill": {
     "duration": null,
     "end_time": null,
     "exception": null,
     "start_time": null,
     "status": "pending"
    },
    "tags": []
   },
   "outputs": [],
   "source": [
    "full_data[cat_col] = full_data[cat_col].fillna(\"None\")"
   ]
  },
  {
   "cell_type": "code",
   "execution_count": 54,
   "metadata": {
    "execution": {
     "iopub.execute_input": "2021-07-25T07:00:28.426980Z",
     "iopub.status.busy": "2021-07-25T07:00:28.426434Z",
     "iopub.status.idle": "2021-07-25T07:00:28.450506Z",
     "shell.execute_reply": "2021-07-25T07:00:28.449390Z",
     "shell.execute_reply.started": "2021-07-25T07:00:28.426945Z"
    },
    "papermill": {
     "duration": null,
     "end_time": null,
     "exception": null,
     "start_time": null,
     "status": "pending"
    },
    "tags": []
   },
   "outputs": [
    {
     "data": {
      "text/plain": [
       "MSZoning         0\n",
       "Street           0\n",
       "Alley            0\n",
       "LotShape         0\n",
       "LandContour      0\n",
       "Utilities        0\n",
       "LotConfig        0\n",
       "LandSlope        0\n",
       "Neighborhood     0\n",
       "Condition1       0\n",
       "Condition2       0\n",
       "BldgType         0\n",
       "HouseStyle       0\n",
       "RoofStyle        0\n",
       "RoofMatl         0\n",
       "Exterior1st      0\n",
       "Exterior2nd      0\n",
       "MasVnrType       0\n",
       "ExterQual        0\n",
       "ExterCond        0\n",
       "Foundation       0\n",
       "BsmtQual         0\n",
       "BsmtCond         0\n",
       "BsmtExposure     0\n",
       "BsmtFinType1     0\n",
       "BsmtFinType2     0\n",
       "Heating          0\n",
       "HeatingQC        0\n",
       "CentralAir       0\n",
       "Electrical       0\n",
       "KitchenQual      0\n",
       "Functional       0\n",
       "FireplaceQu      0\n",
       "GarageType       0\n",
       "GarageFinish     0\n",
       "GarageQual       0\n",
       "GarageCond       0\n",
       "PavedDrive       0\n",
       "PoolQC           0\n",
       "Fence            0\n",
       "MiscFeature      0\n",
       "SaleType         0\n",
       "SaleCondition    0\n",
       "dtype: int64"
      ]
     },
     "execution_count": 54,
     "metadata": {},
     "output_type": "execute_result"
    }
   ],
   "source": [
    "full_data[cat_col].isna().sum()"
   ]
  },
  {
   "cell_type": "code",
   "execution_count": 55,
   "metadata": {
    "execution": {
     "iopub.execute_input": "2021-07-25T07:00:28.639203Z",
     "iopub.status.busy": "2021-07-25T07:00:28.638820Z",
     "iopub.status.idle": "2021-07-25T07:00:28.647006Z",
     "shell.execute_reply": "2021-07-25T07:00:28.646058Z",
     "shell.execute_reply.started": "2021-07-25T07:00:28.639167Z"
    },
    "papermill": {
     "duration": null,
     "end_time": null,
     "exception": null,
     "start_time": null,
     "status": "pending"
    },
    "tags": []
   },
   "outputs": [
    {
     "data": {
      "text/plain": [
       "0       12.247699\n",
       "1       12.109016\n",
       "2       12.317171\n",
       "3       11.849405\n",
       "4       12.429220\n",
       "          ...    \n",
       "2913          NaN\n",
       "2914          NaN\n",
       "2915          NaN\n",
       "2916          NaN\n",
       "2917          NaN\n",
       "Name: SalePrice, Length: 2918, dtype: float64"
      ]
     },
     "execution_count": 55,
     "metadata": {},
     "output_type": "execute_result"
    }
   ],
   "source": [
    "full_data['SalePrice']"
   ]
  },
  {
   "cell_type": "code",
   "execution_count": 56,
   "metadata": {
    "execution": {
     "iopub.execute_input": "2021-07-25T07:00:28.879439Z",
     "iopub.status.busy": "2021-07-25T07:00:28.879077Z",
     "iopub.status.idle": "2021-07-25T07:00:28.920430Z",
     "shell.execute_reply": "2021-07-25T07:00:28.919365Z",
     "shell.execute_reply.started": "2021-07-25T07:00:28.879403Z"
    },
    "papermill": {
     "duration": null,
     "end_time": null,
     "exception": null,
     "start_time": null,
     "status": "pending"
    },
    "tags": []
   },
   "outputs": [
    {
     "data": {
      "text/html": [
       "<div>\n",
       "<style scoped>\n",
       "    .dataframe tbody tr th:only-of-type {\n",
       "        vertical-align: middle;\n",
       "    }\n",
       "\n",
       "    .dataframe tbody tr th {\n",
       "        vertical-align: top;\n",
       "    }\n",
       "\n",
       "    .dataframe thead th {\n",
       "        text-align: right;\n",
       "    }\n",
       "</style>\n",
       "<table border=\"1\" class=\"dataframe\">\n",
       "  <thead>\n",
       "    <tr style=\"text-align: right;\">\n",
       "      <th></th>\n",
       "      <th>Id</th>\n",
       "      <th>MSSubClass</th>\n",
       "      <th>LotFrontage</th>\n",
       "      <th>LotArea</th>\n",
       "      <th>OverallQual</th>\n",
       "      <th>OverallCond</th>\n",
       "      <th>YearBuilt</th>\n",
       "      <th>YearRemodAdd</th>\n",
       "      <th>MasVnrArea</th>\n",
       "      <th>BsmtFinSF1</th>\n",
       "      <th>...</th>\n",
       "      <th>WoodDeckSF</th>\n",
       "      <th>OpenPorchSF</th>\n",
       "      <th>EnclosedPorch</th>\n",
       "      <th>3SsnPorch</th>\n",
       "      <th>ScreenPorch</th>\n",
       "      <th>PoolArea</th>\n",
       "      <th>MiscVal</th>\n",
       "      <th>MoSold</th>\n",
       "      <th>YrSold</th>\n",
       "      <th>SalePrice</th>\n",
       "    </tr>\n",
       "  </thead>\n",
       "  <tbody>\n",
       "    <tr>\n",
       "      <th>0</th>\n",
       "      <td>1</td>\n",
       "      <td>60</td>\n",
       "      <td>65.0</td>\n",
       "      <td>8450</td>\n",
       "      <td>7</td>\n",
       "      <td>5</td>\n",
       "      <td>2003</td>\n",
       "      <td>2003</td>\n",
       "      <td>196.0</td>\n",
       "      <td>706.0</td>\n",
       "      <td>...</td>\n",
       "      <td>0</td>\n",
       "      <td>61</td>\n",
       "      <td>0</td>\n",
       "      <td>0</td>\n",
       "      <td>0</td>\n",
       "      <td>0</td>\n",
       "      <td>0</td>\n",
       "      <td>2</td>\n",
       "      <td>2008</td>\n",
       "      <td>12.247699</td>\n",
       "    </tr>\n",
       "    <tr>\n",
       "      <th>1</th>\n",
       "      <td>2</td>\n",
       "      <td>20</td>\n",
       "      <td>80.0</td>\n",
       "      <td>9600</td>\n",
       "      <td>6</td>\n",
       "      <td>8</td>\n",
       "      <td>1976</td>\n",
       "      <td>1976</td>\n",
       "      <td>0.0</td>\n",
       "      <td>978.0</td>\n",
       "      <td>...</td>\n",
       "      <td>298</td>\n",
       "      <td>0</td>\n",
       "      <td>0</td>\n",
       "      <td>0</td>\n",
       "      <td>0</td>\n",
       "      <td>0</td>\n",
       "      <td>0</td>\n",
       "      <td>5</td>\n",
       "      <td>2007</td>\n",
       "      <td>12.109016</td>\n",
       "    </tr>\n",
       "    <tr>\n",
       "      <th>2</th>\n",
       "      <td>3</td>\n",
       "      <td>60</td>\n",
       "      <td>68.0</td>\n",
       "      <td>11250</td>\n",
       "      <td>7</td>\n",
       "      <td>5</td>\n",
       "      <td>2001</td>\n",
       "      <td>2002</td>\n",
       "      <td>162.0</td>\n",
       "      <td>486.0</td>\n",
       "      <td>...</td>\n",
       "      <td>0</td>\n",
       "      <td>42</td>\n",
       "      <td>0</td>\n",
       "      <td>0</td>\n",
       "      <td>0</td>\n",
       "      <td>0</td>\n",
       "      <td>0</td>\n",
       "      <td>9</td>\n",
       "      <td>2008</td>\n",
       "      <td>12.317171</td>\n",
       "    </tr>\n",
       "    <tr>\n",
       "      <th>3</th>\n",
       "      <td>4</td>\n",
       "      <td>70</td>\n",
       "      <td>60.0</td>\n",
       "      <td>9550</td>\n",
       "      <td>7</td>\n",
       "      <td>5</td>\n",
       "      <td>1915</td>\n",
       "      <td>1970</td>\n",
       "      <td>0.0</td>\n",
       "      <td>216.0</td>\n",
       "      <td>...</td>\n",
       "      <td>0</td>\n",
       "      <td>35</td>\n",
       "      <td>272</td>\n",
       "      <td>0</td>\n",
       "      <td>0</td>\n",
       "      <td>0</td>\n",
       "      <td>0</td>\n",
       "      <td>2</td>\n",
       "      <td>2006</td>\n",
       "      <td>11.849405</td>\n",
       "    </tr>\n",
       "    <tr>\n",
       "      <th>4</th>\n",
       "      <td>5</td>\n",
       "      <td>60</td>\n",
       "      <td>84.0</td>\n",
       "      <td>14260</td>\n",
       "      <td>8</td>\n",
       "      <td>5</td>\n",
       "      <td>2000</td>\n",
       "      <td>2000</td>\n",
       "      <td>350.0</td>\n",
       "      <td>655.0</td>\n",
       "      <td>...</td>\n",
       "      <td>192</td>\n",
       "      <td>84</td>\n",
       "      <td>0</td>\n",
       "      <td>0</td>\n",
       "      <td>0</td>\n",
       "      <td>0</td>\n",
       "      <td>0</td>\n",
       "      <td>12</td>\n",
       "      <td>2008</td>\n",
       "      <td>12.429220</td>\n",
       "    </tr>\n",
       "    <tr>\n",
       "      <th>...</th>\n",
       "      <td>...</td>\n",
       "      <td>...</td>\n",
       "      <td>...</td>\n",
       "      <td>...</td>\n",
       "      <td>...</td>\n",
       "      <td>...</td>\n",
       "      <td>...</td>\n",
       "      <td>...</td>\n",
       "      <td>...</td>\n",
       "      <td>...</td>\n",
       "      <td>...</td>\n",
       "      <td>...</td>\n",
       "      <td>...</td>\n",
       "      <td>...</td>\n",
       "      <td>...</td>\n",
       "      <td>...</td>\n",
       "      <td>...</td>\n",
       "      <td>...</td>\n",
       "      <td>...</td>\n",
       "      <td>...</td>\n",
       "      <td>...</td>\n",
       "    </tr>\n",
       "    <tr>\n",
       "      <th>2913</th>\n",
       "      <td>2915</td>\n",
       "      <td>160</td>\n",
       "      <td>21.0</td>\n",
       "      <td>1936</td>\n",
       "      <td>4</td>\n",
       "      <td>7</td>\n",
       "      <td>1970</td>\n",
       "      <td>1970</td>\n",
       "      <td>0.0</td>\n",
       "      <td>0.0</td>\n",
       "      <td>...</td>\n",
       "      <td>0</td>\n",
       "      <td>0</td>\n",
       "      <td>0</td>\n",
       "      <td>0</td>\n",
       "      <td>0</td>\n",
       "      <td>0</td>\n",
       "      <td>0</td>\n",
       "      <td>6</td>\n",
       "      <td>2006</td>\n",
       "      <td>NaN</td>\n",
       "    </tr>\n",
       "    <tr>\n",
       "      <th>2914</th>\n",
       "      <td>2916</td>\n",
       "      <td>160</td>\n",
       "      <td>21.0</td>\n",
       "      <td>1894</td>\n",
       "      <td>4</td>\n",
       "      <td>5</td>\n",
       "      <td>1970</td>\n",
       "      <td>1970</td>\n",
       "      <td>0.0</td>\n",
       "      <td>252.0</td>\n",
       "      <td>...</td>\n",
       "      <td>0</td>\n",
       "      <td>24</td>\n",
       "      <td>0</td>\n",
       "      <td>0</td>\n",
       "      <td>0</td>\n",
       "      <td>0</td>\n",
       "      <td>0</td>\n",
       "      <td>4</td>\n",
       "      <td>2006</td>\n",
       "      <td>NaN</td>\n",
       "    </tr>\n",
       "    <tr>\n",
       "      <th>2915</th>\n",
       "      <td>2917</td>\n",
       "      <td>20</td>\n",
       "      <td>160.0</td>\n",
       "      <td>20000</td>\n",
       "      <td>5</td>\n",
       "      <td>7</td>\n",
       "      <td>1960</td>\n",
       "      <td>1996</td>\n",
       "      <td>0.0</td>\n",
       "      <td>1224.0</td>\n",
       "      <td>...</td>\n",
       "      <td>474</td>\n",
       "      <td>0</td>\n",
       "      <td>0</td>\n",
       "      <td>0</td>\n",
       "      <td>0</td>\n",
       "      <td>0</td>\n",
       "      <td>0</td>\n",
       "      <td>9</td>\n",
       "      <td>2006</td>\n",
       "      <td>NaN</td>\n",
       "    </tr>\n",
       "    <tr>\n",
       "      <th>2916</th>\n",
       "      <td>2918</td>\n",
       "      <td>85</td>\n",
       "      <td>62.0</td>\n",
       "      <td>10441</td>\n",
       "      <td>5</td>\n",
       "      <td>5</td>\n",
       "      <td>1992</td>\n",
       "      <td>1992</td>\n",
       "      <td>0.0</td>\n",
       "      <td>337.0</td>\n",
       "      <td>...</td>\n",
       "      <td>80</td>\n",
       "      <td>32</td>\n",
       "      <td>0</td>\n",
       "      <td>0</td>\n",
       "      <td>0</td>\n",
       "      <td>0</td>\n",
       "      <td>700</td>\n",
       "      <td>7</td>\n",
       "      <td>2006</td>\n",
       "      <td>NaN</td>\n",
       "    </tr>\n",
       "    <tr>\n",
       "      <th>2917</th>\n",
       "      <td>2919</td>\n",
       "      <td>60</td>\n",
       "      <td>74.0</td>\n",
       "      <td>9627</td>\n",
       "      <td>7</td>\n",
       "      <td>5</td>\n",
       "      <td>1993</td>\n",
       "      <td>1994</td>\n",
       "      <td>94.0</td>\n",
       "      <td>758.0</td>\n",
       "      <td>...</td>\n",
       "      <td>190</td>\n",
       "      <td>48</td>\n",
       "      <td>0</td>\n",
       "      <td>0</td>\n",
       "      <td>0</td>\n",
       "      <td>0</td>\n",
       "      <td>0</td>\n",
       "      <td>11</td>\n",
       "      <td>2006</td>\n",
       "      <td>NaN</td>\n",
       "    </tr>\n",
       "  </tbody>\n",
       "</table>\n",
       "<p>2918 rows × 38 columns</p>\n",
       "</div>"
      ],
      "text/plain": [
       "        Id  MSSubClass  LotFrontage  LotArea  OverallQual  OverallCond  \\\n",
       "0        1          60         65.0     8450            7            5   \n",
       "1        2          20         80.0     9600            6            8   \n",
       "2        3          60         68.0    11250            7            5   \n",
       "3        4          70         60.0     9550            7            5   \n",
       "4        5          60         84.0    14260            8            5   \n",
       "...    ...         ...          ...      ...          ...          ...   \n",
       "2913  2915         160         21.0     1936            4            7   \n",
       "2914  2916         160         21.0     1894            4            5   \n",
       "2915  2917          20        160.0    20000            5            7   \n",
       "2916  2918          85         62.0    10441            5            5   \n",
       "2917  2919          60         74.0     9627            7            5   \n",
       "\n",
       "      YearBuilt  YearRemodAdd  MasVnrArea  BsmtFinSF1  ...  WoodDeckSF  \\\n",
       "0          2003          2003       196.0       706.0  ...           0   \n",
       "1          1976          1976         0.0       978.0  ...         298   \n",
       "2          2001          2002       162.0       486.0  ...           0   \n",
       "3          1915          1970         0.0       216.0  ...           0   \n",
       "4          2000          2000       350.0       655.0  ...         192   \n",
       "...         ...           ...         ...         ...  ...         ...   \n",
       "2913       1970          1970         0.0         0.0  ...           0   \n",
       "2914       1970          1970         0.0       252.0  ...           0   \n",
       "2915       1960          1996         0.0      1224.0  ...         474   \n",
       "2916       1992          1992         0.0       337.0  ...          80   \n",
       "2917       1993          1994        94.0       758.0  ...         190   \n",
       "\n",
       "      OpenPorchSF  EnclosedPorch  3SsnPorch  ScreenPorch  PoolArea  MiscVal  \\\n",
       "0              61              0          0            0         0        0   \n",
       "1               0              0          0            0         0        0   \n",
       "2              42              0          0            0         0        0   \n",
       "3              35            272          0            0         0        0   \n",
       "4              84              0          0            0         0        0   \n",
       "...           ...            ...        ...          ...       ...      ...   \n",
       "2913            0              0          0            0         0        0   \n",
       "2914           24              0          0            0         0        0   \n",
       "2915            0              0          0            0         0        0   \n",
       "2916           32              0          0            0         0      700   \n",
       "2917           48              0          0            0         0        0   \n",
       "\n",
       "      MoSold  YrSold  SalePrice  \n",
       "0          2    2008  12.247699  \n",
       "1          5    2007  12.109016  \n",
       "2          9    2008  12.317171  \n",
       "3          2    2006  11.849405  \n",
       "4         12    2008  12.429220  \n",
       "...      ...     ...        ...  \n",
       "2913       6    2006        NaN  \n",
       "2914       4    2006        NaN  \n",
       "2915       9    2006        NaN  \n",
       "2916       7    2006        NaN  \n",
       "2917      11    2006        NaN  \n",
       "\n",
       "[2918 rows x 38 columns]"
      ]
     },
     "execution_count": 56,
     "metadata": {},
     "output_type": "execute_result"
    }
   ],
   "source": [
    "full_data.select_dtypes(include=np.number)"
   ]
  },
  {
   "cell_type": "code",
   "execution_count": 57,
   "metadata": {
    "execution": {
     "iopub.execute_input": "2021-07-25T07:00:29.156176Z",
     "iopub.status.busy": "2021-07-25T07:00:29.155813Z",
     "iopub.status.idle": "2021-07-25T07:00:29.163063Z",
     "shell.execute_reply": "2021-07-25T07:00:29.161608Z",
     "shell.execute_reply.started": "2021-07-25T07:00:29.156144Z"
    },
    "papermill": {
     "duration": null,
     "end_time": null,
     "exception": null,
     "start_time": null,
     "status": "pending"
    },
    "tags": []
   },
   "outputs": [],
   "source": [
    "\n",
    "full_data[\"MSSubClass\"] = full_data[\"MSSubClass\"].astype('category')"
   ]
  },
  {
   "cell_type": "code",
   "execution_count": 58,
   "metadata": {
    "execution": {
     "iopub.execute_input": "2021-07-25T07:00:29.380103Z",
     "iopub.status.busy": "2021-07-25T07:00:29.379613Z",
     "iopub.status.idle": "2021-07-25T07:00:29.387622Z",
     "shell.execute_reply": "2021-07-25T07:00:29.386745Z",
     "shell.execute_reply.started": "2021-07-25T07:00:29.380070Z"
    },
    "papermill": {
     "duration": null,
     "end_time": null,
     "exception": null,
     "start_time": null,
     "status": "pending"
    },
    "tags": []
   },
   "outputs": [
    {
     "data": {
      "text/plain": [
       "0        5\n",
       "1        0\n",
       "2        5\n",
       "3        6\n",
       "4        5\n",
       "        ..\n",
       "2913    13\n",
       "2914    13\n",
       "2915     0\n",
       "2916     9\n",
       "2917     5\n",
       "Length: 2918, dtype: int8"
      ]
     },
     "execution_count": 58,
     "metadata": {},
     "output_type": "execute_result"
    }
   ],
   "source": [
    "full_data[\"MSSubClass\"].cat.codes"
   ]
  },
  {
   "cell_type": "code",
   "execution_count": 59,
   "metadata": {
    "execution": {
     "iopub.execute_input": "2021-07-25T07:00:29.689214Z",
     "iopub.status.busy": "2021-07-25T07:00:29.688714Z",
     "iopub.status.idle": "2021-07-25T07:00:29.694379Z",
     "shell.execute_reply": "2021-07-25T07:00:29.693627Z",
     "shell.execute_reply.started": "2021-07-25T07:00:29.689182Z"
    },
    "papermill": {
     "duration": null,
     "end_time": null,
     "exception": null,
     "start_time": null,
     "status": "pending"
    },
    "tags": []
   },
   "outputs": [],
   "source": [
    "full_data['differenceYrSoldBuilt'] = full_data['YrSold'] - full_data['YearBuilt']"
   ]
  },
  {
   "cell_type": "code",
   "execution_count": 60,
   "metadata": {
    "execution": {
     "iopub.execute_input": "2021-07-25T07:00:30.090250Z",
     "iopub.status.busy": "2021-07-25T07:00:30.089886Z",
     "iopub.status.idle": "2021-07-25T07:00:30.096151Z",
     "shell.execute_reply": "2021-07-25T07:00:30.095411Z",
     "shell.execute_reply.started": "2021-07-25T07:00:30.090217Z"
    },
    "papermill": {
     "duration": null,
     "end_time": null,
     "exception": null,
     "start_time": null,
     "status": "pending"
    },
    "tags": []
   },
   "outputs": [],
   "source": [
    "full_data['houseAge'] = 2021 - full_data['YearBuilt']"
   ]
  },
  {
   "cell_type": "code",
   "execution_count": 61,
   "metadata": {
    "execution": {
     "iopub.execute_input": "2021-07-25T07:00:30.361716Z",
     "iopub.status.busy": "2021-07-25T07:00:30.361244Z",
     "iopub.status.idle": "2021-07-25T07:00:30.367742Z",
     "shell.execute_reply": "2021-07-25T07:00:30.366671Z",
     "shell.execute_reply.started": "2021-07-25T07:00:30.361680Z"
    },
    "papermill": {
     "duration": null,
     "end_time": null,
     "exception": null,
     "start_time": null,
     "status": "pending"
    },
    "tags": []
   },
   "outputs": [],
   "source": [
    "full_data['AgeYrSold'] = 2021 - full_data['YrSold']"
   ]
  },
  {
   "cell_type": "code",
   "execution_count": 62,
   "metadata": {
    "execution": {
     "iopub.execute_input": "2021-07-25T07:00:30.577057Z",
     "iopub.status.busy": "2021-07-25T07:00:30.576383Z",
     "iopub.status.idle": "2021-07-25T07:00:30.583762Z",
     "shell.execute_reply": "2021-07-25T07:00:30.582977Z",
     "shell.execute_reply.started": "2021-07-25T07:00:30.576992Z"
    },
    "papermill": {
     "duration": null,
     "end_time": null,
     "exception": null,
     "start_time": null,
     "status": "pending"
    },
    "tags": []
   },
   "outputs": [],
   "source": [
    "del full_data['YearBuilt']\n",
    "del full_data['YrSold']"
   ]
  },
  {
   "cell_type": "code",
   "execution_count": 63,
   "metadata": {
    "execution": {
     "iopub.execute_input": "2021-07-25T07:00:30.784386Z",
     "iopub.status.busy": "2021-07-25T07:00:30.783834Z",
     "iopub.status.idle": "2021-07-25T07:00:30.791652Z",
     "shell.execute_reply": "2021-07-25T07:00:30.790579Z",
     "shell.execute_reply.started": "2021-07-25T07:00:30.784333Z"
    },
    "papermill": {
     "duration": null,
     "end_time": null,
     "exception": null,
     "start_time": null,
     "status": "pending"
    },
    "tags": []
   },
   "outputs": [
    {
     "data": {
      "text/plain": [
       "2021"
      ]
     },
     "execution_count": 63,
     "metadata": {},
     "output_type": "execute_result"
    }
   ],
   "source": [
    "from  datetime import datetime\n",
    "datetime.now().year"
   ]
  },
  {
   "cell_type": "code",
   "execution_count": 64,
   "metadata": {
    "execution": {
     "iopub.execute_input": "2021-07-25T07:00:31.304102Z",
     "iopub.status.busy": "2021-07-25T07:00:31.303554Z",
     "iopub.status.idle": "2021-07-25T07:00:31.310363Z",
     "shell.execute_reply": "2021-07-25T07:00:31.309629Z",
     "shell.execute_reply.started": "2021-07-25T07:00:31.304049Z"
    },
    "papermill": {
     "duration": null,
     "end_time": null,
     "exception": null,
     "start_time": null,
     "status": "pending"
    },
    "tags": []
   },
   "outputs": [],
   "source": [
    "full_data['YearRemodAdd'] = datetime.now().year - full_data['YearRemodAdd'] "
   ]
  },
  {
   "cell_type": "code",
   "execution_count": 65,
   "metadata": {
    "execution": {
     "iopub.execute_input": "2021-07-25T07:00:31.726171Z",
     "iopub.status.busy": "2021-07-25T07:00:31.725814Z",
     "iopub.status.idle": "2021-07-25T07:00:31.738289Z",
     "shell.execute_reply": "2021-07-25T07:00:31.737098Z",
     "shell.execute_reply.started": "2021-07-25T07:00:31.726139Z"
    },
    "papermill": {
     "duration": null,
     "end_time": null,
     "exception": null,
     "start_time": null,
     "status": "pending"
    },
    "tags": []
   },
   "outputs": [
    {
     "data": {
      "text/plain": [
       "Index(['Id', 'LotFrontage', 'LotArea', 'OverallQual', 'OverallCond',\n",
       "       'YearRemodAdd', 'MasVnrArea', 'BsmtFinSF1', 'BsmtFinSF2', 'BsmtUnfSF',\n",
       "       'TotalBsmtSF', '1stFlrSF', '2ndFlrSF', 'LowQualFinSF', 'GrLivArea',\n",
       "       'BsmtFullBath', 'BsmtHalfBath', 'FullBath', 'HalfBath', 'BedroomAbvGr',\n",
       "       'KitchenAbvGr', 'TotRmsAbvGrd', 'Fireplaces', 'GarageYrBlt',\n",
       "       'GarageCars', 'GarageArea', 'WoodDeckSF', 'OpenPorchSF',\n",
       "       'EnclosedPorch', '3SsnPorch', 'ScreenPorch', 'PoolArea', 'MiscVal',\n",
       "       'MoSold', 'SalePrice', 'differenceYrSoldBuilt', 'houseAge',\n",
       "       'AgeYrSold'],\n",
       "      dtype='object')"
      ]
     },
     "execution_count": 65,
     "metadata": {},
     "output_type": "execute_result"
    }
   ],
   "source": [
    "full_data.select_dtypes(include = np.number).columns"
   ]
  },
  {
   "cell_type": "code",
   "execution_count": 66,
   "metadata": {
    "execution": {
     "iopub.execute_input": "2021-07-25T07:00:32.180460Z",
     "iopub.status.busy": "2021-07-25T07:00:32.180078Z",
     "iopub.status.idle": "2021-07-25T07:00:32.203857Z",
     "shell.execute_reply": "2021-07-25T07:00:32.202336Z",
     "shell.execute_reply.started": "2021-07-25T07:00:32.180411Z"
    },
    "papermill": {
     "duration": null,
     "end_time": null,
     "exception": null,
     "start_time": null,
     "status": "pending"
    },
    "tags": []
   },
   "outputs": [
    {
     "data": {
      "text/html": [
       "<div>\n",
       "<style scoped>\n",
       "    .dataframe tbody tr th:only-of-type {\n",
       "        vertical-align: middle;\n",
       "    }\n",
       "\n",
       "    .dataframe tbody tr th {\n",
       "        vertical-align: top;\n",
       "    }\n",
       "\n",
       "    .dataframe thead th {\n",
       "        text-align: right;\n",
       "    }\n",
       "</style>\n",
       "<table border=\"1\" class=\"dataframe\">\n",
       "  <thead>\n",
       "    <tr style=\"text-align: right;\">\n",
       "      <th></th>\n",
       "      <th>BsmtFinSF1</th>\n",
       "      <th>BsmtFinSF2</th>\n",
       "      <th>BsmtUnfSF</th>\n",
       "      <th>TotalBsmtSF</th>\n",
       "      <th>1stFlrSF</th>\n",
       "      <th>2ndFlrSF</th>\n",
       "      <th>LowQualFinSF</th>\n",
       "    </tr>\n",
       "  </thead>\n",
       "  <tbody>\n",
       "    <tr>\n",
       "      <th>0</th>\n",
       "      <td>706.0</td>\n",
       "      <td>0.0</td>\n",
       "      <td>150.0</td>\n",
       "      <td>856.0</td>\n",
       "      <td>856</td>\n",
       "      <td>854</td>\n",
       "      <td>0</td>\n",
       "    </tr>\n",
       "    <tr>\n",
       "      <th>1</th>\n",
       "      <td>978.0</td>\n",
       "      <td>0.0</td>\n",
       "      <td>284.0</td>\n",
       "      <td>1262.0</td>\n",
       "      <td>1262</td>\n",
       "      <td>0</td>\n",
       "      <td>0</td>\n",
       "    </tr>\n",
       "    <tr>\n",
       "      <th>2</th>\n",
       "      <td>486.0</td>\n",
       "      <td>0.0</td>\n",
       "      <td>434.0</td>\n",
       "      <td>920.0</td>\n",
       "      <td>920</td>\n",
       "      <td>866</td>\n",
       "      <td>0</td>\n",
       "    </tr>\n",
       "    <tr>\n",
       "      <th>3</th>\n",
       "      <td>216.0</td>\n",
       "      <td>0.0</td>\n",
       "      <td>540.0</td>\n",
       "      <td>756.0</td>\n",
       "      <td>961</td>\n",
       "      <td>756</td>\n",
       "      <td>0</td>\n",
       "    </tr>\n",
       "    <tr>\n",
       "      <th>4</th>\n",
       "      <td>655.0</td>\n",
       "      <td>0.0</td>\n",
       "      <td>490.0</td>\n",
       "      <td>1145.0</td>\n",
       "      <td>1145</td>\n",
       "      <td>1053</td>\n",
       "      <td>0</td>\n",
       "    </tr>\n",
       "    <tr>\n",
       "      <th>...</th>\n",
       "      <td>...</td>\n",
       "      <td>...</td>\n",
       "      <td>...</td>\n",
       "      <td>...</td>\n",
       "      <td>...</td>\n",
       "      <td>...</td>\n",
       "      <td>...</td>\n",
       "    </tr>\n",
       "    <tr>\n",
       "      <th>2913</th>\n",
       "      <td>0.0</td>\n",
       "      <td>0.0</td>\n",
       "      <td>546.0</td>\n",
       "      <td>546.0</td>\n",
       "      <td>546</td>\n",
       "      <td>546</td>\n",
       "      <td>0</td>\n",
       "    </tr>\n",
       "    <tr>\n",
       "      <th>2914</th>\n",
       "      <td>252.0</td>\n",
       "      <td>0.0</td>\n",
       "      <td>294.0</td>\n",
       "      <td>546.0</td>\n",
       "      <td>546</td>\n",
       "      <td>546</td>\n",
       "      <td>0</td>\n",
       "    </tr>\n",
       "    <tr>\n",
       "      <th>2915</th>\n",
       "      <td>1224.0</td>\n",
       "      <td>0.0</td>\n",
       "      <td>0.0</td>\n",
       "      <td>1224.0</td>\n",
       "      <td>1224</td>\n",
       "      <td>0</td>\n",
       "      <td>0</td>\n",
       "    </tr>\n",
       "    <tr>\n",
       "      <th>2916</th>\n",
       "      <td>337.0</td>\n",
       "      <td>0.0</td>\n",
       "      <td>575.0</td>\n",
       "      <td>912.0</td>\n",
       "      <td>970</td>\n",
       "      <td>0</td>\n",
       "      <td>0</td>\n",
       "    </tr>\n",
       "    <tr>\n",
       "      <th>2917</th>\n",
       "      <td>758.0</td>\n",
       "      <td>0.0</td>\n",
       "      <td>238.0</td>\n",
       "      <td>996.0</td>\n",
       "      <td>996</td>\n",
       "      <td>1004</td>\n",
       "      <td>0</td>\n",
       "    </tr>\n",
       "  </tbody>\n",
       "</table>\n",
       "<p>2918 rows × 7 columns</p>\n",
       "</div>"
      ],
      "text/plain": [
       "      BsmtFinSF1  BsmtFinSF2  BsmtUnfSF  TotalBsmtSF  1stFlrSF  2ndFlrSF  \\\n",
       "0          706.0         0.0      150.0        856.0       856       854   \n",
       "1          978.0         0.0      284.0       1262.0      1262         0   \n",
       "2          486.0         0.0      434.0        920.0       920       866   \n",
       "3          216.0         0.0      540.0        756.0       961       756   \n",
       "4          655.0         0.0      490.0       1145.0      1145      1053   \n",
       "...          ...         ...        ...          ...       ...       ...   \n",
       "2913         0.0         0.0      546.0        546.0       546       546   \n",
       "2914       252.0         0.0      294.0        546.0       546       546   \n",
       "2915      1224.0         0.0        0.0       1224.0      1224         0   \n",
       "2916       337.0         0.0      575.0        912.0       970         0   \n",
       "2917       758.0         0.0      238.0        996.0       996      1004   \n",
       "\n",
       "      LowQualFinSF  \n",
       "0                0  \n",
       "1                0  \n",
       "2                0  \n",
       "3                0  \n",
       "4                0  \n",
       "...            ...  \n",
       "2913             0  \n",
       "2914             0  \n",
       "2915             0  \n",
       "2916             0  \n",
       "2917             0  \n",
       "\n",
       "[2918 rows x 7 columns]"
      ]
     },
     "execution_count": 66,
     "metadata": {},
     "output_type": "execute_result"
    }
   ],
   "source": [
    "full_data[['BsmtFinSF1', 'BsmtFinSF2', 'BsmtUnfSF',\n",
    "       'TotalBsmtSF', '1stFlrSF', '2ndFlrSF', 'LowQualFinSF']]"
   ]
  },
  {
   "cell_type": "code",
   "execution_count": 67,
   "metadata": {
    "execution": {
     "iopub.execute_input": "2021-07-25T07:00:32.696760Z",
     "iopub.status.busy": "2021-07-25T07:00:32.696355Z",
     "iopub.status.idle": "2021-07-25T07:00:32.704291Z",
     "shell.execute_reply": "2021-07-25T07:00:32.703407Z",
     "shell.execute_reply.started": "2021-07-25T07:00:32.696726Z"
    },
    "papermill": {
     "duration": null,
     "end_time": null,
     "exception": null,
     "start_time": null,
     "status": "pending"
    },
    "tags": []
   },
   "outputs": [],
   "source": [
    "full_data.drop(columns=['BsmtFinSF1', 'BsmtFinSF2'], inplace = True)"
   ]
  },
  {
   "cell_type": "code",
   "execution_count": 68,
   "metadata": {
    "execution": {
     "iopub.execute_input": "2021-07-25T07:00:33.182198Z",
     "iopub.status.busy": "2021-07-25T07:00:33.181656Z",
     "iopub.status.idle": "2021-07-25T07:00:33.189546Z",
     "shell.execute_reply": "2021-07-25T07:00:33.188695Z",
     "shell.execute_reply.started": "2021-07-25T07:00:33.182163Z"
    },
    "papermill": {
     "duration": null,
     "end_time": null,
     "exception": null,
     "start_time": null,
     "status": "pending"
    },
    "tags": []
   },
   "outputs": [
    {
     "data": {
      "text/plain": [
       "6     503\n",
       "7     446\n",
       "5     394\n",
       "4     279\n",
       "8     233\n",
       "3     232\n",
       "10    173\n",
       "9     158\n",
       "11    142\n",
       "2     133\n",
       "1     121\n",
       "12    104\n",
       "Name: MoSold, dtype: int64"
      ]
     },
     "execution_count": 68,
     "metadata": {},
     "output_type": "execute_result"
    }
   ],
   "source": [
    "full_data['MoSold'].value_counts()"
   ]
  },
  {
   "cell_type": "code",
   "execution_count": 69,
   "metadata": {
    "execution": {
     "iopub.execute_input": "2021-07-25T07:00:33.606916Z",
     "iopub.status.busy": "2021-07-25T07:00:33.606525Z",
     "iopub.status.idle": "2021-07-25T07:00:33.615089Z",
     "shell.execute_reply": "2021-07-25T07:00:33.614014Z",
     "shell.execute_reply.started": "2021-07-25T07:00:33.606880Z"
    },
    "papermill": {
     "duration": null,
     "end_time": null,
     "exception": null,
     "start_time": null,
     "status": "pending"
    },
    "tags": []
   },
   "outputs": [],
   "source": [
    "a = full_data.groupby([\"MoSold\",\"houseAge\"])[\"SalePrice\"].mean()"
   ]
  },
  {
   "cell_type": "code",
   "execution_count": 70,
   "metadata": {
    "execution": {
     "iopub.execute_input": "2021-07-25T07:00:34.068724Z",
     "iopub.status.busy": "2021-07-25T07:00:34.068282Z",
     "iopub.status.idle": "2021-07-25T07:00:34.077964Z",
     "shell.execute_reply": "2021-07-25T07:00:34.076772Z",
     "shell.execute_reply.started": "2021-07-25T07:00:34.068680Z"
    },
    "papermill": {
     "duration": null,
     "end_time": null,
     "exception": null,
     "start_time": null,
     "status": "pending"
    },
    "tags": []
   },
   "outputs": [
    {
     "data": {
      "text/plain": [
       "houseAge\n",
       "11           NaN\n",
       "12     12.728718\n",
       "13           NaN\n",
       "14     11.982279\n",
       "15     12.369239\n",
       "         ...    \n",
       "109    11.751179\n",
       "111          NaN\n",
       "114          NaN\n",
       "116          NaN\n",
       "121          NaN\n",
       "Name: SalePrice, Length: 84, dtype: float64"
      ]
     },
     "execution_count": 70,
     "metadata": {},
     "output_type": "execute_result"
    }
   ],
   "source": [
    "a[3]"
   ]
  },
  {
   "cell_type": "code",
   "execution_count": 71,
   "metadata": {
    "execution": {
     "iopub.execute_input": "2021-07-25T07:00:34.703239Z",
     "iopub.status.busy": "2021-07-25T07:00:34.702870Z",
     "iopub.status.idle": "2021-07-25T07:00:34.708557Z",
     "shell.execute_reply": "2021-07-25T07:00:34.707595Z",
     "shell.execute_reply.started": "2021-07-25T07:00:34.703205Z"
    },
    "papermill": {
     "duration": null,
     "end_time": null,
     "exception": null,
     "start_time": null,
     "status": "pending"
    },
    "tags": []
   },
   "outputs": [],
   "source": [
    "del full_data['MoSold']"
   ]
  },
  {
   "cell_type": "code",
   "execution_count": 72,
   "metadata": {
    "execution": {
     "iopub.execute_input": "2021-07-25T07:00:35.236417Z",
     "iopub.status.busy": "2021-07-25T07:00:35.235897Z",
     "iopub.status.idle": "2021-07-25T07:00:35.257908Z",
     "shell.execute_reply": "2021-07-25T07:00:35.256903Z",
     "shell.execute_reply.started": "2021-07-25T07:00:35.236379Z"
    },
    "papermill": {
     "duration": null,
     "end_time": null,
     "exception": null,
     "start_time": null,
     "status": "pending"
    },
    "tags": []
   },
   "outputs": [
    {
     "data": {
      "text/plain": [
       "Id                      -0.017858\n",
       "LotFrontage              0.372421\n",
       "LotArea                  0.260263\n",
       "OverallQual              0.819626\n",
       "OverallCond             -0.036908\n",
       "YearRemodAdd            -0.565933\n",
       "MasVnrArea               0.433261\n",
       "BsmtUnfSF                0.221974\n",
       "TotalBsmtSF              0.642890\n",
       "1stFlrSF                 0.615479\n",
       "2ndFlrSF                 0.319608\n",
       "LowQualFinSF            -0.037972\n",
       "GrLivArea                0.716807\n",
       "BsmtFullBath             0.237189\n",
       "BsmtHalfBath            -0.005166\n",
       "FullBath                 0.594956\n",
       "HalfBath                 0.314232\n",
       "BedroomAbvGr             0.209058\n",
       "KitchenAbvGr            -0.147566\n",
       "TotRmsAbvGrd             0.536761\n",
       "Fireplaces               0.492032\n",
       "GarageYrBlt              0.541526\n",
       "GarageCars               0.680672\n",
       "GarageArea               0.655609\n",
       "WoodDeckSF               0.334309\n",
       "OpenPorchSF              0.322837\n",
       "EnclosedPorch           -0.149083\n",
       "3SsnPorch                0.054892\n",
       "ScreenPorch              0.121192\n",
       "PoolArea                 0.074325\n",
       "MiscVal                 -0.020027\n",
       "SalePrice                1.000000\n",
       "differenceYrSoldBuilt   -0.587672\n",
       "houseAge                -0.586956\n",
       "AgeYrSold                0.037253\n",
       "Name: SalePrice, dtype: float64"
      ]
     },
     "execution_count": 72,
     "metadata": {},
     "output_type": "execute_result"
    }
   ],
   "source": [
    "full_data.corr()['SalePrice']"
   ]
  },
  {
   "cell_type": "code",
   "execution_count": 73,
   "metadata": {
    "execution": {
     "iopub.execute_input": "2021-07-25T07:00:35.775778Z",
     "iopub.status.busy": "2021-07-25T07:00:35.775387Z",
     "iopub.status.idle": "2021-07-25T07:00:35.781822Z",
     "shell.execute_reply": "2021-07-25T07:00:35.780744Z",
     "shell.execute_reply.started": "2021-07-25T07:00:35.775745Z"
    },
    "papermill": {
     "duration": null,
     "end_time": null,
     "exception": null,
     "start_time": null,
     "status": "pending"
    },
    "tags": []
   },
   "outputs": [],
   "source": [
    "full_data['GarageYrBlt'] = 2021 - full_data['GarageYrBlt']"
   ]
  },
  {
   "cell_type": "code",
   "execution_count": 74,
   "metadata": {
    "execution": {
     "iopub.execute_input": "2021-07-25T07:00:36.230975Z",
     "iopub.status.busy": "2021-07-25T07:00:36.230623Z",
     "iopub.status.idle": "2021-07-25T07:00:36.252604Z",
     "shell.execute_reply": "2021-07-25T07:00:36.251529Z",
     "shell.execute_reply.started": "2021-07-25T07:00:36.230944Z"
    },
    "papermill": {
     "duration": null,
     "end_time": null,
     "exception": null,
     "start_time": null,
     "status": "pending"
    },
    "tags": []
   },
   "outputs": [
    {
     "data": {
      "text/plain": [
       "Id                      -0.017858\n",
       "LotFrontage              0.372421\n",
       "LotArea                  0.260263\n",
       "OverallQual              0.819626\n",
       "OverallCond             -0.036908\n",
       "YearRemodAdd            -0.565933\n",
       "MasVnrArea               0.433261\n",
       "BsmtUnfSF                0.221974\n",
       "TotalBsmtSF              0.642890\n",
       "1stFlrSF                 0.615479\n",
       "2ndFlrSF                 0.319608\n",
       "LowQualFinSF            -0.037972\n",
       "GrLivArea                0.716807\n",
       "BsmtFullBath             0.237189\n",
       "BsmtHalfBath            -0.005166\n",
       "FullBath                 0.594956\n",
       "HalfBath                 0.314232\n",
       "BedroomAbvGr             0.209058\n",
       "KitchenAbvGr            -0.147566\n",
       "TotRmsAbvGrd             0.536761\n",
       "Fireplaces               0.492032\n",
       "GarageYrBlt             -0.541526\n",
       "GarageCars               0.680672\n",
       "GarageArea               0.655609\n",
       "WoodDeckSF               0.334309\n",
       "OpenPorchSF              0.322837\n",
       "EnclosedPorch           -0.149083\n",
       "3SsnPorch                0.054892\n",
       "ScreenPorch              0.121192\n",
       "PoolArea                 0.074325\n",
       "MiscVal                 -0.020027\n",
       "SalePrice                1.000000\n",
       "differenceYrSoldBuilt   -0.587672\n",
       "houseAge                -0.586956\n",
       "AgeYrSold                0.037253\n",
       "Name: SalePrice, dtype: float64"
      ]
     },
     "execution_count": 74,
     "metadata": {},
     "output_type": "execute_result"
    }
   ],
   "source": [
    "full_data.corr()['SalePrice']"
   ]
  },
  {
   "cell_type": "code",
   "execution_count": 75,
   "metadata": {
    "execution": {
     "iopub.execute_input": "2021-07-25T07:00:36.650877Z",
     "iopub.status.busy": "2021-07-25T07:00:36.650515Z",
     "iopub.status.idle": "2021-07-25T07:00:36.663191Z",
     "shell.execute_reply": "2021-07-25T07:00:36.662437Z",
     "shell.execute_reply.started": "2021-07-25T07:00:36.650846Z"
    },
    "papermill": {
     "duration": null,
     "end_time": null,
     "exception": null,
     "start_time": null,
     "status": "pending"
    },
    "tags": []
   },
   "outputs": [
    {
     "data": {
      "text/plain": [
       "Id                          0\n",
       "LotFrontage               486\n",
       "LotArea                     0\n",
       "OverallQual                 0\n",
       "OverallCond                 0\n",
       "YearRemodAdd                0\n",
       "MasVnrArea                 23\n",
       "BsmtUnfSF                   1\n",
       "TotalBsmtSF                 1\n",
       "1stFlrSF                    0\n",
       "2ndFlrSF                    0\n",
       "LowQualFinSF                0\n",
       "GrLivArea                   0\n",
       "BsmtFullBath                2\n",
       "BsmtHalfBath                2\n",
       "FullBath                    0\n",
       "HalfBath                    0\n",
       "BedroomAbvGr                0\n",
       "KitchenAbvGr                0\n",
       "TotRmsAbvGrd                0\n",
       "Fireplaces                  0\n",
       "GarageYrBlt               159\n",
       "GarageCars                  1\n",
       "GarageArea                  1\n",
       "WoodDeckSF                  0\n",
       "OpenPorchSF                 0\n",
       "EnclosedPorch               0\n",
       "3SsnPorch                   0\n",
       "ScreenPorch                 0\n",
       "PoolArea                    0\n",
       "MiscVal                     0\n",
       "SalePrice                1459\n",
       "differenceYrSoldBuilt       0\n",
       "houseAge                    0\n",
       "AgeYrSold                   0\n",
       "dtype: int64"
      ]
     },
     "execution_count": 75,
     "metadata": {},
     "output_type": "execute_result"
    }
   ],
   "source": [
    "full_data.select_dtypes(include=np.number).isna().sum()"
   ]
  },
  {
   "cell_type": "code",
   "execution_count": 76,
   "metadata": {
    "execution": {
     "iopub.execute_input": "2021-07-25T07:00:37.093528Z",
     "iopub.status.busy": "2021-07-25T07:00:37.093157Z",
     "iopub.status.idle": "2021-07-25T07:00:37.100092Z",
     "shell.execute_reply": "2021-07-25T07:00:37.099133Z",
     "shell.execute_reply.started": "2021-07-25T07:00:37.093495Z"
    },
    "papermill": {
     "duration": null,
     "end_time": null,
     "exception": null,
     "start_time": null,
     "status": "pending"
    },
    "tags": []
   },
   "outputs": [
    {
     "data": {
      "text/plain": [
       "68.0"
      ]
     },
     "execution_count": 76,
     "metadata": {},
     "output_type": "execute_result"
    }
   ],
   "source": [
    "full_data['LotFrontage'].median()"
   ]
  },
  {
   "cell_type": "code",
   "execution_count": 77,
   "metadata": {
    "execution": {
     "iopub.execute_input": "2021-07-25T07:00:37.523598Z",
     "iopub.status.busy": "2021-07-25T07:00:37.523241Z",
     "iopub.status.idle": "2021-07-25T07:00:37.533752Z",
     "shell.execute_reply": "2021-07-25T07:00:37.532767Z",
     "shell.execute_reply.started": "2021-07-25T07:00:37.523565Z"
    },
    "papermill": {
     "duration": null,
     "end_time": null,
     "exception": null,
     "start_time": null,
     "status": "pending"
    },
    "tags": []
   },
   "outputs": [],
   "source": [
    "full_data[\"LotFrontage\"] = full_data.groupby(\"MSZoning\").LotFrontage.transform(lambda x : x.fillna(x.median()))"
   ]
  },
  {
   "cell_type": "code",
   "execution_count": 78,
   "metadata": {
    "execution": {
     "iopub.execute_input": "2021-07-25T07:00:37.961863Z",
     "iopub.status.busy": "2021-07-25T07:00:37.961503Z",
     "iopub.status.idle": "2021-07-25T07:00:37.976846Z",
     "shell.execute_reply": "2021-07-25T07:00:37.975859Z",
     "shell.execute_reply.started": "2021-07-25T07:00:37.961832Z"
    },
    "papermill": {
     "duration": null,
     "end_time": null,
     "exception": null,
     "start_time": null,
     "status": "pending"
    },
    "tags": []
   },
   "outputs": [
    {
     "data": {
      "text/plain": [
       "Id                          0\n",
       "LotFrontage                 0\n",
       "LotArea                     0\n",
       "OverallQual                 0\n",
       "OverallCond                 0\n",
       "YearRemodAdd                0\n",
       "MasVnrArea                 23\n",
       "BsmtUnfSF                   1\n",
       "TotalBsmtSF                 1\n",
       "1stFlrSF                    0\n",
       "2ndFlrSF                    0\n",
       "LowQualFinSF                0\n",
       "GrLivArea                   0\n",
       "BsmtFullBath                2\n",
       "BsmtHalfBath                2\n",
       "FullBath                    0\n",
       "HalfBath                    0\n",
       "BedroomAbvGr                0\n",
       "KitchenAbvGr                0\n",
       "TotRmsAbvGrd                0\n",
       "Fireplaces                  0\n",
       "GarageYrBlt               159\n",
       "GarageCars                  1\n",
       "GarageArea                  1\n",
       "WoodDeckSF                  0\n",
       "OpenPorchSF                 0\n",
       "EnclosedPorch               0\n",
       "3SsnPorch                   0\n",
       "ScreenPorch                 0\n",
       "PoolArea                    0\n",
       "MiscVal                     0\n",
       "SalePrice                1459\n",
       "differenceYrSoldBuilt       0\n",
       "houseAge                    0\n",
       "AgeYrSold                   0\n",
       "dtype: int64"
      ]
     },
     "execution_count": 78,
     "metadata": {},
     "output_type": "execute_result"
    }
   ],
   "source": [
    "full_data.select_dtypes(include=np.number).isna().sum()"
   ]
  },
  {
   "cell_type": "code",
   "execution_count": 79,
   "metadata": {
    "execution": {
     "iopub.execute_input": "2021-07-25T07:00:38.396897Z",
     "iopub.status.busy": "2021-07-25T07:00:38.396521Z",
     "iopub.status.idle": "2021-07-25T07:00:38.407069Z",
     "shell.execute_reply": "2021-07-25T07:00:38.406210Z",
     "shell.execute_reply.started": "2021-07-25T07:00:38.396863Z"
    },
    "papermill": {
     "duration": null,
     "end_time": null,
     "exception": null,
     "start_time": null,
     "status": "pending"
    },
    "tags": []
   },
   "outputs": [],
   "source": [
    "full_data[\"MasVnrArea\"] = full_data.groupby(\"MasVnrType\").MasVnrArea.transform(lambda x : x.fillna(x.median()))"
   ]
  },
  {
   "cell_type": "code",
   "execution_count": 80,
   "metadata": {
    "execution": {
     "iopub.execute_input": "2021-07-25T07:00:38.783405Z",
     "iopub.status.busy": "2021-07-25T07:00:38.782828Z",
     "iopub.status.idle": "2021-07-25T07:00:38.798497Z",
     "shell.execute_reply": "2021-07-25T07:00:38.796976Z",
     "shell.execute_reply.started": "2021-07-25T07:00:38.783348Z"
    },
    "papermill": {
     "duration": null,
     "end_time": null,
     "exception": null,
     "start_time": null,
     "status": "pending"
    },
    "tags": []
   },
   "outputs": [
    {
     "data": {
      "text/plain": [
       "Id                          0\n",
       "LotFrontage                 0\n",
       "LotArea                     0\n",
       "OverallQual                 0\n",
       "OverallCond                 0\n",
       "YearRemodAdd                0\n",
       "MasVnrArea                  0\n",
       "BsmtUnfSF                   1\n",
       "TotalBsmtSF                 1\n",
       "1stFlrSF                    0\n",
       "2ndFlrSF                    0\n",
       "LowQualFinSF                0\n",
       "GrLivArea                   0\n",
       "BsmtFullBath                2\n",
       "BsmtHalfBath                2\n",
       "FullBath                    0\n",
       "HalfBath                    0\n",
       "BedroomAbvGr                0\n",
       "KitchenAbvGr                0\n",
       "TotRmsAbvGrd                0\n",
       "Fireplaces                  0\n",
       "GarageYrBlt               159\n",
       "GarageCars                  1\n",
       "GarageArea                  1\n",
       "WoodDeckSF                  0\n",
       "OpenPorchSF                 0\n",
       "EnclosedPorch               0\n",
       "3SsnPorch                   0\n",
       "ScreenPorch                 0\n",
       "PoolArea                    0\n",
       "MiscVal                     0\n",
       "SalePrice                1459\n",
       "differenceYrSoldBuilt       0\n",
       "houseAge                    0\n",
       "AgeYrSold                   0\n",
       "dtype: int64"
      ]
     },
     "execution_count": 80,
     "metadata": {},
     "output_type": "execute_result"
    }
   ],
   "source": [
    "full_data.select_dtypes(include=np.number).isna().sum()"
   ]
  },
  {
   "cell_type": "code",
   "execution_count": 81,
   "metadata": {
    "execution": {
     "iopub.execute_input": "2021-07-25T07:00:39.089213Z",
     "iopub.status.busy": "2021-07-25T07:00:39.088640Z",
     "iopub.status.idle": "2021-07-25T07:00:39.098375Z",
     "shell.execute_reply": "2021-07-25T07:00:39.097421Z",
     "shell.execute_reply.started": "2021-07-25T07:00:39.089162Z"
    },
    "papermill": {
     "duration": null,
     "end_time": null,
     "exception": null,
     "start_time": null,
     "status": "pending"
    },
    "tags": []
   },
   "outputs": [],
   "source": [
    "full_data[['BsmtUnfSF','TotalBsmtSF', 'BsmtFullBath', 'BsmtHalfBath', 'GarageCars', 'GarageArea']] = full_data[['BsmtUnfSF','TotalBsmtSF', 'BsmtFullBath', 'BsmtHalfBath', 'GarageCars', 'GarageArea']].fillna(0)"
   ]
  },
  {
   "cell_type": "code",
   "execution_count": 82,
   "metadata": {
    "execution": {
     "iopub.execute_input": "2021-07-25T07:00:39.422307Z",
     "iopub.status.busy": "2021-07-25T07:00:39.421732Z",
     "iopub.status.idle": "2021-07-25T07:00:39.436922Z",
     "shell.execute_reply": "2021-07-25T07:00:39.435826Z",
     "shell.execute_reply.started": "2021-07-25T07:00:39.422254Z"
    },
    "papermill": {
     "duration": null,
     "end_time": null,
     "exception": null,
     "start_time": null,
     "status": "pending"
    },
    "tags": []
   },
   "outputs": [
    {
     "data": {
      "text/plain": [
       "Id                          0\n",
       "LotFrontage                 0\n",
       "LotArea                     0\n",
       "OverallQual                 0\n",
       "OverallCond                 0\n",
       "YearRemodAdd                0\n",
       "MasVnrArea                  0\n",
       "BsmtUnfSF                   0\n",
       "TotalBsmtSF                 0\n",
       "1stFlrSF                    0\n",
       "2ndFlrSF                    0\n",
       "LowQualFinSF                0\n",
       "GrLivArea                   0\n",
       "BsmtFullBath                0\n",
       "BsmtHalfBath                0\n",
       "FullBath                    0\n",
       "HalfBath                    0\n",
       "BedroomAbvGr                0\n",
       "KitchenAbvGr                0\n",
       "TotRmsAbvGrd                0\n",
       "Fireplaces                  0\n",
       "GarageYrBlt               159\n",
       "GarageCars                  0\n",
       "GarageArea                  0\n",
       "WoodDeckSF                  0\n",
       "OpenPorchSF                 0\n",
       "EnclosedPorch               0\n",
       "3SsnPorch                   0\n",
       "ScreenPorch                 0\n",
       "PoolArea                    0\n",
       "MiscVal                     0\n",
       "SalePrice                1459\n",
       "differenceYrSoldBuilt       0\n",
       "houseAge                    0\n",
       "AgeYrSold                   0\n",
       "dtype: int64"
      ]
     },
     "execution_count": 82,
     "metadata": {},
     "output_type": "execute_result"
    }
   ],
   "source": [
    "full_data.select_dtypes(include=np.number).isna().sum()"
   ]
  },
  {
   "cell_type": "code",
   "execution_count": 83,
   "metadata": {
    "execution": {
     "iopub.execute_input": "2021-07-25T07:00:39.770326Z",
     "iopub.status.busy": "2021-07-25T07:00:39.769835Z",
     "iopub.status.idle": "2021-07-25T07:00:39.774790Z",
     "shell.execute_reply": "2021-07-25T07:00:39.773902Z",
     "shell.execute_reply.started": "2021-07-25T07:00:39.770294Z"
    },
    "papermill": {
     "duration": null,
     "end_time": null,
     "exception": null,
     "start_time": null,
     "status": "pending"
    },
    "tags": []
   },
   "outputs": [],
   "source": [
    "full_data['GarageYrBlt'] = full_data['GarageYrBlt'].fillna(0)"
   ]
  },
  {
   "cell_type": "code",
   "execution_count": 84,
   "metadata": {
    "execution": {
     "iopub.execute_input": "2021-07-25T07:00:40.121180Z",
     "iopub.status.busy": "2021-07-25T07:00:40.120796Z",
     "iopub.status.idle": "2021-07-25T07:00:40.135283Z",
     "shell.execute_reply": "2021-07-25T07:00:40.134355Z",
     "shell.execute_reply.started": "2021-07-25T07:00:40.121145Z"
    },
    "papermill": {
     "duration": null,
     "end_time": null,
     "exception": null,
     "start_time": null,
     "status": "pending"
    },
    "tags": []
   },
   "outputs": [
    {
     "data": {
      "text/plain": [
       "Id                          0\n",
       "LotFrontage                 0\n",
       "LotArea                     0\n",
       "OverallQual                 0\n",
       "OverallCond                 0\n",
       "YearRemodAdd                0\n",
       "MasVnrArea                  0\n",
       "BsmtUnfSF                   0\n",
       "TotalBsmtSF                 0\n",
       "1stFlrSF                    0\n",
       "2ndFlrSF                    0\n",
       "LowQualFinSF                0\n",
       "GrLivArea                   0\n",
       "BsmtFullBath                0\n",
       "BsmtHalfBath                0\n",
       "FullBath                    0\n",
       "HalfBath                    0\n",
       "BedroomAbvGr                0\n",
       "KitchenAbvGr                0\n",
       "TotRmsAbvGrd                0\n",
       "Fireplaces                  0\n",
       "GarageYrBlt                 0\n",
       "GarageCars                  0\n",
       "GarageArea                  0\n",
       "WoodDeckSF                  0\n",
       "OpenPorchSF                 0\n",
       "EnclosedPorch               0\n",
       "3SsnPorch                   0\n",
       "ScreenPorch                 0\n",
       "PoolArea                    0\n",
       "MiscVal                     0\n",
       "SalePrice                1459\n",
       "differenceYrSoldBuilt       0\n",
       "houseAge                    0\n",
       "AgeYrSold                   0\n",
       "dtype: int64"
      ]
     },
     "execution_count": 84,
     "metadata": {},
     "output_type": "execute_result"
    }
   ],
   "source": [
    "full_data.select_dtypes(include=np.number).isna().sum()"
   ]
  },
  {
   "cell_type": "code",
   "execution_count": 85,
   "metadata": {
    "execution": {
     "iopub.execute_input": "2021-07-25T07:00:40.557551Z",
     "iopub.status.busy": "2021-07-25T07:00:40.556926Z",
     "iopub.status.idle": "2021-07-25T07:00:40.574758Z",
     "shell.execute_reply": "2021-07-25T07:00:40.573853Z",
     "shell.execute_reply.started": "2021-07-25T07:00:40.557514Z"
    },
    "papermill": {
     "duration": null,
     "end_time": null,
     "exception": null,
     "start_time": null,
     "status": "pending"
    },
    "tags": []
   },
   "outputs": [],
   "source": [
    "corr_num = full_data.select_dtypes(include=np.number).corr()['SalePrice']"
   ]
  },
  {
   "cell_type": "code",
   "execution_count": 86,
   "metadata": {
    "execution": {
     "iopub.execute_input": "2021-07-25T07:00:41.068371Z",
     "iopub.status.busy": "2021-07-25T07:00:41.067867Z",
     "iopub.status.idle": "2021-07-25T07:00:41.075470Z",
     "shell.execute_reply": "2021-07-25T07:00:41.074600Z",
     "shell.execute_reply.started": "2021-07-25T07:00:41.068338Z"
    },
    "papermill": {
     "duration": null,
     "end_time": null,
     "exception": null,
     "start_time": null,
     "status": "pending"
    },
    "tags": []
   },
   "outputs": [
    {
     "data": {
      "text/plain": [
       "['LotFrontage',\n",
       " 'OverallQual',\n",
       " 'MasVnrArea',\n",
       " 'TotalBsmtSF',\n",
       " '1stFlrSF',\n",
       " '2ndFlrSF',\n",
       " 'GrLivArea',\n",
       " 'FullBath',\n",
       " 'HalfBath',\n",
       " 'TotRmsAbvGrd',\n",
       " 'Fireplaces',\n",
       " 'GarageCars',\n",
       " 'GarageArea',\n",
       " 'WoodDeckSF',\n",
       " 'OpenPorchSF',\n",
       " 'SalePrice']"
      ]
     },
     "execution_count": 86,
     "metadata": {},
     "output_type": "execute_result"
    }
   ],
   "source": [
    "list(corr_num[corr_num>0.3].index.values)"
   ]
  },
  {
   "cell_type": "code",
   "execution_count": 87,
   "metadata": {
    "execution": {
     "iopub.execute_input": "2021-07-25T07:00:41.669838Z",
     "iopub.status.busy": "2021-07-25T07:00:41.669189Z",
     "iopub.status.idle": "2021-07-25T07:00:41.676238Z",
     "shell.execute_reply": "2021-07-25T07:00:41.675286Z",
     "shell.execute_reply.started": "2021-07-25T07:00:41.669800Z"
    },
    "papermill": {
     "duration": null,
     "end_time": null,
     "exception": null,
     "start_time": null,
     "status": "pending"
    },
    "tags": []
   },
   "outputs": [
    {
     "data": {
      "text/plain": [
       "['YearRemodAdd', 'GarageYrBlt', 'differenceYrSoldBuilt', 'houseAge']"
      ]
     },
     "execution_count": 87,
     "metadata": {},
     "output_type": "execute_result"
    }
   ],
   "source": [
    "list(corr_num[corr_num<-0.3].index)"
   ]
  },
  {
   "cell_type": "code",
   "execution_count": 88,
   "metadata": {
    "execution": {
     "iopub.execute_input": "2021-07-25T07:00:42.294641Z",
     "iopub.status.busy": "2021-07-25T07:00:42.294233Z",
     "iopub.status.idle": "2021-07-25T07:00:42.299338Z",
     "shell.execute_reply": "2021-07-25T07:00:42.298585Z",
     "shell.execute_reply.started": "2021-07-25T07:00:42.294604Z"
    },
    "papermill": {
     "duration": null,
     "end_time": null,
     "exception": null,
     "start_time": null,
     "status": "pending"
    },
    "tags": []
   },
   "outputs": [],
   "source": [
    "selected_num_column = ['LotFrontage',\n",
    " 'OverallQual',\n",
    " 'MasVnrArea',\n",
    " 'TotalBsmtSF',\n",
    " '1stFlrSF',\n",
    " '2ndFlrSF',\n",
    " 'GrLivArea',\n",
    " 'FullBath',\n",
    " 'HalfBath',\n",
    " 'TotRmsAbvGrd',\n",
    " 'Fireplaces',\n",
    " 'GarageCars',\n",
    " 'GarageArea',\n",
    " 'WoodDeckSF',\n",
    " 'OpenPorchSF','YearRemodAdd', 'GarageYrBlt', 'differenceYrSoldBuilt', 'houseAge']"
   ]
  },
  {
   "cell_type": "code",
   "execution_count": 89,
   "metadata": {
    "execution": {
     "iopub.execute_input": "2021-07-25T07:00:42.960257Z",
     "iopub.status.busy": "2021-07-25T07:00:42.959697Z",
     "iopub.status.idle": "2021-07-25T07:00:43.001578Z",
     "shell.execute_reply": "2021-07-25T07:00:43.000685Z",
     "shell.execute_reply.started": "2021-07-25T07:00:42.960220Z"
    },
    "papermill": {
     "duration": null,
     "end_time": null,
     "exception": null,
     "start_time": null,
     "status": "pending"
    },
    "tags": []
   },
   "outputs": [
    {
     "data": {
      "text/html": [
       "<div>\n",
       "<style scoped>\n",
       "    .dataframe tbody tr th:only-of-type {\n",
       "        vertical-align: middle;\n",
       "    }\n",
       "\n",
       "    .dataframe tbody tr th {\n",
       "        vertical-align: top;\n",
       "    }\n",
       "\n",
       "    .dataframe thead th {\n",
       "        text-align: right;\n",
       "    }\n",
       "</style>\n",
       "<table border=\"1\" class=\"dataframe\">\n",
       "  <thead>\n",
       "    <tr style=\"text-align: right;\">\n",
       "      <th></th>\n",
       "      <th>MSSubClass</th>\n",
       "      <th>MSZoning</th>\n",
       "      <th>Street</th>\n",
       "      <th>Alley</th>\n",
       "      <th>LotShape</th>\n",
       "      <th>LandContour</th>\n",
       "      <th>Utilities</th>\n",
       "      <th>LotConfig</th>\n",
       "      <th>LandSlope</th>\n",
       "      <th>Neighborhood</th>\n",
       "      <th>...</th>\n",
       "      <th>GarageType</th>\n",
       "      <th>GarageFinish</th>\n",
       "      <th>GarageQual</th>\n",
       "      <th>GarageCond</th>\n",
       "      <th>PavedDrive</th>\n",
       "      <th>PoolQC</th>\n",
       "      <th>Fence</th>\n",
       "      <th>MiscFeature</th>\n",
       "      <th>SaleType</th>\n",
       "      <th>SaleCondition</th>\n",
       "    </tr>\n",
       "  </thead>\n",
       "  <tbody>\n",
       "    <tr>\n",
       "      <th>0</th>\n",
       "      <td>60</td>\n",
       "      <td>RL</td>\n",
       "      <td>Pave</td>\n",
       "      <td>None</td>\n",
       "      <td>Reg</td>\n",
       "      <td>Lvl</td>\n",
       "      <td>AllPub</td>\n",
       "      <td>Inside</td>\n",
       "      <td>Gtl</td>\n",
       "      <td>CollgCr</td>\n",
       "      <td>...</td>\n",
       "      <td>Attchd</td>\n",
       "      <td>RFn</td>\n",
       "      <td>TA</td>\n",
       "      <td>TA</td>\n",
       "      <td>Y</td>\n",
       "      <td>None</td>\n",
       "      <td>None</td>\n",
       "      <td>None</td>\n",
       "      <td>WD</td>\n",
       "      <td>Normal</td>\n",
       "    </tr>\n",
       "    <tr>\n",
       "      <th>1</th>\n",
       "      <td>20</td>\n",
       "      <td>RL</td>\n",
       "      <td>Pave</td>\n",
       "      <td>None</td>\n",
       "      <td>Reg</td>\n",
       "      <td>Lvl</td>\n",
       "      <td>AllPub</td>\n",
       "      <td>FR2</td>\n",
       "      <td>Gtl</td>\n",
       "      <td>Veenker</td>\n",
       "      <td>...</td>\n",
       "      <td>Attchd</td>\n",
       "      <td>RFn</td>\n",
       "      <td>TA</td>\n",
       "      <td>TA</td>\n",
       "      <td>Y</td>\n",
       "      <td>None</td>\n",
       "      <td>None</td>\n",
       "      <td>None</td>\n",
       "      <td>WD</td>\n",
       "      <td>Normal</td>\n",
       "    </tr>\n",
       "    <tr>\n",
       "      <th>2</th>\n",
       "      <td>60</td>\n",
       "      <td>RL</td>\n",
       "      <td>Pave</td>\n",
       "      <td>None</td>\n",
       "      <td>IR1</td>\n",
       "      <td>Lvl</td>\n",
       "      <td>AllPub</td>\n",
       "      <td>Inside</td>\n",
       "      <td>Gtl</td>\n",
       "      <td>CollgCr</td>\n",
       "      <td>...</td>\n",
       "      <td>Attchd</td>\n",
       "      <td>RFn</td>\n",
       "      <td>TA</td>\n",
       "      <td>TA</td>\n",
       "      <td>Y</td>\n",
       "      <td>None</td>\n",
       "      <td>None</td>\n",
       "      <td>None</td>\n",
       "      <td>WD</td>\n",
       "      <td>Normal</td>\n",
       "    </tr>\n",
       "    <tr>\n",
       "      <th>3</th>\n",
       "      <td>70</td>\n",
       "      <td>RL</td>\n",
       "      <td>Pave</td>\n",
       "      <td>None</td>\n",
       "      <td>IR1</td>\n",
       "      <td>Lvl</td>\n",
       "      <td>AllPub</td>\n",
       "      <td>Corner</td>\n",
       "      <td>Gtl</td>\n",
       "      <td>Crawfor</td>\n",
       "      <td>...</td>\n",
       "      <td>Detchd</td>\n",
       "      <td>Unf</td>\n",
       "      <td>TA</td>\n",
       "      <td>TA</td>\n",
       "      <td>Y</td>\n",
       "      <td>None</td>\n",
       "      <td>None</td>\n",
       "      <td>None</td>\n",
       "      <td>WD</td>\n",
       "      <td>Abnorml</td>\n",
       "    </tr>\n",
       "    <tr>\n",
       "      <th>4</th>\n",
       "      <td>60</td>\n",
       "      <td>RL</td>\n",
       "      <td>Pave</td>\n",
       "      <td>None</td>\n",
       "      <td>IR1</td>\n",
       "      <td>Lvl</td>\n",
       "      <td>AllPub</td>\n",
       "      <td>FR2</td>\n",
       "      <td>Gtl</td>\n",
       "      <td>NoRidge</td>\n",
       "      <td>...</td>\n",
       "      <td>Attchd</td>\n",
       "      <td>RFn</td>\n",
       "      <td>TA</td>\n",
       "      <td>TA</td>\n",
       "      <td>Y</td>\n",
       "      <td>None</td>\n",
       "      <td>None</td>\n",
       "      <td>None</td>\n",
       "      <td>WD</td>\n",
       "      <td>Normal</td>\n",
       "    </tr>\n",
       "    <tr>\n",
       "      <th>...</th>\n",
       "      <td>...</td>\n",
       "      <td>...</td>\n",
       "      <td>...</td>\n",
       "      <td>...</td>\n",
       "      <td>...</td>\n",
       "      <td>...</td>\n",
       "      <td>...</td>\n",
       "      <td>...</td>\n",
       "      <td>...</td>\n",
       "      <td>...</td>\n",
       "      <td>...</td>\n",
       "      <td>...</td>\n",
       "      <td>...</td>\n",
       "      <td>...</td>\n",
       "      <td>...</td>\n",
       "      <td>...</td>\n",
       "      <td>...</td>\n",
       "      <td>...</td>\n",
       "      <td>...</td>\n",
       "      <td>...</td>\n",
       "      <td>...</td>\n",
       "    </tr>\n",
       "    <tr>\n",
       "      <th>2913</th>\n",
       "      <td>160</td>\n",
       "      <td>RM</td>\n",
       "      <td>Pave</td>\n",
       "      <td>None</td>\n",
       "      <td>Reg</td>\n",
       "      <td>Lvl</td>\n",
       "      <td>AllPub</td>\n",
       "      <td>Inside</td>\n",
       "      <td>Gtl</td>\n",
       "      <td>MeadowV</td>\n",
       "      <td>...</td>\n",
       "      <td>None</td>\n",
       "      <td>None</td>\n",
       "      <td>None</td>\n",
       "      <td>None</td>\n",
       "      <td>Y</td>\n",
       "      <td>None</td>\n",
       "      <td>None</td>\n",
       "      <td>None</td>\n",
       "      <td>WD</td>\n",
       "      <td>Normal</td>\n",
       "    </tr>\n",
       "    <tr>\n",
       "      <th>2914</th>\n",
       "      <td>160</td>\n",
       "      <td>RM</td>\n",
       "      <td>Pave</td>\n",
       "      <td>None</td>\n",
       "      <td>Reg</td>\n",
       "      <td>Lvl</td>\n",
       "      <td>AllPub</td>\n",
       "      <td>Inside</td>\n",
       "      <td>Gtl</td>\n",
       "      <td>MeadowV</td>\n",
       "      <td>...</td>\n",
       "      <td>CarPort</td>\n",
       "      <td>Unf</td>\n",
       "      <td>TA</td>\n",
       "      <td>TA</td>\n",
       "      <td>Y</td>\n",
       "      <td>None</td>\n",
       "      <td>None</td>\n",
       "      <td>None</td>\n",
       "      <td>WD</td>\n",
       "      <td>Abnorml</td>\n",
       "    </tr>\n",
       "    <tr>\n",
       "      <th>2915</th>\n",
       "      <td>20</td>\n",
       "      <td>RL</td>\n",
       "      <td>Pave</td>\n",
       "      <td>None</td>\n",
       "      <td>Reg</td>\n",
       "      <td>Lvl</td>\n",
       "      <td>AllPub</td>\n",
       "      <td>Inside</td>\n",
       "      <td>Gtl</td>\n",
       "      <td>Mitchel</td>\n",
       "      <td>...</td>\n",
       "      <td>Detchd</td>\n",
       "      <td>Unf</td>\n",
       "      <td>TA</td>\n",
       "      <td>TA</td>\n",
       "      <td>Y</td>\n",
       "      <td>None</td>\n",
       "      <td>None</td>\n",
       "      <td>None</td>\n",
       "      <td>WD</td>\n",
       "      <td>Abnorml</td>\n",
       "    </tr>\n",
       "    <tr>\n",
       "      <th>2916</th>\n",
       "      <td>85</td>\n",
       "      <td>RL</td>\n",
       "      <td>Pave</td>\n",
       "      <td>None</td>\n",
       "      <td>Reg</td>\n",
       "      <td>Lvl</td>\n",
       "      <td>AllPub</td>\n",
       "      <td>Inside</td>\n",
       "      <td>Gtl</td>\n",
       "      <td>Mitchel</td>\n",
       "      <td>...</td>\n",
       "      <td>None</td>\n",
       "      <td>None</td>\n",
       "      <td>None</td>\n",
       "      <td>None</td>\n",
       "      <td>Y</td>\n",
       "      <td>None</td>\n",
       "      <td>MnPrv</td>\n",
       "      <td>Shed</td>\n",
       "      <td>WD</td>\n",
       "      <td>Normal</td>\n",
       "    </tr>\n",
       "    <tr>\n",
       "      <th>2917</th>\n",
       "      <td>60</td>\n",
       "      <td>RL</td>\n",
       "      <td>Pave</td>\n",
       "      <td>None</td>\n",
       "      <td>Reg</td>\n",
       "      <td>Lvl</td>\n",
       "      <td>AllPub</td>\n",
       "      <td>Inside</td>\n",
       "      <td>Mod</td>\n",
       "      <td>Mitchel</td>\n",
       "      <td>...</td>\n",
       "      <td>Attchd</td>\n",
       "      <td>Fin</td>\n",
       "      <td>TA</td>\n",
       "      <td>TA</td>\n",
       "      <td>Y</td>\n",
       "      <td>None</td>\n",
       "      <td>None</td>\n",
       "      <td>None</td>\n",
       "      <td>WD</td>\n",
       "      <td>Normal</td>\n",
       "    </tr>\n",
       "  </tbody>\n",
       "</table>\n",
       "<p>2918 rows × 44 columns</p>\n",
       "</div>"
      ],
      "text/plain": [
       "     MSSubClass MSZoning Street Alley LotShape LandContour Utilities  \\\n",
       "0            60       RL   Pave  None      Reg         Lvl    AllPub   \n",
       "1            20       RL   Pave  None      Reg         Lvl    AllPub   \n",
       "2            60       RL   Pave  None      IR1         Lvl    AllPub   \n",
       "3            70       RL   Pave  None      IR1         Lvl    AllPub   \n",
       "4            60       RL   Pave  None      IR1         Lvl    AllPub   \n",
       "...         ...      ...    ...   ...      ...         ...       ...   \n",
       "2913        160       RM   Pave  None      Reg         Lvl    AllPub   \n",
       "2914        160       RM   Pave  None      Reg         Lvl    AllPub   \n",
       "2915         20       RL   Pave  None      Reg         Lvl    AllPub   \n",
       "2916         85       RL   Pave  None      Reg         Lvl    AllPub   \n",
       "2917         60       RL   Pave  None      Reg         Lvl    AllPub   \n",
       "\n",
       "     LotConfig LandSlope Neighborhood  ... GarageType GarageFinish GarageQual  \\\n",
       "0       Inside       Gtl      CollgCr  ...     Attchd          RFn         TA   \n",
       "1          FR2       Gtl      Veenker  ...     Attchd          RFn         TA   \n",
       "2       Inside       Gtl      CollgCr  ...     Attchd          RFn         TA   \n",
       "3       Corner       Gtl      Crawfor  ...     Detchd          Unf         TA   \n",
       "4          FR2       Gtl      NoRidge  ...     Attchd          RFn         TA   \n",
       "...        ...       ...          ...  ...        ...          ...        ...   \n",
       "2913    Inside       Gtl      MeadowV  ...       None         None       None   \n",
       "2914    Inside       Gtl      MeadowV  ...    CarPort          Unf         TA   \n",
       "2915    Inside       Gtl      Mitchel  ...     Detchd          Unf         TA   \n",
       "2916    Inside       Gtl      Mitchel  ...       None         None       None   \n",
       "2917    Inside       Mod      Mitchel  ...     Attchd          Fin         TA   \n",
       "\n",
       "     GarageCond PavedDrive PoolQC  Fence MiscFeature SaleType SaleCondition  \n",
       "0            TA          Y   None   None        None       WD        Normal  \n",
       "1            TA          Y   None   None        None       WD        Normal  \n",
       "2            TA          Y   None   None        None       WD        Normal  \n",
       "3            TA          Y   None   None        None       WD       Abnorml  \n",
       "4            TA          Y   None   None        None       WD        Normal  \n",
       "...         ...        ...    ...    ...         ...      ...           ...  \n",
       "2913       None          Y   None   None        None       WD        Normal  \n",
       "2914         TA          Y   None   None        None       WD       Abnorml  \n",
       "2915         TA          Y   None   None        None       WD       Abnorml  \n",
       "2916       None          Y   None  MnPrv        Shed       WD        Normal  \n",
       "2917         TA          Y   None   None        None       WD        Normal  \n",
       "\n",
       "[2918 rows x 44 columns]"
      ]
     },
     "execution_count": 89,
     "metadata": {},
     "output_type": "execute_result"
    }
   ],
   "source": [
    "full_data.select_dtypes(exclude=np.number)"
   ]
  },
  {
   "cell_type": "code",
   "execution_count": 90,
   "metadata": {
    "execution": {
     "iopub.execute_input": "2021-07-25T07:00:43.471179Z",
     "iopub.status.busy": "2021-07-25T07:00:43.470623Z",
     "iopub.status.idle": "2021-07-25T07:00:43.529936Z",
     "shell.execute_reply": "2021-07-25T07:00:43.529178Z",
     "shell.execute_reply.started": "2021-07-25T07:00:43.471124Z"
    },
    "papermill": {
     "duration": null,
     "end_time": null,
     "exception": null,
     "start_time": null,
     "status": "pending"
    },
    "tags": []
   },
   "outputs": [],
   "source": [
    "category_encoded = pd.get_dummies(full_data.select_dtypes(exclude=np.number))"
   ]
  },
  {
   "cell_type": "code",
   "execution_count": 91,
   "metadata": {
    "execution": {
     "iopub.execute_input": "2021-07-25T07:00:44.015004Z",
     "iopub.status.busy": "2021-07-25T07:00:44.014382Z",
     "iopub.status.idle": "2021-07-25T07:00:44.025875Z",
     "shell.execute_reply": "2021-07-25T07:00:44.024801Z",
     "shell.execute_reply.started": "2021-07-25T07:00:44.014950Z"
    },
    "papermill": {
     "duration": null,
     "end_time": null,
     "exception": null,
     "start_time": null,
     "status": "pending"
    },
    "tags": []
   },
   "outputs": [],
   "source": [
    "preprocessed_data = pd.concat([full_data[selected_num_column], category_encoded, full_data[['Id','SalePrice']]] , axis = 1)"
   ]
  },
  {
   "cell_type": "code",
   "execution_count": 92,
   "metadata": {
    "execution": {
     "iopub.execute_input": "2021-07-25T07:00:44.471759Z",
     "iopub.status.busy": "2021-07-25T07:00:44.471187Z",
     "iopub.status.idle": "2021-07-25T07:00:44.482889Z",
     "shell.execute_reply": "2021-07-25T07:00:44.482029Z",
     "shell.execute_reply.started": "2021-07-25T07:00:44.471705Z"
    },
    "papermill": {
     "duration": null,
     "end_time": null,
     "exception": null,
     "start_time": null,
     "status": "pending"
    },
    "tags": []
   },
   "outputs": [],
   "source": [
    "train_processed = preprocessed_data.dropna(subset=['SalePrice'])"
   ]
  },
  {
   "cell_type": "code",
   "execution_count": 93,
   "metadata": {
    "execution": {
     "iopub.execute_input": "2021-07-25T07:00:45.343318Z",
     "iopub.status.busy": "2021-07-25T07:00:45.342834Z",
     "iopub.status.idle": "2021-07-25T07:00:45.351846Z",
     "shell.execute_reply": "2021-07-25T07:00:45.350807Z",
     "shell.execute_reply.started": "2021-07-25T07:00:45.343284Z"
    },
    "papermill": {
     "duration": null,
     "end_time": null,
     "exception": null,
     "start_time": null,
     "status": "pending"
    },
    "tags": []
   },
   "outputs": [],
   "source": [
    "test_processed = preprocessed_data[preprocessed_data['SalePrice'].isna()]"
   ]
  },
  {
   "cell_type": "code",
   "execution_count": 94,
   "metadata": {
    "execution": {
     "iopub.execute_input": "2021-07-25T07:00:46.053962Z",
     "iopub.status.busy": "2021-07-25T07:00:46.053618Z",
     "iopub.status.idle": "2021-07-25T07:00:46.062353Z",
     "shell.execute_reply": "2021-07-25T07:00:46.061407Z",
     "shell.execute_reply.started": "2021-07-25T07:00:46.053930Z"
    },
    "papermill": {
     "duration": null,
     "end_time": null,
     "exception": null,
     "start_time": null,
     "status": "pending"
    },
    "tags": []
   },
   "outputs": [],
   "source": [
    "train_X = train_processed.drop(columns=[\"Id\", \"SalePrice\"])\n",
    "train_y = train_processed['SalePrice']\n",
    "test_X = test_processed.drop(columns=[\"Id\", \"SalePrice\"])"
   ]
  },
  {
   "cell_type": "code",
   "execution_count": 95,
   "metadata": {
    "execution": {
     "iopub.execute_input": "2021-07-25T07:00:47.082544Z",
     "iopub.status.busy": "2021-07-25T07:00:47.082152Z",
     "iopub.status.idle": "2021-07-25T07:00:47.117300Z",
     "shell.execute_reply": "2021-07-25T07:00:47.116336Z",
     "shell.execute_reply.started": "2021-07-25T07:00:47.082503Z"
    },
    "papermill": {
     "duration": null,
     "end_time": null,
     "exception": null,
     "start_time": null,
     "status": "pending"
    },
    "tags": []
   },
   "outputs": [
    {
     "data": {
      "text/html": [
       "<div>\n",
       "<style scoped>\n",
       "    .dataframe tbody tr th:only-of-type {\n",
       "        vertical-align: middle;\n",
       "    }\n",
       "\n",
       "    .dataframe tbody tr th {\n",
       "        vertical-align: top;\n",
       "    }\n",
       "\n",
       "    .dataframe thead th {\n",
       "        text-align: right;\n",
       "    }\n",
       "</style>\n",
       "<table border=\"1\" class=\"dataframe\">\n",
       "  <thead>\n",
       "    <tr style=\"text-align: right;\">\n",
       "      <th></th>\n",
       "      <th>LotFrontage</th>\n",
       "      <th>OverallQual</th>\n",
       "      <th>MasVnrArea</th>\n",
       "      <th>TotalBsmtSF</th>\n",
       "      <th>1stFlrSF</th>\n",
       "      <th>2ndFlrSF</th>\n",
       "      <th>GrLivArea</th>\n",
       "      <th>FullBath</th>\n",
       "      <th>HalfBath</th>\n",
       "      <th>TotRmsAbvGrd</th>\n",
       "      <th>...</th>\n",
       "      <th>SaleType_New</th>\n",
       "      <th>SaleType_None</th>\n",
       "      <th>SaleType_Oth</th>\n",
       "      <th>SaleType_WD</th>\n",
       "      <th>SaleCondition_Abnorml</th>\n",
       "      <th>SaleCondition_AdjLand</th>\n",
       "      <th>SaleCondition_Alloca</th>\n",
       "      <th>SaleCondition_Family</th>\n",
       "      <th>SaleCondition_Normal</th>\n",
       "      <th>SaleCondition_Partial</th>\n",
       "    </tr>\n",
       "  </thead>\n",
       "  <tbody>\n",
       "    <tr>\n",
       "      <th>1459</th>\n",
       "      <td>80.0</td>\n",
       "      <td>5</td>\n",
       "      <td>0.0</td>\n",
       "      <td>882.0</td>\n",
       "      <td>896</td>\n",
       "      <td>0</td>\n",
       "      <td>896</td>\n",
       "      <td>1</td>\n",
       "      <td>0</td>\n",
       "      <td>5</td>\n",
       "      <td>...</td>\n",
       "      <td>0</td>\n",
       "      <td>0</td>\n",
       "      <td>0</td>\n",
       "      <td>1</td>\n",
       "      <td>0</td>\n",
       "      <td>0</td>\n",
       "      <td>0</td>\n",
       "      <td>0</td>\n",
       "      <td>1</td>\n",
       "      <td>0</td>\n",
       "    </tr>\n",
       "    <tr>\n",
       "      <th>1460</th>\n",
       "      <td>81.0</td>\n",
       "      <td>6</td>\n",
       "      <td>108.0</td>\n",
       "      <td>1329.0</td>\n",
       "      <td>1329</td>\n",
       "      <td>0</td>\n",
       "      <td>1329</td>\n",
       "      <td>1</td>\n",
       "      <td>1</td>\n",
       "      <td>6</td>\n",
       "      <td>...</td>\n",
       "      <td>0</td>\n",
       "      <td>0</td>\n",
       "      <td>0</td>\n",
       "      <td>1</td>\n",
       "      <td>0</td>\n",
       "      <td>0</td>\n",
       "      <td>0</td>\n",
       "      <td>0</td>\n",
       "      <td>1</td>\n",
       "      <td>0</td>\n",
       "    </tr>\n",
       "    <tr>\n",
       "      <th>1461</th>\n",
       "      <td>74.0</td>\n",
       "      <td>5</td>\n",
       "      <td>0.0</td>\n",
       "      <td>928.0</td>\n",
       "      <td>928</td>\n",
       "      <td>701</td>\n",
       "      <td>1629</td>\n",
       "      <td>2</td>\n",
       "      <td>1</td>\n",
       "      <td>6</td>\n",
       "      <td>...</td>\n",
       "      <td>0</td>\n",
       "      <td>0</td>\n",
       "      <td>0</td>\n",
       "      <td>1</td>\n",
       "      <td>0</td>\n",
       "      <td>0</td>\n",
       "      <td>0</td>\n",
       "      <td>0</td>\n",
       "      <td>1</td>\n",
       "      <td>0</td>\n",
       "    </tr>\n",
       "    <tr>\n",
       "      <th>1462</th>\n",
       "      <td>78.0</td>\n",
       "      <td>6</td>\n",
       "      <td>20.0</td>\n",
       "      <td>926.0</td>\n",
       "      <td>926</td>\n",
       "      <td>678</td>\n",
       "      <td>1604</td>\n",
       "      <td>2</td>\n",
       "      <td>1</td>\n",
       "      <td>7</td>\n",
       "      <td>...</td>\n",
       "      <td>0</td>\n",
       "      <td>0</td>\n",
       "      <td>0</td>\n",
       "      <td>1</td>\n",
       "      <td>0</td>\n",
       "      <td>0</td>\n",
       "      <td>0</td>\n",
       "      <td>0</td>\n",
       "      <td>1</td>\n",
       "      <td>0</td>\n",
       "    </tr>\n",
       "    <tr>\n",
       "      <th>1463</th>\n",
       "      <td>43.0</td>\n",
       "      <td>8</td>\n",
       "      <td>0.0</td>\n",
       "      <td>1280.0</td>\n",
       "      <td>1280</td>\n",
       "      <td>0</td>\n",
       "      <td>1280</td>\n",
       "      <td>2</td>\n",
       "      <td>0</td>\n",
       "      <td>5</td>\n",
       "      <td>...</td>\n",
       "      <td>0</td>\n",
       "      <td>0</td>\n",
       "      <td>0</td>\n",
       "      <td>1</td>\n",
       "      <td>0</td>\n",
       "      <td>0</td>\n",
       "      <td>0</td>\n",
       "      <td>0</td>\n",
       "      <td>1</td>\n",
       "      <td>0</td>\n",
       "    </tr>\n",
       "    <tr>\n",
       "      <th>...</th>\n",
       "      <td>...</td>\n",
       "      <td>...</td>\n",
       "      <td>...</td>\n",
       "      <td>...</td>\n",
       "      <td>...</td>\n",
       "      <td>...</td>\n",
       "      <td>...</td>\n",
       "      <td>...</td>\n",
       "      <td>...</td>\n",
       "      <td>...</td>\n",
       "      <td>...</td>\n",
       "      <td>...</td>\n",
       "      <td>...</td>\n",
       "      <td>...</td>\n",
       "      <td>...</td>\n",
       "      <td>...</td>\n",
       "      <td>...</td>\n",
       "      <td>...</td>\n",
       "      <td>...</td>\n",
       "      <td>...</td>\n",
       "      <td>...</td>\n",
       "    </tr>\n",
       "    <tr>\n",
       "      <th>2913</th>\n",
       "      <td>21.0</td>\n",
       "      <td>4</td>\n",
       "      <td>0.0</td>\n",
       "      <td>546.0</td>\n",
       "      <td>546</td>\n",
       "      <td>546</td>\n",
       "      <td>1092</td>\n",
       "      <td>1</td>\n",
       "      <td>1</td>\n",
       "      <td>5</td>\n",
       "      <td>...</td>\n",
       "      <td>0</td>\n",
       "      <td>0</td>\n",
       "      <td>0</td>\n",
       "      <td>1</td>\n",
       "      <td>0</td>\n",
       "      <td>0</td>\n",
       "      <td>0</td>\n",
       "      <td>0</td>\n",
       "      <td>1</td>\n",
       "      <td>0</td>\n",
       "    </tr>\n",
       "    <tr>\n",
       "      <th>2914</th>\n",
       "      <td>21.0</td>\n",
       "      <td>4</td>\n",
       "      <td>0.0</td>\n",
       "      <td>546.0</td>\n",
       "      <td>546</td>\n",
       "      <td>546</td>\n",
       "      <td>1092</td>\n",
       "      <td>1</td>\n",
       "      <td>1</td>\n",
       "      <td>6</td>\n",
       "      <td>...</td>\n",
       "      <td>0</td>\n",
       "      <td>0</td>\n",
       "      <td>0</td>\n",
       "      <td>1</td>\n",
       "      <td>1</td>\n",
       "      <td>0</td>\n",
       "      <td>0</td>\n",
       "      <td>0</td>\n",
       "      <td>0</td>\n",
       "      <td>0</td>\n",
       "    </tr>\n",
       "    <tr>\n",
       "      <th>2915</th>\n",
       "      <td>160.0</td>\n",
       "      <td>5</td>\n",
       "      <td>0.0</td>\n",
       "      <td>1224.0</td>\n",
       "      <td>1224</td>\n",
       "      <td>0</td>\n",
       "      <td>1224</td>\n",
       "      <td>1</td>\n",
       "      <td>0</td>\n",
       "      <td>7</td>\n",
       "      <td>...</td>\n",
       "      <td>0</td>\n",
       "      <td>0</td>\n",
       "      <td>0</td>\n",
       "      <td>1</td>\n",
       "      <td>1</td>\n",
       "      <td>0</td>\n",
       "      <td>0</td>\n",
       "      <td>0</td>\n",
       "      <td>0</td>\n",
       "      <td>0</td>\n",
       "    </tr>\n",
       "    <tr>\n",
       "      <th>2916</th>\n",
       "      <td>62.0</td>\n",
       "      <td>5</td>\n",
       "      <td>0.0</td>\n",
       "      <td>912.0</td>\n",
       "      <td>970</td>\n",
       "      <td>0</td>\n",
       "      <td>970</td>\n",
       "      <td>1</td>\n",
       "      <td>0</td>\n",
       "      <td>6</td>\n",
       "      <td>...</td>\n",
       "      <td>0</td>\n",
       "      <td>0</td>\n",
       "      <td>0</td>\n",
       "      <td>1</td>\n",
       "      <td>0</td>\n",
       "      <td>0</td>\n",
       "      <td>0</td>\n",
       "      <td>0</td>\n",
       "      <td>1</td>\n",
       "      <td>0</td>\n",
       "    </tr>\n",
       "    <tr>\n",
       "      <th>2917</th>\n",
       "      <td>74.0</td>\n",
       "      <td>7</td>\n",
       "      <td>94.0</td>\n",
       "      <td>996.0</td>\n",
       "      <td>996</td>\n",
       "      <td>1004</td>\n",
       "      <td>2000</td>\n",
       "      <td>2</td>\n",
       "      <td>1</td>\n",
       "      <td>9</td>\n",
       "      <td>...</td>\n",
       "      <td>0</td>\n",
       "      <td>0</td>\n",
       "      <td>0</td>\n",
       "      <td>1</td>\n",
       "      <td>0</td>\n",
       "      <td>0</td>\n",
       "      <td>0</td>\n",
       "      <td>0</td>\n",
       "      <td>1</td>\n",
       "      <td>0</td>\n",
       "    </tr>\n",
       "  </tbody>\n",
       "</table>\n",
       "<p>1459 rows × 308 columns</p>\n",
       "</div>"
      ],
      "text/plain": [
       "      LotFrontage  OverallQual  MasVnrArea  TotalBsmtSF  1stFlrSF  2ndFlrSF  \\\n",
       "1459         80.0            5         0.0        882.0       896         0   \n",
       "1460         81.0            6       108.0       1329.0      1329         0   \n",
       "1461         74.0            5         0.0        928.0       928       701   \n",
       "1462         78.0            6        20.0        926.0       926       678   \n",
       "1463         43.0            8         0.0       1280.0      1280         0   \n",
       "...           ...          ...         ...          ...       ...       ...   \n",
       "2913         21.0            4         0.0        546.0       546       546   \n",
       "2914         21.0            4         0.0        546.0       546       546   \n",
       "2915        160.0            5         0.0       1224.0      1224         0   \n",
       "2916         62.0            5         0.0        912.0       970         0   \n",
       "2917         74.0            7        94.0        996.0       996      1004   \n",
       "\n",
       "      GrLivArea  FullBath  HalfBath  TotRmsAbvGrd  ...  SaleType_New  \\\n",
       "1459        896         1         0             5  ...             0   \n",
       "1460       1329         1         1             6  ...             0   \n",
       "1461       1629         2         1             6  ...             0   \n",
       "1462       1604         2         1             7  ...             0   \n",
       "1463       1280         2         0             5  ...             0   \n",
       "...         ...       ...       ...           ...  ...           ...   \n",
       "2913       1092         1         1             5  ...             0   \n",
       "2914       1092         1         1             6  ...             0   \n",
       "2915       1224         1         0             7  ...             0   \n",
       "2916        970         1         0             6  ...             0   \n",
       "2917       2000         2         1             9  ...             0   \n",
       "\n",
       "      SaleType_None  SaleType_Oth  SaleType_WD  SaleCondition_Abnorml  \\\n",
       "1459              0             0            1                      0   \n",
       "1460              0             0            1                      0   \n",
       "1461              0             0            1                      0   \n",
       "1462              0             0            1                      0   \n",
       "1463              0             0            1                      0   \n",
       "...             ...           ...          ...                    ...   \n",
       "2913              0             0            1                      0   \n",
       "2914              0             0            1                      1   \n",
       "2915              0             0            1                      1   \n",
       "2916              0             0            1                      0   \n",
       "2917              0             0            1                      0   \n",
       "\n",
       "      SaleCondition_AdjLand  SaleCondition_Alloca  SaleCondition_Family  \\\n",
       "1459                      0                     0                     0   \n",
       "1460                      0                     0                     0   \n",
       "1461                      0                     0                     0   \n",
       "1462                      0                     0                     0   \n",
       "1463                      0                     0                     0   \n",
       "...                     ...                   ...                   ...   \n",
       "2913                      0                     0                     0   \n",
       "2914                      0                     0                     0   \n",
       "2915                      0                     0                     0   \n",
       "2916                      0                     0                     0   \n",
       "2917                      0                     0                     0   \n",
       "\n",
       "      SaleCondition_Normal  SaleCondition_Partial  \n",
       "1459                     1                      0  \n",
       "1460                     1                      0  \n",
       "1461                     1                      0  \n",
       "1462                     1                      0  \n",
       "1463                     1                      0  \n",
       "...                    ...                    ...  \n",
       "2913                     1                      0  \n",
       "2914                     0                      0  \n",
       "2915                     0                      0  \n",
       "2916                     1                      0  \n",
       "2917                     1                      0  \n",
       "\n",
       "[1459 rows x 308 columns]"
      ]
     },
     "execution_count": 95,
     "metadata": {},
     "output_type": "execute_result"
    }
   ],
   "source": [
    "test_X"
   ]
  },
  {
   "cell_type": "code",
   "execution_count": 96,
   "metadata": {
    "execution": {
     "iopub.execute_input": "2021-07-25T07:02:48.783741Z",
     "iopub.status.busy": "2021-07-25T07:02:48.783371Z",
     "iopub.status.idle": "2021-07-25T07:02:48.865268Z",
     "shell.execute_reply": "2021-07-25T07:02:48.863988Z",
     "shell.execute_reply.started": "2021-07-25T07:02:48.783710Z"
    },
    "papermill": {
     "duration": null,
     "end_time": null,
     "exception": null,
     "start_time": null,
     "status": "pending"
    },
    "tags": []
   },
   "outputs": [
    {
     "name": "stdout",
     "output_type": "stream",
     "text": [
      "0.09998452054230977\n"
     ]
    }
   ],
   "source": [
    "model = LinearRegression()\n",
    "linear_res = model_fit(linear_model, train_X, train_y, test_X, test_processed['Id'], \"linear_res_full_data.csv\" )"
   ]
  },
  {
   "cell_type": "code",
   "execution_count": 97,
   "metadata": {
    "execution": {
     "iopub.execute_input": "2021-07-25T07:02:50.034379Z",
     "iopub.status.busy": "2021-07-25T07:02:50.034001Z",
     "iopub.status.idle": "2021-07-25T07:02:50.134557Z",
     "shell.execute_reply": "2021-07-25T07:02:50.133483Z",
     "shell.execute_reply.started": "2021-07-25T07:02:50.034342Z"
    },
    "papermill": {
     "duration": null,
     "end_time": null,
     "exception": null,
     "start_time": null,
     "status": "pending"
    },
    "tags": []
   },
   "outputs": [
    {
     "name": "stdout",
     "output_type": "stream",
     "text": [
      "0.17447333557390957\n"
     ]
    }
   ],
   "source": [
    "model = Lasso(alpha = 0.5)\n",
    "linear_res = model_fit(model, train_X, train_y, test_X, test_processed['Id'].values, \"linear_res_full_data_lasso.csv\" )"
   ]
  },
  {
   "cell_type": "code",
   "execution_count": 98,
   "metadata": {
    "execution": {
     "iopub.execute_input": "2021-07-25T07:02:52.282560Z",
     "iopub.status.busy": "2021-07-25T07:02:52.282201Z",
     "iopub.status.idle": "2021-07-25T07:02:52.403632Z",
     "shell.execute_reply": "2021-07-25T07:02:52.402240Z",
     "shell.execute_reply.started": "2021-07-25T07:02:52.282529Z"
    },
    "papermill": {
     "duration": null,
     "end_time": null,
     "exception": null,
     "start_time": null,
     "status": "pending"
    },
    "tags": []
   },
   "outputs": [
    {
     "name": "stdout",
     "output_type": "stream",
     "text": [
      "0.1007237280136755\n"
     ]
    }
   ],
   "source": [
    "model = Ridge(alpha = 0.5)\n",
    "linear_res = model_fit(model, train_X, train_y, test_X, test_processed['Id'].values, \"linear_res_full_data_ridge.csv\" )"
   ]
  },
  {
   "cell_type": "code",
   "execution_count": 99,
   "metadata": {
    "execution": {
     "iopub.execute_input": "2021-07-25T07:02:53.217648Z",
     "iopub.status.busy": "2021-07-25T07:02:53.217291Z",
     "iopub.status.idle": "2021-07-25T07:02:53.391579Z",
     "shell.execute_reply": "2021-07-25T07:02:53.390329Z",
     "shell.execute_reply.started": "2021-07-25T07:02:53.217616Z"
    },
    "papermill": {
     "duration": null,
     "end_time": null,
     "exception": null,
     "start_time": null,
     "status": "pending"
    },
    "tags": []
   },
   "outputs": [
    {
     "name": "stdout",
     "output_type": "stream",
     "text": [
      "0.17448246526289482\n"
     ]
    }
   ],
   "source": [
    "model = ElasticNet()\n",
    "linear_res = model_fit(model, train_X, train_y, test_X, test_processed['Id'].values, \"linear_res_full_data_elastic.csv\" )"
   ]
  },
  {
   "cell_type": "code",
   "execution_count": 100,
   "metadata": {
    "papermill": {
     "duration": null,
     "end_time": null,
     "exception": null,
     "start_time": null,
     "status": "pending"
    },
    "tags": []
   },
   "outputs": [],
   "source": [
    "from sklearn.preprocessing import PolynomialFeatures\n",
    "\n",
    "def poly_fit(train_X, train_y, test_X, test_y, degree):\n",
    "    poly = PolynomialFeatures(degree = degree)\n",
    "    X_poly = poly.fit_transform(train_X)\n",
    "    lin2 = LinearRegression()\n",
    "    lin2.fit(X_poly,train_y)\n",
    "    #plt.scatter(x = train_X, y = train_y, color=\"b\" )\n",
    "    #plt.scatter(x = test_X, y = test_y, color=\"r\" )\n",
    "    #plt.plot(train_X, lin2.predict(poly.fit_transform(train_X)))\n",
    "    print(\"Train MSE : \",mean_squared_error(train_y, lin2.predict(poly.fit_transform(train_X))))\n",
    "    print(\"Test MSE : \",mean_squared_error(test_y, lin2.predict(poly.fit_transform(test_X))))\n",
    "    train_mse = mean_squared_error(train_y, lin2.predict(poly.fit_transform(train_X)))\n",
    "    test_mse = mean_squared_error(test_y, lin2.predict(poly.fit_transform(test_X)))\n",
    "    return train_mse,test_mse"
   ]
  }
 ],
 "metadata": {
  "kernelspec": {
   "display_name": "Python 3",
   "language": "python",
   "name": "python3"
  },
  "language_info": {
   "codemirror_mode": {
    "name": "ipython",
    "version": 3
   },
   "file_extension": ".py",
   "mimetype": "text/x-python",
   "name": "python",
   "nbconvert_exporter": "python",
   "pygments_lexer": "ipython3",
   "version": "3.8.5"
  },
  "papermill": {
   "default_parameters": {},
   "duration": 20.096489,
   "end_time": "2021-07-25T07:14:22.595971",
   "environment_variables": {},
   "exception": true,
   "input_path": "__notebook__.ipynb",
   "output_path": "__notebook__.ipynb",
   "parameters": {},
   "start_time": "2021-07-25T07:14:02.499482",
   "version": "2.3.3"
  }
 },
 "nbformat": 4,
 "nbformat_minor": 5
}
